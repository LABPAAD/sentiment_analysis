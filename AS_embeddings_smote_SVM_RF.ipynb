{
  "cells": [
    {
      "cell_type": "markdown",
      "metadata": {
        "id": "asvKdwaLZBlh"
      },
      "source": [
        "## Análise de sentimento usando Embeddings\n",
        "\n"
      ]
    },
    {
      "cell_type": "code",
      "execution_count": null,
      "metadata": {
        "colab": {
          "base_uri": "https://localhost:8080/"
        },
        "id": "PTVtZwlEX7y9",
        "outputId": "ca065ab7-cfb8-44c2-fdfd-c77959a5fed7"
      },
      "outputs": [
        {
          "name": "stdout",
          "output_type": "stream",
          "text": [
            "Looking in indexes: https://pypi.org/simple, https://us-python.pkg.dev/colab-wheels/public/simple/\n",
            "Collecting sentence-transformers\n",
            "  Downloading sentence-transformers-2.2.0.tar.gz (79 kB)\n",
            "\u001b[K     |████████████████████████████████| 79 kB 5.0 MB/s \n",
            "\u001b[?25hCollecting transformers<5.0.0,>=4.6.0\n",
            "  Downloading transformers-4.19.2-py3-none-any.whl (4.2 MB)\n",
            "\u001b[K     |████████████████████████████████| 4.2 MB 17.9 MB/s \n",
            "\u001b[?25hRequirement already satisfied: tqdm in /usr/local/lib/python3.7/dist-packages (from sentence-transformers) (4.64.0)\n",
            "Requirement already satisfied: torch>=1.6.0 in /usr/local/lib/python3.7/dist-packages (from sentence-transformers) (1.11.0+cu113)\n",
            "Requirement already satisfied: torchvision in /usr/local/lib/python3.7/dist-packages (from sentence-transformers) (0.12.0+cu113)\n",
            "Requirement already satisfied: numpy in /usr/local/lib/python3.7/dist-packages (from sentence-transformers) (1.21.6)\n",
            "Requirement already satisfied: scikit-learn in /usr/local/lib/python3.7/dist-packages (from sentence-transformers) (1.0.2)\n",
            "Requirement already satisfied: scipy in /usr/local/lib/python3.7/dist-packages (from sentence-transformers) (1.4.1)\n",
            "Requirement already satisfied: nltk in /usr/local/lib/python3.7/dist-packages (from sentence-transformers) (3.2.5)\n",
            "Collecting sentencepiece\n",
            "  Downloading sentencepiece-0.1.96-cp37-cp37m-manylinux_2_17_x86_64.manylinux2014_x86_64.whl (1.2 MB)\n",
            "\u001b[K     |████████████████████████████████| 1.2 MB 29.3 MB/s \n",
            "\u001b[?25hCollecting huggingface-hub\n",
            "  Downloading huggingface_hub-0.7.0-py3-none-any.whl (86 kB)\n",
            "\u001b[K     |████████████████████████████████| 86 kB 5.8 MB/s \n",
            "\u001b[?25hRequirement already satisfied: typing-extensions in /usr/local/lib/python3.7/dist-packages (from torch>=1.6.0->sentence-transformers) (4.2.0)\n",
            "Requirement already satisfied: importlib-metadata in /usr/local/lib/python3.7/dist-packages (from transformers<5.0.0,>=4.6.0->sentence-transformers) (4.11.4)\n",
            "Requirement already satisfied: regex!=2019.12.17 in /usr/local/lib/python3.7/dist-packages (from transformers<5.0.0,>=4.6.0->sentence-transformers) (2019.12.20)\n",
            "Collecting tokenizers!=0.11.3,<0.13,>=0.11.1\n",
            "  Downloading tokenizers-0.12.1-cp37-cp37m-manylinux_2_12_x86_64.manylinux2010_x86_64.whl (6.6 MB)\n",
            "\u001b[K     |████████████████████████████████| 6.6 MB 35.7 MB/s \n",
            "\u001b[?25hRequirement already satisfied: filelock in /usr/local/lib/python3.7/dist-packages (from transformers<5.0.0,>=4.6.0->sentence-transformers) (3.7.0)\n",
            "Collecting pyyaml>=5.1\n",
            "  Downloading PyYAML-6.0-cp37-cp37m-manylinux_2_5_x86_64.manylinux1_x86_64.manylinux_2_12_x86_64.manylinux2010_x86_64.whl (596 kB)\n",
            "\u001b[K     |████████████████████████████████| 596 kB 57.6 MB/s \n",
            "\u001b[?25hRequirement already satisfied: packaging>=20.0 in /usr/local/lib/python3.7/dist-packages (from transformers<5.0.0,>=4.6.0->sentence-transformers) (21.3)\n",
            "Requirement already satisfied: requests in /usr/local/lib/python3.7/dist-packages (from transformers<5.0.0,>=4.6.0->sentence-transformers) (2.23.0)\n",
            "Requirement already satisfied: pyparsing!=3.0.5,>=2.0.2 in /usr/local/lib/python3.7/dist-packages (from packaging>=20.0->transformers<5.0.0,>=4.6.0->sentence-transformers) (3.0.9)\n",
            "Requirement already satisfied: zipp>=0.5 in /usr/local/lib/python3.7/dist-packages (from importlib-metadata->transformers<5.0.0,>=4.6.0->sentence-transformers) (3.8.0)\n",
            "Requirement already satisfied: six in /usr/local/lib/python3.7/dist-packages (from nltk->sentence-transformers) (1.15.0)\n",
            "Requirement already satisfied: certifi>=2017.4.17 in /usr/local/lib/python3.7/dist-packages (from requests->transformers<5.0.0,>=4.6.0->sentence-transformers) (2022.5.18.1)\n",
            "Requirement already satisfied: chardet<4,>=3.0.2 in /usr/local/lib/python3.7/dist-packages (from requests->transformers<5.0.0,>=4.6.0->sentence-transformers) (3.0.4)\n",
            "Requirement already satisfied: urllib3!=1.25.0,!=1.25.1,<1.26,>=1.21.1 in /usr/local/lib/python3.7/dist-packages (from requests->transformers<5.0.0,>=4.6.0->sentence-transformers) (1.24.3)\n",
            "Requirement already satisfied: idna<3,>=2.5 in /usr/local/lib/python3.7/dist-packages (from requests->transformers<5.0.0,>=4.6.0->sentence-transformers) (2.10)\n",
            "Requirement already satisfied: threadpoolctl>=2.0.0 in /usr/local/lib/python3.7/dist-packages (from scikit-learn->sentence-transformers) (3.1.0)\n",
            "Requirement already satisfied: joblib>=0.11 in /usr/local/lib/python3.7/dist-packages (from scikit-learn->sentence-transformers) (1.1.0)\n",
            "Requirement already satisfied: pillow!=8.3.*,>=5.3.0 in /usr/local/lib/python3.7/dist-packages (from torchvision->sentence-transformers) (7.1.2)\n",
            "Building wheels for collected packages: sentence-transformers\n",
            "  Building wheel for sentence-transformers (setup.py) ... \u001b[?25l\u001b[?25hdone\n",
            "  Created wheel for sentence-transformers: filename=sentence_transformers-2.2.0-py3-none-any.whl size=120747 sha256=81c81cdb56779fa922c55a61697654f4fdfbe2be22414b675cc0cb7f7f12f5e7\n",
            "  Stored in directory: /root/.cache/pip/wheels/83/c0/df/b6873ab7aac3f2465aa9144b6b4c41c4391cfecc027c8b07e7\n",
            "Successfully built sentence-transformers\n",
            "Installing collected packages: pyyaml, tokenizers, huggingface-hub, transformers, sentencepiece, sentence-transformers\n",
            "  Attempting uninstall: pyyaml\n",
            "    Found existing installation: PyYAML 3.13\n",
            "    Uninstalling PyYAML-3.13:\n",
            "      Successfully uninstalled PyYAML-3.13\n",
            "Successfully installed huggingface-hub-0.7.0 pyyaml-6.0 sentence-transformers-2.2.0 sentencepiece-0.1.96 tokenizers-0.12.1 transformers-4.19.2\n"
          ]
        }
      ],
      "source": [
        "!pip install -U sentence-transformers"
      ]
    },
    {
      "cell_type": "code",
      "execution_count": null,
      "metadata": {
        "colab": {
          "base_uri": "https://localhost:8080/"
        },
        "id": "xIP3CJSdYidL",
        "outputId": "c33ebc4f-52ad-4e8b-fb89-509520d2ed16"
      },
      "outputs": [
        {
          "name": "stdout",
          "output_type": "stream",
          "text": [
            "Looking in indexes: https://pypi.org/simple, https://us-python.pkg.dev/colab-wheels/public/simple/\n",
            "Requirement already satisfied: imbalanced-learn in /usr/local/lib/python3.7/dist-packages (0.8.1)\n",
            "Requirement already satisfied: joblib>=0.11 in /usr/local/lib/python3.7/dist-packages (from imbalanced-learn) (1.1.0)\n",
            "Requirement already satisfied: scikit-learn>=0.24 in /usr/local/lib/python3.7/dist-packages (from imbalanced-learn) (1.0.2)\n",
            "Requirement already satisfied: scipy>=0.19.1 in /usr/local/lib/python3.7/dist-packages (from imbalanced-learn) (1.4.1)\n",
            "Requirement already satisfied: numpy>=1.13.3 in /usr/local/lib/python3.7/dist-packages (from imbalanced-learn) (1.21.6)\n",
            "Requirement already satisfied: threadpoolctl>=2.0.0 in /usr/local/lib/python3.7/dist-packages (from scikit-learn>=0.24->imbalanced-learn) (3.1.0)\n"
          ]
        }
      ],
      "source": [
        "!pip install imbalanced-learn"
      ]
    },
    {
      "cell_type": "code",
      "execution_count": null,
      "metadata": {
        "colab": {
          "base_uri": "https://localhost:8080/"
        },
        "id": "yuksMVYvxB4M",
        "outputId": "843be020-9b18-4fa2-ea90-e219bdedc01a"
      },
      "outputs": [
        {
          "name": "stdout",
          "output_type": "stream",
          "text": [
            "Mounted at /content/drive\n"
          ]
        }
      ],
      "source": [
        "from google.colab import drive\n",
        "drive.mount('/content/drive')"
      ]
    },
    {
      "cell_type": "code",
      "execution_count": null,
      "metadata": {
        "id": "ylZ6iTu3YGNx"
      },
      "outputs": [],
      "source": [
        "from sklearn.ensemble import RandomForestClassifier\n",
        "from sklearn.naive_bayes import MultinomialNB\n",
        "from sklearn import svm\n",
        "\n",
        "from sklearn.metrics import accuracy_score\n",
        "from sklearn import metrics\n",
        "from sklearn.model_selection import GridSearchCV\n",
        "from sklearn.model_selection import cross_val_score\n",
        "from sklearn.model_selection import cross_val_predict\n",
        "from sklearn.model_selection import train_test_split\n",
        "from sklearn.metrics import confusion_matrix\n",
        "from sklearn.metrics import classification_report\n",
        "from sklearn.metrics import roc_auc_score\n",
        "from sklearn.metrics import roc_curve, auc\n",
        "from sklearn.preprocessing import label_binarize\n",
        "\n",
        "from sentence_transformers import SentenceTransformer\n",
        "import matplotlib.pyplot as plt\n",
        "import pandas as pd\n",
        "import re\n",
        "\n",
        "import imblearn\n",
        "from collections import Counter\n"
      ]
    },
    {
      "cell_type": "markdown",
      "metadata": {
        "id": "MqNQK3_IZNhQ"
      },
      "source": [
        "## Aquisição dos dados e Pré-processamento "
      ]
    },
    {
      "cell_type": "code",
      "execution_count": null,
      "metadata": {
        "id": "mSQIwOBkYGPq"
      },
      "outputs": [],
      "source": [
        "data = pd.read_csv('dataset_atualizado_06062022_aleatorio.csv')\n",
        "\n",
        "#data.drop_duplicates(['comentarios'], inplace=True)\n",
        "#data=data.sample(frac=1).reset_index(drop=True)"
      ]
    },
    {
      "cell_type": "code",
      "execution_count": null,
      "metadata": {
        "id": "AAWv6ue1anJA"
      },
      "outputs": [],
      "source": [
        "id = (data['id_noticia'].copy(deep=True))\n",
        "comentarios = (data['text'].copy(deep=True))\n",
        "classes = (data['rotulacao_manual'].copy(deep=True))"
      ]
    },
    {
      "cell_type": "code",
      "execution_count": null,
      "metadata": {
        "id": "-kCHam7iaub-"
      },
      "outputs": [],
      "source": [
        "id = id.values\n",
        "comentarios = comentarios.values\n",
        "classes = classes.values"
      ]
    },
    {
      "cell_type": "code",
      "execution_count": null,
      "metadata": {
        "colab": {
          "base_uri": "https://localhost:8080/"
        },
        "id": "tJkKPAVjYGRe",
        "outputId": "5e791ce8-bb66-4dbb-abeb-0381cd214568"
      },
      "outputs": [
        {
          "name": "stdout",
          "output_type": "stream",
          "text": [
            "[nltk_data] Downloading package stopwords to /root/nltk_data...\n",
            "[nltk_data]   Package stopwords is already up-to-date!\n",
            "[nltk_data] Downloading package rslp to /root/nltk_data...\n",
            "[nltk_data]   Package rslp is already up-to-date!\n",
            "[nltk_data] Downloading package punkt to /root/nltk_data...\n",
            "[nltk_data]   Package punkt is already up-to-date!\n",
            "[nltk_data] Downloading package wordnet to /root/nltk_data...\n",
            "[nltk_data]   Package wordnet is already up-to-date!\n"
          ]
        },
        {
          "data": {
            "text/plain": [
              "True"
            ]
          },
          "execution_count": 81,
          "metadata": {},
          "output_type": "execute_result"
        }
      ],
      "source": [
        "import nltk\n",
        "nltk.download('stopwords')\n",
        "nltk.download('rslp')\n",
        "nltk.download('punkt')\n",
        "nltk.download('wordnet')"
      ]
    },
    {
      "cell_type": "code",
      "execution_count": null,
      "metadata": {
        "id": "3GnUhqqtYGU1"
      },
      "outputs": [],
      "source": [
        "def Preprocessing(instancia):\n",
        "    #stemmer = nltk.stem.RSLPStemmer()\n",
        "    instancia = re.sub(r\"http\\S+\", \"\", instancia).lower().replace('.','').replace(';','').replace('-','').replace(':','').replace(')','')\n",
        "    #stopwords = set(nltk.corpus.stopwords.words('portuguese'))\n",
        "    palavras = [i for i in instancia.split()]\n",
        "    return (\" \".join(palavras))\n",
        "\n",
        "# Aplica a função em todos os dados:\n",
        "comentarios = [Preprocessing(i) for i in comentarios]"
      ]
    },
    {
      "cell_type": "code",
      "execution_count": null,
      "metadata": {
        "colab": {
          "base_uri": "https://localhost:8080/"
        },
        "id": "F2c0FFcmblHl",
        "outputId": "d4556092-64f9-4ab8-8a43-185542010e5d"
      },
      "outputs": [
        {
          "data": {
            "text/plain": [
              "3000"
            ]
          },
          "execution_count": 83,
          "metadata": {},
          "output_type": "execute_result"
        }
      ],
      "source": [
        "len(comentarios)"
      ]
    },
    {
      "cell_type": "code",
      "execution_count": null,
      "metadata": {
        "id": "KL0S-Kzs1PwM"
      },
      "outputs": [],
      "source": [
        "comentarios"
      ]
    },
    {
      "cell_type": "markdown",
      "metadata": {
        "id": "dXVGfxLIZmQq"
      },
      "source": [
        "## Embedding"
      ]
    },
    {
      "cell_type": "code",
      "execution_count": null,
      "metadata": {
        "colab": {
          "base_uri": "https://localhost:8080/",
          "height": 362,
          "referenced_widgets": [
            "ce5a477521d04fb4a794b7a5eb3fc24e",
            "c4a81b39fa9043f297f310360c590bbb",
            "89023f85d4254c8d9b317a1f12bc6091",
            "32f5d1f9b7a24bf69a817b54b864c4c7",
            "62f505f8aa79441987fdbdb179038e11",
            "09110a5d950d4e37b89f1ea533617a26",
            "4b7404ea8c4c49f2b6dd0a0a1dfb9404",
            "f99ed9b0101b45fba66ea311c1c537e8",
            "f6f3fc76bfcb48948c7f5663ec800d8b",
            "dc63dd8234304ec498ff4f5110f7608a",
            "f754ed6bcad141b382e21a2369abafc6",
            "7a1baf01c1bd42299d1b85e32d985e28",
            "e6e71e045da3435cb1b5f9b072d48db1",
            "46396c95169b42f580d248630907767b",
            "32236d6529894c2eb49394c930725a74",
            "2a9315e380874d8cb84ab1f92c819d75",
            "d5167450d24848678e57c63ddf2b218d",
            "a7dd9635c59740a5a29d6d41d392d52e",
            "886fc94992ff4cecbac5c5c672f62015",
            "926415d779164fb3bb6fc7189d127795",
            "624c12b73118467f9b6860231c84938f",
            "6dbf259d4a8c48099616f5e7ebe65003",
            "48f238534e3141ab9baf375cfcfd79bf",
            "ccd27ae130fb4675911ee43ffa651a63",
            "ad9a3a454e684a13a79ca44e1668f693",
            "649ce991e4c54f33b980744a848e0a85",
            "5c308444dbf04903bbd9b7822b0cd8da",
            "86ad4dfb103f4a8eae795f1a48e8f49e",
            "848fff3bb0434a8197aa880c7735b57c",
            "6930b59e57e24bc7bb0d770a824e5a4b",
            "b5ee25dd65c44b8abb108ecac54efcbb",
            "15e1cb2126b64e38bb4d382594722f0a",
            "7f32ccf88bcc4ac189455d7f615d84c7",
            "6b0afc0044784b48b60756073d68af78",
            "de9741a846414d439631688ac309ee03",
            "988bd227b6ed449dbc8c82acbb067ac4",
            "92e43141d8334a77928fb3584351cfd8",
            "8906760460f64f74b8a66da68bdf1194",
            "f049ef2f18ed4703923cbe628c6612e2",
            "cfa090972e0d48e1a2fac9d6c6b9c71a",
            "533e01007e6e46a49640313eaa93fecc",
            "bc0ee16e14c74fbc83bd429818358e7f",
            "768d7f5e42624d19bd3c98d970954dcd",
            "f12e6461afd94679a99e23fd0d37798a",
            "50e78ae0c5374984b1a833e000e25916",
            "13f200cdd25d482185667a4d65afe665",
            "423d739bf4e54abe8d46c766dbd7a6c2",
            "7cb54296d1bd4d52b61869660b8b4af4",
            "c6f296b40a4c4314a11a0761e801f2c9",
            "4027430f9c754f0bb6846c7d0b4b18d4",
            "9ff6f74f20db4fe0be1ff5ac93cdbb01",
            "22850ab7bcde468595ae99338627cb8d",
            "3a62cda4b1ad49fba6f23d59eb1c21d2",
            "119eac9847af45b097e3d1974fe79297",
            "78025f39296645e38be291ce8acccf74",
            "a9d85e86e39d4f64962d36e4a85d8368",
            "7e6652f01a244f1bba40d5c4b3cb8afa",
            "f53aa6c7966d41f58a83804040e71c2a",
            "58ca89b84cf5431ca80b2f874732920a",
            "78b752957cd548999716e0743c194f09",
            "458c0beaaaa34e94b60cfbd65efb0e57",
            "f6d24c766e0d4b868494cc86f7857053",
            "5fc44c601dbb4996b2aacaedfca40cb0",
            "884094d560424a4e9684fbbbcdf52c08",
            "c613909d12e54e7cbcfc0f964f929f36",
            "72e728a23abc4145876c6f1d1c0e7b4f",
            "7616fc8f4c9c4479a80f700afa91f2db",
            "c585b2dcd04141ad8243646e8fdb7476",
            "553a60a2189d489ebfdee904a530f088",
            "77ab0a2aacf44a08a3d945a69ff0cd32",
            "e290b49670574cb891d95bb21527e97c",
            "db5223da29fb4ff795e12054886965a0",
            "3ca7e357d4bd4dddb76cbf63315bae2b",
            "ec52bd70eaad4c3d838d482410e79b5b",
            "6a61dda6595044fbae81a32588b224f9",
            "8236dc5570824617b089d6677028cbdd",
            "719d0482ad5b4a7b943d4078b7459932",
            "1ae48b1e423c45c88b1e90537f4a4962",
            "3986deec92c74e8ab26f700ab3f1e297",
            "44ec7606bd8747858396088c718b2a0e",
            "8545656712bb4fb1b1af3c6467bd1290",
            "f4b2bf051d154251b4eecfe03cf49663",
            "c07fcd4059944b7cade4470db960d1be",
            "46728db8cb604abd9aba89271414b45b",
            "ffaa661734114f4499846c6d9db3be65",
            "e16850c2231e4c4281e57758dd5251f8",
            "b2d091a74c194b4196cfabf2214d9e5e",
            "14f8c14b4fe04d30937fb7f29c86b495"
          ]
        },
        "id": "jNjVHGCBYGWI",
        "outputId": "a74fb366-558e-4d4c-9e45-2cdef3a19b27"
      },
      "outputs": [
        {
          "data": {
            "application/vnd.jupyter.widget-view+json": {
              "model_id": "ce5a477521d04fb4a794b7a5eb3fc24e",
              "version_major": 2,
              "version_minor": 0
            },
            "text/plain": [
              "Downloading:   0%|          | 0.00/391 [00:00<?, ?B/s]"
            ]
          },
          "metadata": {},
          "output_type": "display_data"
        },
        {
          "data": {
            "application/vnd.jupyter.widget-view+json": {
              "model_id": "7a1baf01c1bd42299d1b85e32d985e28",
              "version_major": 2,
              "version_minor": 0
            },
            "text/plain": [
              "Downloading:   0%|          | 0.00/589 [00:00<?, ?B/s]"
            ]
          },
          "metadata": {},
          "output_type": "display_data"
        },
        {
          "data": {
            "application/vnd.jupyter.widget-view+json": {
              "model_id": "48f238534e3141ab9baf375cfcfd79bf",
              "version_major": 2,
              "version_minor": 0
            },
            "text/plain": [
              "Downloading:   0%|          | 0.00/516 [00:00<?, ?B/s]"
            ]
          },
          "metadata": {},
          "output_type": "display_data"
        },
        {
          "data": {
            "application/vnd.jupyter.widget-view+json": {
              "model_id": "6b0afc0044784b48b60756073d68af78",
              "version_major": 2,
              "version_minor": 0
            },
            "text/plain": [
              "Downloading:   0%|          | 0.00/1.68M [00:00<?, ?B/s]"
            ]
          },
          "metadata": {},
          "output_type": "display_data"
        },
        {
          "data": {
            "application/vnd.jupyter.widget-view+json": {
              "model_id": "50e78ae0c5374984b1a833e000e25916",
              "version_major": 2,
              "version_minor": 0
            },
            "text/plain": [
              "Downloading:   0%|          | 0.00/695M [00:00<?, ?B/s]"
            ]
          },
          "metadata": {},
          "output_type": "display_data"
        },
        {
          "data": {
            "application/vnd.jupyter.widget-view+json": {
              "model_id": "a9d85e86e39d4f64962d36e4a85d8368",
              "version_major": 2,
              "version_minor": 0
            },
            "text/plain": [
              "Downloading:   0%|          | 0.00/1.46k [00:00<?, ?B/s]"
            ]
          },
          "metadata": {},
          "output_type": "display_data"
        },
        {
          "data": {
            "application/vnd.jupyter.widget-view+json": {
              "model_id": "7616fc8f4c9c4479a80f700afa91f2db",
              "version_major": 2,
              "version_minor": 0
            },
            "text/plain": [
              "Downloading:   0%|          | 0.00/2.77M [00:00<?, ?B/s]"
            ]
          },
          "metadata": {},
          "output_type": "display_data"
        },
        {
          "name": "stderr",
          "output_type": "stream",
          "text": [
            "WARNING:root:No sentence-transformers model found with name /root/.cache/torch/sentence_transformers/rdenadai_BR_BERTo. Creating a new one with MEAN pooling.\n",
            "Some weights of the model checkpoint at /root/.cache/torch/sentence_transformers/rdenadai_BR_BERTo were not used when initializing RobertaModel: ['lm_head.layer_norm.bias', 'lm_head.layer_norm.weight', 'lm_head.decoder.weight', 'lm_head.decoder.bias', 'lm_head.bias', 'lm_head.dense.bias', 'lm_head.dense.weight']\n",
            "- This IS expected if you are initializing RobertaModel from the checkpoint of a model trained on another task or with another architecture (e.g. initializing a BertForSequenceClassification model from a BertForPreTraining model).\n",
            "- This IS NOT expected if you are initializing RobertaModel from the checkpoint of a model that you expect to be exactly identical (initializing a BertForSequenceClassification model from a BertForSequenceClassification model).\n"
          ]
        },
        {
          "data": {
            "application/vnd.jupyter.widget-view+json": {
              "model_id": "1ae48b1e423c45c88b1e90537f4a4962",
              "version_major": 2,
              "version_minor": 0
            },
            "text/plain": [
              "Batches:   0%|          | 0/94 [00:00<?, ?it/s]"
            ]
          },
          "metadata": {},
          "output_type": "display_data"
        }
      ],
      "source": [
        "#sentence_model = SentenceTransformer(\"neuralmind/bert-large-portuguese-cased\")\n",
        "#sentence_model = SentenceTransformer(\"bert-base-multilingual-cased\")\n",
        "embeddings = sentence_model.encode(comentarios, show_progress_bar=True)"
      ]
    },
    {
      "cell_type": "code",
      "execution_count": null,
      "metadata": {
        "colab": {
          "base_uri": "https://localhost:8080/"
        },
        "id": "wP0ouGQWYGXd",
        "outputId": "bb1f5ee2-1986-481a-a89a-e0ae8b82d4d3"
      },
      "outputs": [
        {
          "data": {
            "text/plain": [
              "(3000, 768)"
            ]
          },
          "execution_count": 85,
          "metadata": {},
          "output_type": "execute_result"
        }
      ],
      "source": [
        "embeddings.shape"
      ]
    },
    {
      "cell_type": "code",
      "execution_count": null,
      "metadata": {
        "id": "HXBv9q6TYGZJ"
      },
      "outputs": [],
      "source": [
        "df_embedding = pd.DataFrame(embeddings)"
      ]
    },
    {
      "cell_type": "code",
      "execution_count": null,
      "metadata": {
        "id": "TJbWR8XIYGa2"
      },
      "outputs": [],
      "source": [
        "df_embedding"
      ]
    },
    {
      "cell_type": "markdown",
      "metadata": {
        "id": "_M1U9UPt1t7Q"
      },
      "source": [
        "## função para salvar o modelo"
      ]
    },
    {
      "cell_type": "code",
      "execution_count": null,
      "metadata": {
        "id": "Ekm02IPy5Sah"
      },
      "outputs": [],
      "source": [
        "folder = '/content/drive/MyDrive/Best_model/0606/'"
      ]
    },
    {
      "cell_type": "code",
      "execution_count": null,
      "metadata": {
        "id": "VWg59pwn0ay9"
      },
      "outputs": [],
      "source": [
        "import pickle\n",
        "\n",
        "def salvModel(modelo, nome, X_train, y_train, X_test, y_test):\n",
        "  y_pred = modelo.predict(X_test)\n",
        "  pickle.dump(X_train, open(folder + 'R_0606/' + nome + 'X_train_bert_0606.pickle', 'wb'))\n",
        "  pickle.dump(y_train, open(folder + 'R_0606/' + nome + 'y_train_bert_0606.pickle', 'wb'))\n",
        "  pickle.dump(X_test, open(folder + 'R_0606/' + nome + 'X_test_bert_0606.pickle', 'wb'))\n",
        "  pickle.dump(y_test, open(folder + 'R_0606/' + nome + 'y_test_bert_0606.pickle', 'wb'))\n",
        "  pickle.dump(y_pred, open(folder + 'R_0606/' + nome + 'y_pred_bert_0606.pickle', 'wb'))\n",
        "  pickle.dump(modelo, open(folder + 'R_0606/' + nome + '_0606.pickle', 'wb'))"
      ]
    },
    {
      "cell_type": "markdown",
      "metadata": {
        "id": "XfJigc4eaTMj"
      },
      "source": [
        "## Random Forest"
      ]
    },
    {
      "cell_type": "code",
      "execution_count": null,
      "metadata": {
        "colab": {
          "base_uri": "https://localhost:8080/"
        },
        "id": "1mlOuDyEHeBG",
        "outputId": "64c03af4-2a6d-4d5c-a209-1006b0d58a21"
      },
      "outputs": [
        {
          "name": "stdout",
          "output_type": "stream",
          "text": [
            "Counter({-1: 2044, 0: 794, 1: 162})\n"
          ]
        }
      ],
      "source": [
        "counter = Counter(classes)\n",
        "print(counter)"
      ]
    },
    {
      "cell_type": "code",
      "execution_count": null,
      "metadata": {
        "id": "QCQEfXU7YGc2"
      },
      "outputs": [],
      "source": [
        "X_train, X_test, y_train, y_test = train_test_split(df_embedding, classes, test_size = 0.2, random_state=42, shuffle=False)"
      ]
    },
    {
      "cell_type": "code",
      "execution_count": null,
      "metadata": {
        "colab": {
          "base_uri": "https://localhost:8080/"
        },
        "id": "Qq20RC3Ea4oh",
        "outputId": "fd4c6867-05e2-49f8-aec0-c40012dfa170"
      },
      "outputs": [
        {
          "name": "stdout",
          "output_type": "stream",
          "text": [
            "Counter({-1: 1636, 0: 628, 1: 136})\n"
          ]
        }
      ],
      "source": [
        "counter = Counter(y_train)\n",
        "print(counter)"
      ]
    },
    {
      "cell_type": "code",
      "execution_count": null,
      "metadata": {
        "colab": {
          "base_uri": "https://localhost:8080/"
        },
        "id": "7wnUepWSN_oB",
        "outputId": "d98672d7-aee6-46d1-e750-31668f79a6d6"
      },
      "outputs": [
        {
          "name": "stdout",
          "output_type": "stream",
          "text": [
            "Counter({-1: 408, 0: 166, 1: 26})\n"
          ]
        }
      ],
      "source": [
        "counter = Counter(y_test)\n",
        "print(counter)"
      ]
    },
    {
      "cell_type": "markdown",
      "metadata": {
        "id": "pLoR3yKebLFa"
      },
      "source": [
        "#### GridSearch RF"
      ]
    },
    {
      "cell_type": "code",
      "execution_count": null,
      "metadata": {
        "id": "JcXWw9tca4qm"
      },
      "outputs": [],
      "source": [
        "def grid(X_train, y_train):\n",
        "  rf_clf = RandomForestClassifier()\n",
        "  param_grid = {'n_estimators': [250, 300, 350],'max_depth' : [8,10, 12], 'bootstrap': [False], 'n_jobs': [-1]}\n",
        "  grid_search = GridSearchCV(rf_clf, param_grid, cv=5, scoring='accuracy')\n",
        "\n",
        "  grid_search.fit(X_train, y_train)\n",
        "\n",
        "  return grid_search.best_params_"
      ]
    },
    {
      "cell_type": "code",
      "execution_count": null,
      "metadata": {
        "id": "l8loSXMRa4sr"
      },
      "outputs": [],
      "source": [
        "#grid(X_train, y_train)"
      ]
    },
    {
      "cell_type": "code",
      "execution_count": null,
      "metadata": {
        "colab": {
          "base_uri": "https://localhost:8080/"
        },
        "id": "6tsga3LDa4up",
        "outputId": "2d2ba112-c532-45bb-faf4-3886d4a1c23f"
      },
      "outputs": [
        {
          "data": {
            "text/plain": [
              "RandomForestClassifier(bootstrap=False, max_depth=12, n_estimators=300,\n",
              "                       n_jobs=-1)"
            ]
          },
          "execution_count": 97,
          "metadata": {},
          "output_type": "execute_result"
        }
      ],
      "source": [
        "rf_clf = RandomForestClassifier(max_depth=12, n_estimators= 300, n_jobs= -1, bootstrap=False)\n",
        "rf_clf.fit(X_train,y_train)"
      ]
    },
    {
      "cell_type": "code",
      "execution_count": null,
      "metadata": {
        "id": "ILr1Gjhh1Tmv"
      },
      "outputs": [],
      "source": [
        "salvModel(rf_clf, 'rf', X_train, y_train, X_test, y_test)"
      ]
    },
    {
      "cell_type": "markdown",
      "metadata": {
        "id": "o7lI_FJlccJo"
      },
      "source": [
        "#### Métricas"
      ]
    },
    {
      "cell_type": "markdown",
      "metadata": {
        "id": "6qADKMb7Tq_y"
      },
      "source": []
    },
    {
      "cell_type": "code",
      "execution_count": null,
      "metadata": {
        "id": "QaK2bkvAfL5W"
      },
      "outputs": [],
      "source": [
        "def class_3_confunsion_matrix(y_test, predictions, classe):\n",
        "  matrix = confusion_matrix(y_test, predictions)\n",
        "\n",
        "  if classe == -1:\n",
        "    TP = matrix[0][0]\n",
        "    FN = matrix[0][1] + matrix[0][2]\n",
        "    FP = matrix[1][0] + matrix[2][0]\n",
        "    TN = matrix[1][1] + matrix[1][2] + matrix[2][1] + matrix[2][2]\n",
        "  elif classe == 0:\n",
        "    TP = matrix[1][1]\n",
        "    FN = matrix[1][0] + matrix[1][2]\n",
        "    FP = matrix[0][1] + matrix[2][1]\n",
        "    TN = matrix[0][0] + matrix[0][2] + matrix[2][0] + matrix[2][2]\n",
        "  elif classe == 1:\n",
        "    TP = matrix[2][2]\n",
        "    FN = matrix[2][0] + matrix[2][1]\n",
        "    FP = matrix[0][2] + matrix[1][2]\n",
        "    TN = matrix[0][0] + matrix[0][1] + matrix[1][0] + matrix[1][1]\n",
        "  \n",
        "  return [TP, FN, FP, TN]"
      ]
    },
    {
      "cell_type": "code",
      "execution_count": null,
      "metadata": {
        "id": "RZQqwRBx4ImV"
      },
      "outputs": [],
      "source": [
        "def metricas_auc_roc(modelo, X_test, y_test):\n",
        "  y_score = modelo.predict_proba(X_test)\n",
        "\n",
        "  y_test_bin = label_binarize(y_test, classes=[-1, 0, 1])\n",
        "  n_classes = y_test_bin.shape[1]\n",
        "\n",
        "  fpr = dict()\n",
        "  tpr = dict()\n",
        "  roc_auc = dict()\n",
        "  result = []\n",
        "\n",
        "  for i in range(n_classes):\n",
        "    fpr[i], tpr[i], _ = roc_curve(y_test_bin[:, i], y_score[:, i])\n",
        "    result.append(auc(fpr[i], tpr[i]))\n",
        "  return result"
      ]
    },
    {
      "cell_type": "code",
      "execution_count": null,
      "metadata": {
        "colab": {
          "base_uri": "https://localhost:8080/"
        },
        "id": "-lXJ7mVf46vR",
        "outputId": "5253cf73-79f2-4edf-9917-efb02cd9e881"
      },
      "outputs": [
        {
          "data": {
            "text/plain": [
              "[0.7101205065359477, 0.7152712231414136, 0.7287590458322166]"
            ]
          },
          "execution_count": 29,
          "metadata": {},
          "output_type": "execute_result"
        }
      ],
      "source": [
        "metricas_auc_roc(rf_clf, X_test, y_test)"
      ]
    },
    {
      "cell_type": "code",
      "execution_count": null,
      "metadata": {
        "colab": {
          "base_uri": "https://localhost:8080/"
        },
        "id": "4JTScVXBKxNG",
        "outputId": "d7efecbb-277e-43ad-bfe3-046fdfdcb966"
      },
      "outputs": [
        {
          "name": "stdout",
          "output_type": "stream",
          "text": [
            "              precision    recall  f1-score   support\n",
            "\n",
            "          -1       0.72      0.97      0.83       408\n",
            "           0       0.74      0.20      0.32       166\n",
            "           1       1.00      0.04      0.07        26\n",
            "\n",
            "    accuracy                           0.72       600\n",
            "   macro avg       0.82      0.41      0.41       600\n",
            "weighted avg       0.74      0.72      0.65       600\n",
            "\n"
          ]
        }
      ],
      "source": [
        "predictions = rf_clf.predict(X_test)\n",
        "print(classification_report(y_test, predictions))"
      ]
    },
    {
      "cell_type": "code",
      "execution_count": null,
      "metadata": {
        "id": "gvSkv7jecbZr"
      },
      "outputs": [],
      "source": [
        "def metricas(modelo, modelo_nome, X_test, y_test, df):\n",
        "  predictions = modelo.predict(X_test)\n",
        "\n",
        "  report = classification_report(y_test, predictions, output_dict=True)\n",
        "  metricas = pd.DataFrame(report).transpose()\n",
        "\n",
        "  aucRoc = metricas_auc_roc(modelo, X_test, y_test)\n",
        "\n",
        "  metricas_neg = list(metricas.iloc[[0]].values[0])\n",
        "  metricas_neg.append(aucRoc[0])\n",
        "  metricas_neg = metricas_neg + class_3_confunsion_matrix(y_test, predictions, -1)\n",
        "\n",
        "  metricas_pos = list(metricas.iloc[[2]].values[0])\n",
        "  metricas_pos.append(aucRoc[2])\n",
        "  metricas_pos = metricas_pos + class_3_confunsion_matrix(y_test, predictions, 1)\n",
        "  \n",
        "  metricas_neu = list(metricas.iloc[[1]].values[0])\n",
        "  metricas_neu.append(aucRoc[1])\n",
        "  metricas_neu = metricas_neu + class_3_confunsion_matrix(y_test, predictions, 0)\n",
        "\n",
        "  result = metricas_neg + metricas_pos + metricas_neu\n",
        "  result = [modelo_nome] + result\n",
        "\n",
        "  result.append(accuracy_score(y_test, predictions))\n",
        "\n",
        "  df_aux = pd.DataFrame([result], columns=['modelo', 'precision(-1)', 'recall(-1)', 'f1-score(-1)', 'suport(-1)', 'auc-roc(-1)',  'TP(-1)', 'FN(-1)', 'FP(-1)', 'TN(-1)', 'precision(1)', 'recall(1)', 'f1-score(1)', 'suport(1)', 'auc-roc(1)', 'TP(1)', 'FN(1)', 'FP(1)', 'TN(1)', 'precision(0)', 'recall(0)', 'f1-score(0)', 'suport(0)', 'auc-roc(0)', 'TP(0)', 'FN(0)', 'FP(0)', 'TN(0)', 'accuracy'])\n",
        "\n",
        "  return pd.concat([df_aux, df])\n",
        "\n",
        "  #print(metricas)\n",
        "  #print(list(metricas.iloc[[1]].values))"
      ]
    },
    {
      "cell_type": "code",
      "execution_count": null,
      "metadata": {
        "colab": {
          "base_uri": "https://localhost:8080/"
        },
        "id": "uNkajQQqfF0s",
        "outputId": "8832aea0-bf3e-416f-b76e-bc20e1a21a4c"
      },
      "outputs": [
        {
          "name": "stderr",
          "output_type": "stream",
          "text": [
            "/usr/local/lib/python3.7/dist-packages/sklearn/metrics/_classification.py:1318: UndefinedMetricWarning: Precision and F-score are ill-defined and being set to 0.0 in labels with no predicted samples. Use `zero_division` parameter to control this behavior.\n",
            "  _warn_prf(average, modifier, msg_start, len(result))\n",
            "/usr/local/lib/python3.7/dist-packages/sklearn/metrics/_classification.py:1318: UndefinedMetricWarning: Precision and F-score are ill-defined and being set to 0.0 in labels with no predicted samples. Use `zero_division` parameter to control this behavior.\n",
            "  _warn_prf(average, modifier, msg_start, len(result))\n",
            "/usr/local/lib/python3.7/dist-packages/sklearn/metrics/_classification.py:1318: UndefinedMetricWarning: Precision and F-score are ill-defined and being set to 0.0 in labels with no predicted samples. Use `zero_division` parameter to control this behavior.\n",
            "  _warn_prf(average, modifier, msg_start, len(result))\n"
          ]
        }
      ],
      "source": [
        "df_metricas = pd.DataFrame(columns=['modelo', 'precision(-1)', 'recall(-1)', 'f1-score(-1)', 'suport(-1)', 'auc-roc(-1)',  'TP(-1)', 'FN(-1)', 'FP(-1)', 'TN(-1)', 'precision(1)', 'recall(1)', 'f1-score(1)', 'suport(1)', 'auc-roc(1)', 'TP(1)', 'FN(1)', 'FP(1)', 'TN(1)', 'precision(0)', 'recall(0)', 'f1-score(0)', 'suport(0)', 'auc-roc(0)', 'TP(0)', 'FN(0)', 'FP(0)', 'TN(0)', 'accuracy'])\n",
        "df_metricas = metricas(rf_clf, 'RF-RoBERTa', X_test, y_test, df_metricas)"
      ]
    },
    {
      "cell_type": "code",
      "execution_count": null,
      "metadata": {
        "colab": {
          "base_uri": "https://localhost:8080/",
          "height": 209
        },
        "id": "RE6kB9xNLSUG",
        "outputId": "cc5ed558-53f9-45e9-f68a-1677969b2866"
      },
      "outputs": [
        {
          "data": {
            "text/html": [
              "\n",
              "  <div id=\"df-7358ab12-7590-4b13-9a09-4371f9a936cd\">\n",
              "    <div class=\"colab-df-container\">\n",
              "      <div>\n",
              "<style scoped>\n",
              "    .dataframe tbody tr th:only-of-type {\n",
              "        vertical-align: middle;\n",
              "    }\n",
              "\n",
              "    .dataframe tbody tr th {\n",
              "        vertical-align: top;\n",
              "    }\n",
              "\n",
              "    .dataframe thead th {\n",
              "        text-align: right;\n",
              "    }\n",
              "</style>\n",
              "<table border=\"1\" class=\"dataframe\">\n",
              "  <thead>\n",
              "    <tr style=\"text-align: right;\">\n",
              "      <th></th>\n",
              "      <th>modelo</th>\n",
              "      <th>precision(-1)</th>\n",
              "      <th>recall(-1)</th>\n",
              "      <th>f1-score(-1)</th>\n",
              "      <th>suport(-1)</th>\n",
              "      <th>auc-roc(-1)</th>\n",
              "      <th>TP(-1)</th>\n",
              "      <th>FN(-1)</th>\n",
              "      <th>FP(-1)</th>\n",
              "      <th>TN(-1)</th>\n",
              "      <th>...</th>\n",
              "      <th>precision(0)</th>\n",
              "      <th>recall(0)</th>\n",
              "      <th>f1-score(0)</th>\n",
              "      <th>suport(0)</th>\n",
              "      <th>auc-roc(0)</th>\n",
              "      <th>TP(0)</th>\n",
              "      <th>FN(0)</th>\n",
              "      <th>FP(0)</th>\n",
              "      <th>TN(0)</th>\n",
              "      <th>accuracy</th>\n",
              "    </tr>\n",
              "  </thead>\n",
              "  <tbody>\n",
              "    <tr>\n",
              "      <th>0</th>\n",
              "      <td>RF-RoBERTa</td>\n",
              "      <td>0.734848</td>\n",
              "      <td>0.95098</td>\n",
              "      <td>0.82906</td>\n",
              "      <td>408.0</td>\n",
              "      <td>0.711218</td>\n",
              "      <td>388</td>\n",
              "      <td>20</td>\n",
              "      <td>140</td>\n",
              "      <td>52</td>\n",
              "      <td>...</td>\n",
              "      <td>0.652778</td>\n",
              "      <td>0.283133</td>\n",
              "      <td>0.394958</td>\n",
              "      <td>166.0</td>\n",
              "      <td>0.708525</td>\n",
              "      <td>47</td>\n",
              "      <td>119</td>\n",
              "      <td>25</td>\n",
              "      <td>409</td>\n",
              "      <td>0.725</td>\n",
              "    </tr>\n",
              "  </tbody>\n",
              "</table>\n",
              "<p>1 rows × 29 columns</p>\n",
              "</div>\n",
              "      <button class=\"colab-df-convert\" onclick=\"convertToInteractive('df-7358ab12-7590-4b13-9a09-4371f9a936cd')\"\n",
              "              title=\"Convert this dataframe to an interactive table.\"\n",
              "              style=\"display:none;\">\n",
              "        \n",
              "  <svg xmlns=\"http://www.w3.org/2000/svg\" height=\"24px\"viewBox=\"0 0 24 24\"\n",
              "       width=\"24px\">\n",
              "    <path d=\"M0 0h24v24H0V0z\" fill=\"none\"/>\n",
              "    <path d=\"M18.56 5.44l.94 2.06.94-2.06 2.06-.94-2.06-.94-.94-2.06-.94 2.06-2.06.94zm-11 1L8.5 8.5l.94-2.06 2.06-.94-2.06-.94L8.5 2.5l-.94 2.06-2.06.94zm10 10l.94 2.06.94-2.06 2.06-.94-2.06-.94-.94-2.06-.94 2.06-2.06.94z\"/><path d=\"M17.41 7.96l-1.37-1.37c-.4-.4-.92-.59-1.43-.59-.52 0-1.04.2-1.43.59L10.3 9.45l-7.72 7.72c-.78.78-.78 2.05 0 2.83L4 21.41c.39.39.9.59 1.41.59.51 0 1.02-.2 1.41-.59l7.78-7.78 2.81-2.81c.8-.78.8-2.07 0-2.86zM5.41 20L4 18.59l7.72-7.72 1.47 1.35L5.41 20z\"/>\n",
              "  </svg>\n",
              "      </button>\n",
              "      \n",
              "  <style>\n",
              "    .colab-df-container {\n",
              "      display:flex;\n",
              "      flex-wrap:wrap;\n",
              "      gap: 12px;\n",
              "    }\n",
              "\n",
              "    .colab-df-convert {\n",
              "      background-color: #E8F0FE;\n",
              "      border: none;\n",
              "      border-radius: 50%;\n",
              "      cursor: pointer;\n",
              "      display: none;\n",
              "      fill: #1967D2;\n",
              "      height: 32px;\n",
              "      padding: 0 0 0 0;\n",
              "      width: 32px;\n",
              "    }\n",
              "\n",
              "    .colab-df-convert:hover {\n",
              "      background-color: #E2EBFA;\n",
              "      box-shadow: 0px 1px 2px rgba(60, 64, 67, 0.3), 0px 1px 3px 1px rgba(60, 64, 67, 0.15);\n",
              "      fill: #174EA6;\n",
              "    }\n",
              "\n",
              "    [theme=dark] .colab-df-convert {\n",
              "      background-color: #3B4455;\n",
              "      fill: #D2E3FC;\n",
              "    }\n",
              "\n",
              "    [theme=dark] .colab-df-convert:hover {\n",
              "      background-color: #434B5C;\n",
              "      box-shadow: 0px 1px 3px 1px rgba(0, 0, 0, 0.15);\n",
              "      filter: drop-shadow(0px 1px 2px rgba(0, 0, 0, 0.3));\n",
              "      fill: #FFFFFF;\n",
              "    }\n",
              "  </style>\n",
              "\n",
              "      <script>\n",
              "        const buttonEl =\n",
              "          document.querySelector('#df-7358ab12-7590-4b13-9a09-4371f9a936cd button.colab-df-convert');\n",
              "        buttonEl.style.display =\n",
              "          google.colab.kernel.accessAllowed ? 'block' : 'none';\n",
              "\n",
              "        async function convertToInteractive(key) {\n",
              "          const element = document.querySelector('#df-7358ab12-7590-4b13-9a09-4371f9a936cd');\n",
              "          const dataTable =\n",
              "            await google.colab.kernel.invokeFunction('convertToInteractive',\n",
              "                                                     [key], {});\n",
              "          if (!dataTable) return;\n",
              "\n",
              "          const docLinkHtml = 'Like what you see? Visit the ' +\n",
              "            '<a target=\"_blank\" href=https://colab.research.google.com/notebooks/data_table.ipynb>data table notebook</a>'\n",
              "            + ' to learn more about interactive tables.';\n",
              "          element.innerHTML = '';\n",
              "          dataTable['output_type'] = 'display_data';\n",
              "          await google.colab.output.renderOutput(dataTable, element);\n",
              "          const docLink = document.createElement('div');\n",
              "          docLink.innerHTML = docLinkHtml;\n",
              "          element.appendChild(docLink);\n",
              "        }\n",
              "      </script>\n",
              "    </div>\n",
              "  </div>\n",
              "  "
            ],
            "text/plain": [
              "       modelo  precision(-1)  recall(-1)  f1-score(-1)  suport(-1)  \\\n",
              "0  RF-RoBERTa       0.734848     0.95098       0.82906       408.0   \n",
              "\n",
              "   auc-roc(-1) TP(-1) FN(-1) FP(-1) TN(-1)  ...  precision(0)  recall(0)  \\\n",
              "0     0.711218    388     20    140     52  ...      0.652778   0.283133   \n",
              "\n",
              "   f1-score(0)  suport(0)  auc-roc(0) TP(0) FN(0) FP(0) TN(0)  accuracy  \n",
              "0     0.394958      166.0    0.708525    47   119    25   409     0.725  \n",
              "\n",
              "[1 rows x 29 columns]"
            ]
          },
          "execution_count": 100,
          "metadata": {},
          "output_type": "execute_result"
        }
      ],
      "source": [
        "df_metricas"
      ]
    },
    {
      "cell_type": "code",
      "execution_count": null,
      "metadata": {
        "id": "Du737aiKshRI"
      },
      "outputs": [],
      "source": [
        "df_metricas[['f1-score(-1)', 'f1-score(1)', 'f1-score(0)']]"
      ]
    },
    {
      "cell_type": "code",
      "execution_count": null,
      "metadata": {
        "id": "YCG9m8cP9N4a"
      },
      "outputs": [],
      "source": [
        "0,35\t0,0 \t0,73"
      ]
    },
    {
      "cell_type": "markdown",
      "metadata": {
        "id": "Epi5YfGF9Oee"
      },
      "source": [
        "#### SMOTE RF"
      ]
    },
    {
      "cell_type": "code",
      "execution_count": null,
      "metadata": {
        "id": "nKIH88gy9Ryh"
      },
      "outputs": [],
      "source": [
        "from imblearn.over_sampling import SMOTE\n",
        "sm = SMOTE()\n",
        "X_res, y_res = sm.fit_resample(X_train, y_train)"
      ]
    },
    {
      "cell_type": "code",
      "execution_count": null,
      "metadata": {
        "colab": {
          "base_uri": "https://localhost:8080/"
        },
        "id": "iR97Fe-T9R0R",
        "outputId": "7c49ecd5-086f-4e84-af0a-c573131b3a16"
      },
      "outputs": [
        {
          "name": "stdout",
          "output_type": "stream",
          "text": [
            "Counter({0: 1636, 1: 1636, -1: 1636})\n"
          ]
        }
      ],
      "source": [
        "counter = Counter(y_res)\n",
        "print(counter)"
      ]
    },
    {
      "cell_type": "code",
      "execution_count": null,
      "metadata": {
        "id": "hi-xu5MI9hJc"
      },
      "outputs": [],
      "source": [
        "#grid(X_res, y_res)"
      ]
    },
    {
      "cell_type": "code",
      "execution_count": null,
      "metadata": {
        "colab": {
          "base_uri": "https://localhost:8080/"
        },
        "id": "mWW6ol8K9R2S",
        "outputId": "ce68ced9-a0b9-4b2c-c066-125ebd8a8157"
      },
      "outputs": [
        {
          "data": {
            "text/plain": [
              "RandomForestClassifier(bootstrap=False, max_depth=12, n_estimators=300,\n",
              "                       n_jobs=-1)"
            ]
          },
          "execution_count": 105,
          "metadata": {},
          "output_type": "execute_result"
        }
      ],
      "source": [
        "rf_clf = RandomForestClassifier(max_depth=12, n_estimators= 300, n_jobs= -1, bootstrap=False)\n",
        "rf_clf.fit(X_res,y_res)"
      ]
    },
    {
      "cell_type": "code",
      "execution_count": null,
      "metadata": {
        "id": "fVZvnu-T13G0"
      },
      "outputs": [],
      "source": [
        "salvModel(rf_clf, 'rf_smote', X_res, y_res, X_test, y_test)"
      ]
    },
    {
      "cell_type": "code",
      "execution_count": null,
      "metadata": {
        "id": "fMo7_QZI-2z5"
      },
      "outputs": [],
      "source": [
        "df_metricas = metricas(rf_clf, 'RF-RoBERTa-SMOTE', X_test, y_test, df_metricas)"
      ]
    },
    {
      "cell_type": "code",
      "execution_count": null,
      "metadata": {
        "colab": {
          "base_uri": "https://localhost:8080/",
          "height": 112
        },
        "id": "KtZ2xC8n__wa",
        "outputId": "52b99794-3ae3-45a5-95cd-31f27278e743"
      },
      "outputs": [
        {
          "data": {
            "text/html": [
              "\n",
              "  <div id=\"df-0d36b4cd-75e7-4e27-9bfa-18b23aafdd82\">\n",
              "    <div class=\"colab-df-container\">\n",
              "      <div>\n",
              "<style scoped>\n",
              "    .dataframe tbody tr th:only-of-type {\n",
              "        vertical-align: middle;\n",
              "    }\n",
              "\n",
              "    .dataframe tbody tr th {\n",
              "        vertical-align: top;\n",
              "    }\n",
              "\n",
              "    .dataframe thead th {\n",
              "        text-align: right;\n",
              "    }\n",
              "</style>\n",
              "<table border=\"1\" class=\"dataframe\">\n",
              "  <thead>\n",
              "    <tr style=\"text-align: right;\">\n",
              "      <th></th>\n",
              "      <th>modelo</th>\n",
              "      <th>f1-score(-1)</th>\n",
              "      <th>f1-score(1)</th>\n",
              "      <th>f1-score(0)</th>\n",
              "    </tr>\n",
              "  </thead>\n",
              "  <tbody>\n",
              "    <tr>\n",
              "      <th>0</th>\n",
              "      <td>RF-RoBERTa-SMOTE</td>\n",
              "      <td>0.798665</td>\n",
              "      <td>0.222222</td>\n",
              "      <td>0.377358</td>\n",
              "    </tr>\n",
              "    <tr>\n",
              "      <th>0</th>\n",
              "      <td>RF-RoBERTa</td>\n",
              "      <td>0.829060</td>\n",
              "      <td>0.000000</td>\n",
              "      <td>0.394958</td>\n",
              "    </tr>\n",
              "  </tbody>\n",
              "</table>\n",
              "</div>\n",
              "      <button class=\"colab-df-convert\" onclick=\"convertToInteractive('df-0d36b4cd-75e7-4e27-9bfa-18b23aafdd82')\"\n",
              "              title=\"Convert this dataframe to an interactive table.\"\n",
              "              style=\"display:none;\">\n",
              "        \n",
              "  <svg xmlns=\"http://www.w3.org/2000/svg\" height=\"24px\"viewBox=\"0 0 24 24\"\n",
              "       width=\"24px\">\n",
              "    <path d=\"M0 0h24v24H0V0z\" fill=\"none\"/>\n",
              "    <path d=\"M18.56 5.44l.94 2.06.94-2.06 2.06-.94-2.06-.94-.94-2.06-.94 2.06-2.06.94zm-11 1L8.5 8.5l.94-2.06 2.06-.94-2.06-.94L8.5 2.5l-.94 2.06-2.06.94zm10 10l.94 2.06.94-2.06 2.06-.94-2.06-.94-.94-2.06-.94 2.06-2.06.94z\"/><path d=\"M17.41 7.96l-1.37-1.37c-.4-.4-.92-.59-1.43-.59-.52 0-1.04.2-1.43.59L10.3 9.45l-7.72 7.72c-.78.78-.78 2.05 0 2.83L4 21.41c.39.39.9.59 1.41.59.51 0 1.02-.2 1.41-.59l7.78-7.78 2.81-2.81c.8-.78.8-2.07 0-2.86zM5.41 20L4 18.59l7.72-7.72 1.47 1.35L5.41 20z\"/>\n",
              "  </svg>\n",
              "      </button>\n",
              "      \n",
              "  <style>\n",
              "    .colab-df-container {\n",
              "      display:flex;\n",
              "      flex-wrap:wrap;\n",
              "      gap: 12px;\n",
              "    }\n",
              "\n",
              "    .colab-df-convert {\n",
              "      background-color: #E8F0FE;\n",
              "      border: none;\n",
              "      border-radius: 50%;\n",
              "      cursor: pointer;\n",
              "      display: none;\n",
              "      fill: #1967D2;\n",
              "      height: 32px;\n",
              "      padding: 0 0 0 0;\n",
              "      width: 32px;\n",
              "    }\n",
              "\n",
              "    .colab-df-convert:hover {\n",
              "      background-color: #E2EBFA;\n",
              "      box-shadow: 0px 1px 2px rgba(60, 64, 67, 0.3), 0px 1px 3px 1px rgba(60, 64, 67, 0.15);\n",
              "      fill: #174EA6;\n",
              "    }\n",
              "\n",
              "    [theme=dark] .colab-df-convert {\n",
              "      background-color: #3B4455;\n",
              "      fill: #D2E3FC;\n",
              "    }\n",
              "\n",
              "    [theme=dark] .colab-df-convert:hover {\n",
              "      background-color: #434B5C;\n",
              "      box-shadow: 0px 1px 3px 1px rgba(0, 0, 0, 0.15);\n",
              "      filter: drop-shadow(0px 1px 2px rgba(0, 0, 0, 0.3));\n",
              "      fill: #FFFFFF;\n",
              "    }\n",
              "  </style>\n",
              "\n",
              "      <script>\n",
              "        const buttonEl =\n",
              "          document.querySelector('#df-0d36b4cd-75e7-4e27-9bfa-18b23aafdd82 button.colab-df-convert');\n",
              "        buttonEl.style.display =\n",
              "          google.colab.kernel.accessAllowed ? 'block' : 'none';\n",
              "\n",
              "        async function convertToInteractive(key) {\n",
              "          const element = document.querySelector('#df-0d36b4cd-75e7-4e27-9bfa-18b23aafdd82');\n",
              "          const dataTable =\n",
              "            await google.colab.kernel.invokeFunction('convertToInteractive',\n",
              "                                                     [key], {});\n",
              "          if (!dataTable) return;\n",
              "\n",
              "          const docLinkHtml = 'Like what you see? Visit the ' +\n",
              "            '<a target=\"_blank\" href=https://colab.research.google.com/notebooks/data_table.ipynb>data table notebook</a>'\n",
              "            + ' to learn more about interactive tables.';\n",
              "          element.innerHTML = '';\n",
              "          dataTable['output_type'] = 'display_data';\n",
              "          await google.colab.output.renderOutput(dataTable, element);\n",
              "          const docLink = document.createElement('div');\n",
              "          docLink.innerHTML = docLinkHtml;\n",
              "          element.appendChild(docLink);\n",
              "        }\n",
              "      </script>\n",
              "    </div>\n",
              "  </div>\n",
              "  "
            ],
            "text/plain": [
              "             modelo  f1-score(-1)  f1-score(1)  f1-score(0)\n",
              "0  RF-RoBERTa-SMOTE      0.798665     0.222222     0.377358\n",
              "0        RF-RoBERTa      0.829060     0.000000     0.394958"
            ]
          },
          "execution_count": 108,
          "metadata": {},
          "output_type": "execute_result"
        }
      ],
      "source": [
        "df_metricas[['modelo','f1-score(-1)', 'f1-score(1)', 'f1-score(0)']]"
      ]
    },
    {
      "cell_type": "code",
      "execution_count": null,
      "metadata": {
        "colab": {
          "base_uri": "https://localhost:8080/",
          "height": 130
        },
        "id": "BdEhF7j94QfW",
        "outputId": "5caae472-e218-4265-b963-6f696a5cff61"
      },
      "outputs": [
        {
          "ename": "SyntaxError",
          "evalue": "ignored",
          "output_type": "error",
          "traceback": [
            "\u001b[0;36m  File \u001b[0;32m\"<ipython-input-76-21e0a150c078>\"\u001b[0;36m, line \u001b[0;32m1\u001b[0m\n\u001b[0;31m    RF-BERTimbau-SMOTE\t0,37\t0,18\t0,76\u001b[0m\n\u001b[0m                      \t^\u001b[0m\n\u001b[0;31mSyntaxError\u001b[0m\u001b[0;31m:\u001b[0m invalid syntax\n"
          ]
        }
      ],
      "source": [
        "RF-BERTimbau-SMOTE\t0,37\t0,18\t0,76\n",
        "RF-BERTimbau\t      0,35\t0,0 \t0,73"
      ]
    },
    {
      "cell_type": "code",
      "execution_count": null,
      "metadata": {
        "colab": {
          "base_uri": "https://localhost:8080/",
          "height": 275
        },
        "id": "vnFKCv0B6z-V",
        "outputId": "5dc0f495-c943-4e3a-d2bc-362de9ef6942"
      },
      "outputs": [
        {
          "data": {
            "text/html": [
              "\n",
              "  <div id=\"df-10dac2f5-5635-4621-a3ee-a91a6135cd68\">\n",
              "    <div class=\"colab-df-container\">\n",
              "      <div>\n",
              "<style scoped>\n",
              "    .dataframe tbody tr th:only-of-type {\n",
              "        vertical-align: middle;\n",
              "    }\n",
              "\n",
              "    .dataframe tbody tr th {\n",
              "        vertical-align: top;\n",
              "    }\n",
              "\n",
              "    .dataframe thead th {\n",
              "        text-align: right;\n",
              "    }\n",
              "</style>\n",
              "<table border=\"1\" class=\"dataframe\">\n",
              "  <thead>\n",
              "    <tr style=\"text-align: right;\">\n",
              "      <th></th>\n",
              "      <th>modelo</th>\n",
              "      <th>precision(-1)</th>\n",
              "      <th>recall(-1)</th>\n",
              "      <th>f1-score(-1)</th>\n",
              "      <th>suport(-1)</th>\n",
              "      <th>auc-roc(-1)</th>\n",
              "      <th>TP(-1)</th>\n",
              "      <th>FN(-1)</th>\n",
              "      <th>FP(-1)</th>\n",
              "      <th>TN(-1)</th>\n",
              "      <th>...</th>\n",
              "      <th>precision(0)</th>\n",
              "      <th>recall(0)</th>\n",
              "      <th>f1-score(0)</th>\n",
              "      <th>suport(0)</th>\n",
              "      <th>auc-roc(0)</th>\n",
              "      <th>TP(0)</th>\n",
              "      <th>FN(0)</th>\n",
              "      <th>FP(0)</th>\n",
              "      <th>TN(0)</th>\n",
              "      <th>accuracy</th>\n",
              "    </tr>\n",
              "  </thead>\n",
              "  <tbody>\n",
              "    <tr>\n",
              "      <th>0</th>\n",
              "      <td>RF-RoBERTa-SMOTE</td>\n",
              "      <td>0.731161</td>\n",
              "      <td>0.879902</td>\n",
              "      <td>0.798665</td>\n",
              "      <td>408.0</td>\n",
              "      <td>0.694610</td>\n",
              "      <td>359</td>\n",
              "      <td>49</td>\n",
              "      <td>132</td>\n",
              "      <td>60</td>\n",
              "      <td>...</td>\n",
              "      <td>0.505051</td>\n",
              "      <td>0.301205</td>\n",
              "      <td>0.377358</td>\n",
              "      <td>166.0</td>\n",
              "      <td>0.702418</td>\n",
              "      <td>50</td>\n",
              "      <td>116</td>\n",
              "      <td>49</td>\n",
              "      <td>385</td>\n",
              "      <td>0.688333</td>\n",
              "    </tr>\n",
              "    <tr>\n",
              "      <th>0</th>\n",
              "      <td>RF-RoBERTa</td>\n",
              "      <td>0.734848</td>\n",
              "      <td>0.950980</td>\n",
              "      <td>0.829060</td>\n",
              "      <td>408.0</td>\n",
              "      <td>0.711218</td>\n",
              "      <td>388</td>\n",
              "      <td>20</td>\n",
              "      <td>140</td>\n",
              "      <td>52</td>\n",
              "      <td>...</td>\n",
              "      <td>0.652778</td>\n",
              "      <td>0.283133</td>\n",
              "      <td>0.394958</td>\n",
              "      <td>166.0</td>\n",
              "      <td>0.708525</td>\n",
              "      <td>47</td>\n",
              "      <td>119</td>\n",
              "      <td>25</td>\n",
              "      <td>409</td>\n",
              "      <td>0.725000</td>\n",
              "    </tr>\n",
              "  </tbody>\n",
              "</table>\n",
              "<p>2 rows × 29 columns</p>\n",
              "</div>\n",
              "      <button class=\"colab-df-convert\" onclick=\"convertToInteractive('df-10dac2f5-5635-4621-a3ee-a91a6135cd68')\"\n",
              "              title=\"Convert this dataframe to an interactive table.\"\n",
              "              style=\"display:none;\">\n",
              "        \n",
              "  <svg xmlns=\"http://www.w3.org/2000/svg\" height=\"24px\"viewBox=\"0 0 24 24\"\n",
              "       width=\"24px\">\n",
              "    <path d=\"M0 0h24v24H0V0z\" fill=\"none\"/>\n",
              "    <path d=\"M18.56 5.44l.94 2.06.94-2.06 2.06-.94-2.06-.94-.94-2.06-.94 2.06-2.06.94zm-11 1L8.5 8.5l.94-2.06 2.06-.94-2.06-.94L8.5 2.5l-.94 2.06-2.06.94zm10 10l.94 2.06.94-2.06 2.06-.94-2.06-.94-.94-2.06-.94 2.06-2.06.94z\"/><path d=\"M17.41 7.96l-1.37-1.37c-.4-.4-.92-.59-1.43-.59-.52 0-1.04.2-1.43.59L10.3 9.45l-7.72 7.72c-.78.78-.78 2.05 0 2.83L4 21.41c.39.39.9.59 1.41.59.51 0 1.02-.2 1.41-.59l7.78-7.78 2.81-2.81c.8-.78.8-2.07 0-2.86zM5.41 20L4 18.59l7.72-7.72 1.47 1.35L5.41 20z\"/>\n",
              "  </svg>\n",
              "      </button>\n",
              "      \n",
              "  <style>\n",
              "    .colab-df-container {\n",
              "      display:flex;\n",
              "      flex-wrap:wrap;\n",
              "      gap: 12px;\n",
              "    }\n",
              "\n",
              "    .colab-df-convert {\n",
              "      background-color: #E8F0FE;\n",
              "      border: none;\n",
              "      border-radius: 50%;\n",
              "      cursor: pointer;\n",
              "      display: none;\n",
              "      fill: #1967D2;\n",
              "      height: 32px;\n",
              "      padding: 0 0 0 0;\n",
              "      width: 32px;\n",
              "    }\n",
              "\n",
              "    .colab-df-convert:hover {\n",
              "      background-color: #E2EBFA;\n",
              "      box-shadow: 0px 1px 2px rgba(60, 64, 67, 0.3), 0px 1px 3px 1px rgba(60, 64, 67, 0.15);\n",
              "      fill: #174EA6;\n",
              "    }\n",
              "\n",
              "    [theme=dark] .colab-df-convert {\n",
              "      background-color: #3B4455;\n",
              "      fill: #D2E3FC;\n",
              "    }\n",
              "\n",
              "    [theme=dark] .colab-df-convert:hover {\n",
              "      background-color: #434B5C;\n",
              "      box-shadow: 0px 1px 3px 1px rgba(0, 0, 0, 0.15);\n",
              "      filter: drop-shadow(0px 1px 2px rgba(0, 0, 0, 0.3));\n",
              "      fill: #FFFFFF;\n",
              "    }\n",
              "  </style>\n",
              "\n",
              "      <script>\n",
              "        const buttonEl =\n",
              "          document.querySelector('#df-10dac2f5-5635-4621-a3ee-a91a6135cd68 button.colab-df-convert');\n",
              "        buttonEl.style.display =\n",
              "          google.colab.kernel.accessAllowed ? 'block' : 'none';\n",
              "\n",
              "        async function convertToInteractive(key) {\n",
              "          const element = document.querySelector('#df-10dac2f5-5635-4621-a3ee-a91a6135cd68');\n",
              "          const dataTable =\n",
              "            await google.colab.kernel.invokeFunction('convertToInteractive',\n",
              "                                                     [key], {});\n",
              "          if (!dataTable) return;\n",
              "\n",
              "          const docLinkHtml = 'Like what you see? Visit the ' +\n",
              "            '<a target=\"_blank\" href=https://colab.research.google.com/notebooks/data_table.ipynb>data table notebook</a>'\n",
              "            + ' to learn more about interactive tables.';\n",
              "          element.innerHTML = '';\n",
              "          dataTable['output_type'] = 'display_data';\n",
              "          await google.colab.output.renderOutput(dataTable, element);\n",
              "          const docLink = document.createElement('div');\n",
              "          docLink.innerHTML = docLinkHtml;\n",
              "          element.appendChild(docLink);\n",
              "        }\n",
              "      </script>\n",
              "    </div>\n",
              "  </div>\n",
              "  "
            ],
            "text/plain": [
              "             modelo  precision(-1)  recall(-1)  f1-score(-1)  suport(-1)  \\\n",
              "0  RF-RoBERTa-SMOTE       0.731161    0.879902      0.798665       408.0   \n",
              "0        RF-RoBERTa       0.734848    0.950980      0.829060       408.0   \n",
              "\n",
              "   auc-roc(-1) TP(-1) FN(-1) FP(-1) TN(-1)  ...  precision(0)  recall(0)  \\\n",
              "0     0.694610    359     49    132     60  ...      0.505051   0.301205   \n",
              "0     0.711218    388     20    140     52  ...      0.652778   0.283133   \n",
              "\n",
              "   f1-score(0)  suport(0)  auc-roc(0) TP(0) FN(0) FP(0) TN(0)  accuracy  \n",
              "0     0.377358      166.0    0.702418    50   116    49   385  0.688333  \n",
              "0     0.394958      166.0    0.708525    47   119    25   409  0.725000  \n",
              "\n",
              "[2 rows x 29 columns]"
            ]
          },
          "execution_count": 109,
          "metadata": {},
          "output_type": "execute_result"
        }
      ],
      "source": [
        "df_metricas"
      ]
    },
    {
      "cell_type": "markdown",
      "metadata": {
        "id": "EjDXWf46Acz9"
      },
      "source": [
        "## RF UNDER_SAMPLE SMOTE"
      ]
    },
    {
      "cell_type": "code",
      "execution_count": null,
      "metadata": {
        "id": "cEU2W8T0Aj8x"
      },
      "outputs": [],
      "source": [
        "from imblearn.under_sampling import RandomUnderSampler\n",
        "sm = RandomUnderSampler()\n",
        "X_res, y_res = sm.fit_resample(X_train, y_train)"
      ]
    },
    {
      "cell_type": "code",
      "execution_count": null,
      "metadata": {
        "colab": {
          "base_uri": "https://localhost:8080/"
        },
        "id": "IemfWRx7Bi_D",
        "outputId": "4f66f3e5-a43b-4d20-fc1b-1b80ac49ca51"
      },
      "outputs": [
        {
          "name": "stdout",
          "output_type": "stream",
          "text": [
            "Counter({-1: 136, 0: 136, 1: 136})\n"
          ]
        }
      ],
      "source": [
        "counter = Counter(y_res)\n",
        "print(counter)"
      ]
    },
    {
      "cell_type": "code",
      "execution_count": null,
      "metadata": {
        "colab": {
          "base_uri": "https://localhost:8080/"
        },
        "id": "DryW8Mm1BjBB",
        "outputId": "653176a1-03cc-4698-b80f-492389bf1345"
      },
      "outputs": [
        {
          "data": {
            "text/plain": [
              "RandomForestClassifier(bootstrap=False, max_depth=12, n_estimators=300,\n",
              "                       n_jobs=-1)"
            ]
          },
          "execution_count": 112,
          "metadata": {},
          "output_type": "execute_result"
        }
      ],
      "source": [
        "rf_clf = RandomForestClassifier(max_depth=12, n_estimators= 300, n_jobs= -1, bootstrap=False)\n",
        "rf_clf.fit(X_res,y_res)"
      ]
    },
    {
      "cell_type": "code",
      "execution_count": null,
      "metadata": {
        "id": "yE6U27aVBzmL"
      },
      "outputs": [],
      "source": [
        "salvModel(rf_clf, 'rf_smote_undersampler', X_res, y_res, X_test, y_test)"
      ]
    },
    {
      "cell_type": "code",
      "execution_count": null,
      "metadata": {
        "id": "-Z7DGjXjB8Eg"
      },
      "outputs": [],
      "source": [
        "df_metricas = metricas(rf_clf, 'RF-RoBERTa-SMOTE-UnderSampler', X_test, y_test, df_metricas)"
      ]
    },
    {
      "cell_type": "code",
      "execution_count": null,
      "metadata": {
        "colab": {
          "base_uri": "https://localhost:8080/",
          "height": 306
        },
        "id": "xet2MJyLCAz1",
        "outputId": "1fe52f76-a189-425b-d3e8-206fff5d8cc6"
      },
      "outputs": [
        {
          "data": {
            "text/html": [
              "\n",
              "  <div id=\"df-6b3d3188-e7e5-4bde-811b-eba84f084a8d\">\n",
              "    <div class=\"colab-df-container\">\n",
              "      <div>\n",
              "<style scoped>\n",
              "    .dataframe tbody tr th:only-of-type {\n",
              "        vertical-align: middle;\n",
              "    }\n",
              "\n",
              "    .dataframe tbody tr th {\n",
              "        vertical-align: top;\n",
              "    }\n",
              "\n",
              "    .dataframe thead th {\n",
              "        text-align: right;\n",
              "    }\n",
              "</style>\n",
              "<table border=\"1\" class=\"dataframe\">\n",
              "  <thead>\n",
              "    <tr style=\"text-align: right;\">\n",
              "      <th></th>\n",
              "      <th>modelo</th>\n",
              "      <th>precision(-1)</th>\n",
              "      <th>recall(-1)</th>\n",
              "      <th>f1-score(-1)</th>\n",
              "      <th>suport(-1)</th>\n",
              "      <th>auc-roc(-1)</th>\n",
              "      <th>TP(-1)</th>\n",
              "      <th>FN(-1)</th>\n",
              "      <th>FP(-1)</th>\n",
              "      <th>TN(-1)</th>\n",
              "      <th>...</th>\n",
              "      <th>precision(0)</th>\n",
              "      <th>recall(0)</th>\n",
              "      <th>f1-score(0)</th>\n",
              "      <th>suport(0)</th>\n",
              "      <th>auc-roc(0)</th>\n",
              "      <th>TP(0)</th>\n",
              "      <th>FN(0)</th>\n",
              "      <th>FP(0)</th>\n",
              "      <th>TN(0)</th>\n",
              "      <th>accuracy</th>\n",
              "    </tr>\n",
              "  </thead>\n",
              "  <tbody>\n",
              "    <tr>\n",
              "      <th>0</th>\n",
              "      <td>RF-RoBERTa-SMOTE-UnderSampler</td>\n",
              "      <td>0.777778</td>\n",
              "      <td>0.566176</td>\n",
              "      <td>0.655319</td>\n",
              "      <td>408.0</td>\n",
              "      <td>0.662205</td>\n",
              "      <td>231</td>\n",
              "      <td>177</td>\n",
              "      <td>66</td>\n",
              "      <td>126</td>\n",
              "      <td>...</td>\n",
              "      <td>0.415179</td>\n",
              "      <td>0.560241</td>\n",
              "      <td>0.476923</td>\n",
              "      <td>166.0</td>\n",
              "      <td>0.682874</td>\n",
              "      <td>93</td>\n",
              "      <td>73</td>\n",
              "      <td>131</td>\n",
              "      <td>303</td>\n",
              "      <td>0.560000</td>\n",
              "    </tr>\n",
              "    <tr>\n",
              "      <th>0</th>\n",
              "      <td>RF-RoBERTa-SMOTE</td>\n",
              "      <td>0.731161</td>\n",
              "      <td>0.879902</td>\n",
              "      <td>0.798665</td>\n",
              "      <td>408.0</td>\n",
              "      <td>0.694610</td>\n",
              "      <td>359</td>\n",
              "      <td>49</td>\n",
              "      <td>132</td>\n",
              "      <td>60</td>\n",
              "      <td>...</td>\n",
              "      <td>0.505051</td>\n",
              "      <td>0.301205</td>\n",
              "      <td>0.377358</td>\n",
              "      <td>166.0</td>\n",
              "      <td>0.702418</td>\n",
              "      <td>50</td>\n",
              "      <td>116</td>\n",
              "      <td>49</td>\n",
              "      <td>385</td>\n",
              "      <td>0.688333</td>\n",
              "    </tr>\n",
              "    <tr>\n",
              "      <th>0</th>\n",
              "      <td>RF-RoBERTa</td>\n",
              "      <td>0.734848</td>\n",
              "      <td>0.950980</td>\n",
              "      <td>0.829060</td>\n",
              "      <td>408.0</td>\n",
              "      <td>0.711218</td>\n",
              "      <td>388</td>\n",
              "      <td>20</td>\n",
              "      <td>140</td>\n",
              "      <td>52</td>\n",
              "      <td>...</td>\n",
              "      <td>0.652778</td>\n",
              "      <td>0.283133</td>\n",
              "      <td>0.394958</td>\n",
              "      <td>166.0</td>\n",
              "      <td>0.708525</td>\n",
              "      <td>47</td>\n",
              "      <td>119</td>\n",
              "      <td>25</td>\n",
              "      <td>409</td>\n",
              "      <td>0.725000</td>\n",
              "    </tr>\n",
              "  </tbody>\n",
              "</table>\n",
              "<p>3 rows × 29 columns</p>\n",
              "</div>\n",
              "      <button class=\"colab-df-convert\" onclick=\"convertToInteractive('df-6b3d3188-e7e5-4bde-811b-eba84f084a8d')\"\n",
              "              title=\"Convert this dataframe to an interactive table.\"\n",
              "              style=\"display:none;\">\n",
              "        \n",
              "  <svg xmlns=\"http://www.w3.org/2000/svg\" height=\"24px\"viewBox=\"0 0 24 24\"\n",
              "       width=\"24px\">\n",
              "    <path d=\"M0 0h24v24H0V0z\" fill=\"none\"/>\n",
              "    <path d=\"M18.56 5.44l.94 2.06.94-2.06 2.06-.94-2.06-.94-.94-2.06-.94 2.06-2.06.94zm-11 1L8.5 8.5l.94-2.06 2.06-.94-2.06-.94L8.5 2.5l-.94 2.06-2.06.94zm10 10l.94 2.06.94-2.06 2.06-.94-2.06-.94-.94-2.06-.94 2.06-2.06.94z\"/><path d=\"M17.41 7.96l-1.37-1.37c-.4-.4-.92-.59-1.43-.59-.52 0-1.04.2-1.43.59L10.3 9.45l-7.72 7.72c-.78.78-.78 2.05 0 2.83L4 21.41c.39.39.9.59 1.41.59.51 0 1.02-.2 1.41-.59l7.78-7.78 2.81-2.81c.8-.78.8-2.07 0-2.86zM5.41 20L4 18.59l7.72-7.72 1.47 1.35L5.41 20z\"/>\n",
              "  </svg>\n",
              "      </button>\n",
              "      \n",
              "  <style>\n",
              "    .colab-df-container {\n",
              "      display:flex;\n",
              "      flex-wrap:wrap;\n",
              "      gap: 12px;\n",
              "    }\n",
              "\n",
              "    .colab-df-convert {\n",
              "      background-color: #E8F0FE;\n",
              "      border: none;\n",
              "      border-radius: 50%;\n",
              "      cursor: pointer;\n",
              "      display: none;\n",
              "      fill: #1967D2;\n",
              "      height: 32px;\n",
              "      padding: 0 0 0 0;\n",
              "      width: 32px;\n",
              "    }\n",
              "\n",
              "    .colab-df-convert:hover {\n",
              "      background-color: #E2EBFA;\n",
              "      box-shadow: 0px 1px 2px rgba(60, 64, 67, 0.3), 0px 1px 3px 1px rgba(60, 64, 67, 0.15);\n",
              "      fill: #174EA6;\n",
              "    }\n",
              "\n",
              "    [theme=dark] .colab-df-convert {\n",
              "      background-color: #3B4455;\n",
              "      fill: #D2E3FC;\n",
              "    }\n",
              "\n",
              "    [theme=dark] .colab-df-convert:hover {\n",
              "      background-color: #434B5C;\n",
              "      box-shadow: 0px 1px 3px 1px rgba(0, 0, 0, 0.15);\n",
              "      filter: drop-shadow(0px 1px 2px rgba(0, 0, 0, 0.3));\n",
              "      fill: #FFFFFF;\n",
              "    }\n",
              "  </style>\n",
              "\n",
              "      <script>\n",
              "        const buttonEl =\n",
              "          document.querySelector('#df-6b3d3188-e7e5-4bde-811b-eba84f084a8d button.colab-df-convert');\n",
              "        buttonEl.style.display =\n",
              "          google.colab.kernel.accessAllowed ? 'block' : 'none';\n",
              "\n",
              "        async function convertToInteractive(key) {\n",
              "          const element = document.querySelector('#df-6b3d3188-e7e5-4bde-811b-eba84f084a8d');\n",
              "          const dataTable =\n",
              "            await google.colab.kernel.invokeFunction('convertToInteractive',\n",
              "                                                     [key], {});\n",
              "          if (!dataTable) return;\n",
              "\n",
              "          const docLinkHtml = 'Like what you see? Visit the ' +\n",
              "            '<a target=\"_blank\" href=https://colab.research.google.com/notebooks/data_table.ipynb>data table notebook</a>'\n",
              "            + ' to learn more about interactive tables.';\n",
              "          element.innerHTML = '';\n",
              "          dataTable['output_type'] = 'display_data';\n",
              "          await google.colab.output.renderOutput(dataTable, element);\n",
              "          const docLink = document.createElement('div');\n",
              "          docLink.innerHTML = docLinkHtml;\n",
              "          element.appendChild(docLink);\n",
              "        }\n",
              "      </script>\n",
              "    </div>\n",
              "  </div>\n",
              "  "
            ],
            "text/plain": [
              "                          modelo  precision(-1)  recall(-1)  f1-score(-1)  \\\n",
              "0  RF-RoBERTa-SMOTE-UnderSampler       0.777778    0.566176      0.655319   \n",
              "0               RF-RoBERTa-SMOTE       0.731161    0.879902      0.798665   \n",
              "0                     RF-RoBERTa       0.734848    0.950980      0.829060   \n",
              "\n",
              "   suport(-1)  auc-roc(-1) TP(-1) FN(-1) FP(-1) TN(-1)  ...  precision(0)  \\\n",
              "0       408.0     0.662205    231    177     66    126  ...      0.415179   \n",
              "0       408.0     0.694610    359     49    132     60  ...      0.505051   \n",
              "0       408.0     0.711218    388     20    140     52  ...      0.652778   \n",
              "\n",
              "   recall(0)  f1-score(0)  suport(0)  auc-roc(0) TP(0) FN(0) FP(0) TN(0)  \\\n",
              "0   0.560241     0.476923      166.0    0.682874    93    73   131   303   \n",
              "0   0.301205     0.377358      166.0    0.702418    50   116    49   385   \n",
              "0   0.283133     0.394958      166.0    0.708525    47   119    25   409   \n",
              "\n",
              "   accuracy  \n",
              "0  0.560000  \n",
              "0  0.688333  \n",
              "0  0.725000  \n",
              "\n",
              "[3 rows x 29 columns]"
            ]
          },
          "execution_count": 115,
          "metadata": {},
          "output_type": "execute_result"
        }
      ],
      "source": [
        "df_metricas"
      ]
    },
    {
      "cell_type": "markdown",
      "metadata": {
        "id": "jnfS2KjnBnrp"
      },
      "source": [
        "## SVM"
      ]
    },
    {
      "cell_type": "code",
      "execution_count": null,
      "metadata": {
        "id": "bNfd8-h-Bzy1"
      },
      "outputs": [],
      "source": [
        "#from sklearn.model_selection import train_test_split\n",
        "#X_train, X_test, y_train, y_test = train_test_split(df_embedding, classes, test_size = 0.2, random_state=1, shuffle=True)"
      ]
    },
    {
      "cell_type": "markdown",
      "metadata": {
        "id": "MpWVT_IVB9rd"
      },
      "source": [
        "#### GridSeach SVM"
      ]
    },
    {
      "cell_type": "code",
      "execution_count": null,
      "metadata": {
        "id": "fNoMwwLUBz1P"
      },
      "outputs": [],
      "source": [
        "def grid_svm(X_train, y_test):\n",
        "  SupportVM = svm.SVC()\n",
        "\n",
        "  tuned_parameters = [\n",
        "    {\"kernel\": [\"rbf\"], \"gamma\": [1e-3, 1e-4], \"C\": [1, 10, 100, 1000]},\n",
        "    {\"kernel\": [\"linear\"], \"C\": [1, 10, 100, 1000]},\n",
        "  ]\n",
        "\n",
        "  grid_search = GridSearchCV(svm.SVC(), tuned_parameters, cv=5, scoring='accuracy')\n",
        "  grid_search.fit(X_train, y_train)\n",
        "\n",
        "  return grid_search.best_params_\n"
      ]
    },
    {
      "cell_type": "code",
      "execution_count": null,
      "metadata": {
        "id": "dUZ5KWaJCZTk"
      },
      "outputs": [],
      "source": [
        "#grid_svm(X_train, y_test)"
      ]
    },
    {
      "cell_type": "code",
      "execution_count": null,
      "metadata": {
        "colab": {
          "base_uri": "https://localhost:8080/"
        },
        "id": "oTMsgQz4Bz3W",
        "outputId": "49909df5-cd86-48f3-9e87-95b8990573df"
      },
      "outputs": [
        {
          "data": {
            "text/plain": [
              "SVC(C=10, kernel='linear', probability=True)"
            ]
          },
          "execution_count": 117,
          "metadata": {},
          "output_type": "execute_result"
        }
      ],
      "source": [
        "#SupportVM = svm.SVC(kernel='rbf', C=10, gamma=0.001, probability=True)\n",
        "SupportVM = svm.SVC(kernel='linear', C=10, probability=True)\n",
        "SupportVM.fit(X_train ,y_train)"
      ]
    },
    {
      "cell_type": "code",
      "execution_count": null,
      "metadata": {
        "id": "fx4B1ioJ2O9z"
      },
      "outputs": [],
      "source": [
        "salvModel(SupportVM, 'svm', X_train, y_train, X_test, y_test)"
      ]
    },
    {
      "cell_type": "code",
      "execution_count": null,
      "metadata": {
        "id": "7jHrjCHcpOSW"
      },
      "outputs": [],
      "source": [
        "from tqdm import tqdm\n",
        "\n",
        "import seaborn as sns\n",
        "import matplotlib.pyplot as plt"
      ]
    },
    {
      "cell_type": "code",
      "execution_count": null,
      "metadata": {
        "id": "sAcZl10uuwSU"
      },
      "outputs": [],
      "source": [
        "y_pred = SupportVM.predict(X_test)"
      ]
    },
    {
      "cell_type": "code",
      "execution_count": null,
      "metadata": {
        "id": "NrU0eHzUuTmU"
      },
      "outputs": [],
      "source": []
    },
    {
      "cell_type": "code",
      "execution_count": null,
      "metadata": {
        "colab": {
          "base_uri": "https://localhost:8080/",
          "height": 317
        },
        "id": "HGYvZ6dIooEa",
        "outputId": "54cf8697-9842-4696-a0ae-897c448495a6"
      },
      "outputs": [
        {
          "data": {
            "image/png": "[encoded data removed]",
            "text/plain": [
              "<Figure size 432x288 with 2 Axes>"
            ]
          },
          "metadata": {
            "needs_background": "light"
          },
          "output_type": "display_data"
        }
      ],
      "source": [
        "def show_confusion_matriz(confusion_matrix):\n",
        "  hmap = sns.heatmap(confusion_matrix, annot=True, fmt=\"d\", cmap=\"Blues\")\n",
        "  sns.set(font_scale=1.5)\n",
        "  hmap.yaxis.set_ticklabels(hmap.yaxis.get_ticklabels(), rotation=0, ha='right', fontsize=16)\n",
        "  hmap.xaxis.set_ticklabels(hmap.xaxis.get_ticklabels(), rotation=20, ha='right', fontsize=16)\n",
        "  plt.ylabel('True sentiment', fontsize=16)\n",
        "  plt.xlabel('Predicted sentiment', fontsize=16);\n",
        "  plt.savefig('matriz_conf_svm.pdf', dpi=300)\n",
        "  \n",
        "  \n",
        "class_names = ['desaprova', 'neutro', 'aprova']\n",
        "y_pred = SupportVM.predict(X_test)\n",
        "cm = confusion_matrix(y_test, y_pred)\n",
        "df_cm = pd.DataFrame(cm, index=class_names, columns=class_names)\n",
        "show_confusion_matriz(df_cm)"
      ]
    },
    {
      "cell_type": "code",
      "execution_count": null,
      "metadata": {
        "id": "E0vhL4nhBz5n"
      },
      "outputs": [],
      "source": [
        "df_metricas = metricas(SupportVM, 'SVM-RoBERTa', X_test, y_test, df_metricas)"
      ]
    },
    {
      "cell_type": "code",
      "execution_count": null,
      "metadata": {
        "colab": {
          "base_uri": "https://localhost:8080/",
          "height": 355
        },
        "id": "uGHalQSBHaTj",
        "outputId": "261f2aba-875a-4dec-c2b2-06f6a61aad44"
      },
      "outputs": [
        {
          "data": {
            "text/html": [
              "\n",
              "  <div id=\"df-526347f9-b73e-4579-930b-5c00a6330e11\">\n",
              "    <div class=\"colab-df-container\">\n",
              "      <div>\n",
              "<style scoped>\n",
              "    .dataframe tbody tr th:only-of-type {\n",
              "        vertical-align: middle;\n",
              "    }\n",
              "\n",
              "    .dataframe tbody tr th {\n",
              "        vertical-align: top;\n",
              "    }\n",
              "\n",
              "    .dataframe thead th {\n",
              "        text-align: right;\n",
              "    }\n",
              "</style>\n",
              "<table border=\"1\" class=\"dataframe\">\n",
              "  <thead>\n",
              "    <tr style=\"text-align: right;\">\n",
              "      <th></th>\n",
              "      <th>modelo</th>\n",
              "      <th>precision(-1)</th>\n",
              "      <th>recall(-1)</th>\n",
              "      <th>f1-score(-1)</th>\n",
              "      <th>suport(-1)</th>\n",
              "      <th>auc-roc(-1)</th>\n",
              "      <th>TP(-1)</th>\n",
              "      <th>FN(-1)</th>\n",
              "      <th>FP(-1)</th>\n",
              "      <th>TN(-1)</th>\n",
              "      <th>...</th>\n",
              "      <th>precision(0)</th>\n",
              "      <th>recall(0)</th>\n",
              "      <th>f1-score(0)</th>\n",
              "      <th>suport(0)</th>\n",
              "      <th>auc-roc(0)</th>\n",
              "      <th>TP(0)</th>\n",
              "      <th>FN(0)</th>\n",
              "      <th>FP(0)</th>\n",
              "      <th>TN(0)</th>\n",
              "      <th>accuracy</th>\n",
              "    </tr>\n",
              "  </thead>\n",
              "  <tbody>\n",
              "    <tr>\n",
              "      <th>0</th>\n",
              "      <td>SVM-RoBERTa</td>\n",
              "      <td>0.740310</td>\n",
              "      <td>0.936275</td>\n",
              "      <td>0.826840</td>\n",
              "      <td>408.0</td>\n",
              "      <td>0.706074</td>\n",
              "      <td>382</td>\n",
              "      <td>26</td>\n",
              "      <td>134</td>\n",
              "      <td>58</td>\n",
              "      <td>...</td>\n",
              "      <td>0.654321</td>\n",
              "      <td>0.319277</td>\n",
              "      <td>0.429150</td>\n",
              "      <td>166.0</td>\n",
              "      <td>0.708872</td>\n",
              "      <td>53</td>\n",
              "      <td>113</td>\n",
              "      <td>28</td>\n",
              "      <td>406</td>\n",
              "      <td>0.728333</td>\n",
              "    </tr>\n",
              "    <tr>\n",
              "      <th>0</th>\n",
              "      <td>RF-RoBERTa-SMOTE-UnderSampler</td>\n",
              "      <td>0.777778</td>\n",
              "      <td>0.566176</td>\n",
              "      <td>0.655319</td>\n",
              "      <td>408.0</td>\n",
              "      <td>0.662205</td>\n",
              "      <td>231</td>\n",
              "      <td>177</td>\n",
              "      <td>66</td>\n",
              "      <td>126</td>\n",
              "      <td>...</td>\n",
              "      <td>0.415179</td>\n",
              "      <td>0.560241</td>\n",
              "      <td>0.476923</td>\n",
              "      <td>166.0</td>\n",
              "      <td>0.682874</td>\n",
              "      <td>93</td>\n",
              "      <td>73</td>\n",
              "      <td>131</td>\n",
              "      <td>303</td>\n",
              "      <td>0.560000</td>\n",
              "    </tr>\n",
              "    <tr>\n",
              "      <th>0</th>\n",
              "      <td>RF-RoBERTa-SMOTE</td>\n",
              "      <td>0.731161</td>\n",
              "      <td>0.879902</td>\n",
              "      <td>0.798665</td>\n",
              "      <td>408.0</td>\n",
              "      <td>0.694610</td>\n",
              "      <td>359</td>\n",
              "      <td>49</td>\n",
              "      <td>132</td>\n",
              "      <td>60</td>\n",
              "      <td>...</td>\n",
              "      <td>0.505051</td>\n",
              "      <td>0.301205</td>\n",
              "      <td>0.377358</td>\n",
              "      <td>166.0</td>\n",
              "      <td>0.702418</td>\n",
              "      <td>50</td>\n",
              "      <td>116</td>\n",
              "      <td>49</td>\n",
              "      <td>385</td>\n",
              "      <td>0.688333</td>\n",
              "    </tr>\n",
              "    <tr>\n",
              "      <th>0</th>\n",
              "      <td>RF-RoBERTa</td>\n",
              "      <td>0.734848</td>\n",
              "      <td>0.950980</td>\n",
              "      <td>0.829060</td>\n",
              "      <td>408.0</td>\n",
              "      <td>0.711218</td>\n",
              "      <td>388</td>\n",
              "      <td>20</td>\n",
              "      <td>140</td>\n",
              "      <td>52</td>\n",
              "      <td>...</td>\n",
              "      <td>0.652778</td>\n",
              "      <td>0.283133</td>\n",
              "      <td>0.394958</td>\n",
              "      <td>166.0</td>\n",
              "      <td>0.708525</td>\n",
              "      <td>47</td>\n",
              "      <td>119</td>\n",
              "      <td>25</td>\n",
              "      <td>409</td>\n",
              "      <td>0.725000</td>\n",
              "    </tr>\n",
              "  </tbody>\n",
              "</table>\n",
              "<p>4 rows × 29 columns</p>\n",
              "</div>\n",
              "      <button class=\"colab-df-convert\" onclick=\"convertToInteractive('df-526347f9-b73e-4579-930b-5c00a6330e11')\"\n",
              "              title=\"Convert this dataframe to an interactive table.\"\n",
              "              style=\"display:none;\">\n",
              "        \n",
              "  <svg xmlns=\"http://www.w3.org/2000/svg\" height=\"24px\"viewBox=\"0 0 24 24\"\n",
              "       width=\"24px\">\n",
              "    <path d=\"M0 0h24v24H0V0z\" fill=\"none\"/>\n",
              "    <path d=\"M18.56 5.44l.94 2.06.94-2.06 2.06-.94-2.06-.94-.94-2.06-.94 2.06-2.06.94zm-11 1L8.5 8.5l.94-2.06 2.06-.94-2.06-.94L8.5 2.5l-.94 2.06-2.06.94zm10 10l.94 2.06.94-2.06 2.06-.94-2.06-.94-.94-2.06-.94 2.06-2.06.94z\"/><path d=\"M17.41 7.96l-1.37-1.37c-.4-.4-.92-.59-1.43-.59-.52 0-1.04.2-1.43.59L10.3 9.45l-7.72 7.72c-.78.78-.78 2.05 0 2.83L4 21.41c.39.39.9.59 1.41.59.51 0 1.02-.2 1.41-.59l7.78-7.78 2.81-2.81c.8-.78.8-2.07 0-2.86zM5.41 20L4 18.59l7.72-7.72 1.47 1.35L5.41 20z\"/>\n",
              "  </svg>\n",
              "      </button>\n",
              "      \n",
              "  <style>\n",
              "    .colab-df-container {\n",
              "      display:flex;\n",
              "      flex-wrap:wrap;\n",
              "      gap: 12px;\n",
              "    }\n",
              "\n",
              "    .colab-df-convert {\n",
              "      background-color: #E8F0FE;\n",
              "      border: none;\n",
              "      border-radius: 50%;\n",
              "      cursor: pointer;\n",
              "      display: none;\n",
              "      fill: #1967D2;\n",
              "      height: 32px;\n",
              "      padding: 0 0 0 0;\n",
              "      width: 32px;\n",
              "    }\n",
              "\n",
              "    .colab-df-convert:hover {\n",
              "      background-color: #E2EBFA;\n",
              "      box-shadow: 0px 1px 2px rgba(60, 64, 67, 0.3), 0px 1px 3px 1px rgba(60, 64, 67, 0.15);\n",
              "      fill: #174EA6;\n",
              "    }\n",
              "\n",
              "    [theme=dark] .colab-df-convert {\n",
              "      background-color: #3B4455;\n",
              "      fill: #D2E3FC;\n",
              "    }\n",
              "\n",
              "    [theme=dark] .colab-df-convert:hover {\n",
              "      background-color: #434B5C;\n",
              "      box-shadow: 0px 1px 3px 1px rgba(0, 0, 0, 0.15);\n",
              "      filter: drop-shadow(0px 1px 2px rgba(0, 0, 0, 0.3));\n",
              "      fill: #FFFFFF;\n",
              "    }\n",
              "  </style>\n",
              "\n",
              "      <script>\n",
              "        const buttonEl =\n",
              "          document.querySelector('#df-526347f9-b73e-4579-930b-5c00a6330e11 button.colab-df-convert');\n",
              "        buttonEl.style.display =\n",
              "          google.colab.kernel.accessAllowed ? 'block' : 'none';\n",
              "\n",
              "        async function convertToInteractive(key) {\n",
              "          const element = document.querySelector('#df-526347f9-b73e-4579-930b-5c00a6330e11');\n",
              "          const dataTable =\n",
              "            await google.colab.kernel.invokeFunction('convertToInteractive',\n",
              "                                                     [key], {});\n",
              "          if (!dataTable) return;\n",
              "\n",
              "          const docLinkHtml = 'Like what you see? Visit the ' +\n",
              "            '<a target=\"_blank\" href=https://colab.research.google.com/notebooks/data_table.ipynb>data table notebook</a>'\n",
              "            + ' to learn more about interactive tables.';\n",
              "          element.innerHTML = '';\n",
              "          dataTable['output_type'] = 'display_data';\n",
              "          await google.colab.output.renderOutput(dataTable, element);\n",
              "          const docLink = document.createElement('div');\n",
              "          docLink.innerHTML = docLinkHtml;\n",
              "          element.appendChild(docLink);\n",
              "        }\n",
              "      </script>\n",
              "    </div>\n",
              "  </div>\n",
              "  "
            ],
            "text/plain": [
              "                          modelo  precision(-1)  recall(-1)  f1-score(-1)  \\\n",
              "0                    SVM-RoBERTa       0.740310    0.936275      0.826840   \n",
              "0  RF-RoBERTa-SMOTE-UnderSampler       0.777778    0.566176      0.655319   \n",
              "0               RF-RoBERTa-SMOTE       0.731161    0.879902      0.798665   \n",
              "0                     RF-RoBERTa       0.734848    0.950980      0.829060   \n",
              "\n",
              "   suport(-1)  auc-roc(-1) TP(-1) FN(-1) FP(-1) TN(-1)  ...  precision(0)  \\\n",
              "0       408.0     0.706074    382     26    134     58  ...      0.654321   \n",
              "0       408.0     0.662205    231    177     66    126  ...      0.415179   \n",
              "0       408.0     0.694610    359     49    132     60  ...      0.505051   \n",
              "0       408.0     0.711218    388     20    140     52  ...      0.652778   \n",
              "\n",
              "   recall(0)  f1-score(0)  suport(0)  auc-roc(0) TP(0) FN(0) FP(0) TN(0)  \\\n",
              "0   0.319277     0.429150      166.0    0.708872    53   113    28   406   \n",
              "0   0.560241     0.476923      166.0    0.682874    93    73   131   303   \n",
              "0   0.301205     0.377358      166.0    0.702418    50   116    49   385   \n",
              "0   0.283133     0.394958      166.0    0.708525    47   119    25   409   \n",
              "\n",
              "   accuracy  \n",
              "0  0.728333  \n",
              "0  0.560000  \n",
              "0  0.688333  \n",
              "0  0.725000  \n",
              "\n",
              "[4 rows x 29 columns]"
            ]
          },
          "execution_count": 122,
          "metadata": {},
          "output_type": "execute_result"
        }
      ],
      "source": [
        "df_metricas"
      ]
    },
    {
      "cell_type": "markdown",
      "metadata": {
        "id": "9Hzx8fSGDLfZ"
      },
      "source": [
        "#### SVM SMOTE"
      ]
    },
    {
      "cell_type": "code",
      "execution_count": null,
      "metadata": {
        "id": "7eHE-_4QBz70"
      },
      "outputs": [],
      "source": [
        "from imblearn.over_sampling import SVMSMOTE\n",
        "sm = SVMSMOTE()\n",
        "X_res, y_res = sm.fit_resample(X_train, y_train)"
      ]
    },
    {
      "cell_type": "code",
      "execution_count": null,
      "metadata": {
        "colab": {
          "base_uri": "https://localhost:8080/"
        },
        "id": "5VG6yNGKBz-R",
        "outputId": "110dc556-4314-47ac-82f9-510061f43c11"
      },
      "outputs": [
        {
          "name": "stdout",
          "output_type": "stream",
          "text": [
            "Counter({0: 1636, 1: 1636, -1: 1636})\n"
          ]
        }
      ],
      "source": [
        "counter = Counter(y_res)\n",
        "print(counter)"
      ]
    },
    {
      "cell_type": "code",
      "execution_count": null,
      "metadata": {
        "id": "TC5_bgJrB0At"
      },
      "outputs": [],
      "source": [
        "#grid_svm(X_res, y_res)"
      ]
    },
    {
      "cell_type": "code",
      "execution_count": null,
      "metadata": {
        "colab": {
          "base_uri": "https://localhost:8080/"
        },
        "id": "6YcYH1WfDgao",
        "outputId": "431d8da8-327f-40bb-cf38-758a795cbaed"
      },
      "outputs": [
        {
          "data": {
            "text/plain": [
              "SVC(C=10, gamma=0.001, probability=True)"
            ]
          },
          "execution_count": 125,
          "metadata": {},
          "output_type": "execute_result"
        }
      ],
      "source": [
        "SupportVM = svm.SVC(kernel='rbf', C=10, gamma=0.001, probability=True)\n",
        "SupportVM.fit(X_res ,y_res)"
      ]
    },
    {
      "cell_type": "code",
      "execution_count": null,
      "metadata": {
        "id": "Ern4zyGO2WCt"
      },
      "outputs": [],
      "source": [
        "salvModel(SupportVM, 'svm_smote', X_res, y_res, X_test, y_test)"
      ]
    },
    {
      "cell_type": "code",
      "execution_count": null,
      "metadata": {
        "id": "LeNdqnLkDgdX"
      },
      "outputs": [],
      "source": [
        "df_metricas = metricas(SupportVM, 'SVM-roBERTa-SMOTE', X_test, y_test, df_metricas)"
      ]
    },
    {
      "cell_type": "code",
      "execution_count": null,
      "metadata": {
        "colab": {
          "base_uri": "https://localhost:8080/",
          "height": 421
        },
        "id": "TIL_N6L-OX8A",
        "outputId": "3ba6349c-e46c-4bcd-fb1d-0f8460b924c9"
      },
      "outputs": [
        {
          "data": {
            "text/html": [
              "\n",
              "  <div id=\"df-9485e957-6267-4a92-9fc2-e9b7e3f02ec5\">\n",
              "    <div class=\"colab-df-container\">\n",
              "      <div>\n",
              "<style scoped>\n",
              "    .dataframe tbody tr th:only-of-type {\n",
              "        vertical-align: middle;\n",
              "    }\n",
              "\n",
              "    .dataframe tbody tr th {\n",
              "        vertical-align: top;\n",
              "    }\n",
              "\n",
              "    .dataframe thead th {\n",
              "        text-align: right;\n",
              "    }\n",
              "</style>\n",
              "<table border=\"1\" class=\"dataframe\">\n",
              "  <thead>\n",
              "    <tr style=\"text-align: right;\">\n",
              "      <th></th>\n",
              "      <th>modelo</th>\n",
              "      <th>precision(-1)</th>\n",
              "      <th>recall(-1)</th>\n",
              "      <th>f1-score(-1)</th>\n",
              "      <th>suport(-1)</th>\n",
              "      <th>auc-roc(-1)</th>\n",
              "      <th>TP(-1)</th>\n",
              "      <th>FN(-1)</th>\n",
              "      <th>FP(-1)</th>\n",
              "      <th>TN(-1)</th>\n",
              "      <th>...</th>\n",
              "      <th>precision(0)</th>\n",
              "      <th>recall(0)</th>\n",
              "      <th>f1-score(0)</th>\n",
              "      <th>suport(0)</th>\n",
              "      <th>auc-roc(0)</th>\n",
              "      <th>TP(0)</th>\n",
              "      <th>FN(0)</th>\n",
              "      <th>FP(0)</th>\n",
              "      <th>TN(0)</th>\n",
              "      <th>accuracy</th>\n",
              "    </tr>\n",
              "  </thead>\n",
              "  <tbody>\n",
              "    <tr>\n",
              "      <th>0</th>\n",
              "      <td>SVM-roBERTa-SMOTE</td>\n",
              "      <td>0.735632</td>\n",
              "      <td>0.941176</td>\n",
              "      <td>0.825806</td>\n",
              "      <td>408.0</td>\n",
              "      <td>0.649101</td>\n",
              "      <td>384</td>\n",
              "      <td>24</td>\n",
              "      <td>138</td>\n",
              "      <td>54</td>\n",
              "      <td>...</td>\n",
              "      <td>0.619718</td>\n",
              "      <td>0.265060</td>\n",
              "      <td>0.371308</td>\n",
              "      <td>166.0</td>\n",
              "      <td>0.647521</td>\n",
              "      <td>44</td>\n",
              "      <td>122</td>\n",
              "      <td>27</td>\n",
              "      <td>407</td>\n",
              "      <td>0.718333</td>\n",
              "    </tr>\n",
              "    <tr>\n",
              "      <th>0</th>\n",
              "      <td>SVM-RoBERTa</td>\n",
              "      <td>0.740310</td>\n",
              "      <td>0.936275</td>\n",
              "      <td>0.826840</td>\n",
              "      <td>408.0</td>\n",
              "      <td>0.706074</td>\n",
              "      <td>382</td>\n",
              "      <td>26</td>\n",
              "      <td>134</td>\n",
              "      <td>58</td>\n",
              "      <td>...</td>\n",
              "      <td>0.654321</td>\n",
              "      <td>0.319277</td>\n",
              "      <td>0.429150</td>\n",
              "      <td>166.0</td>\n",
              "      <td>0.708872</td>\n",
              "      <td>53</td>\n",
              "      <td>113</td>\n",
              "      <td>28</td>\n",
              "      <td>406</td>\n",
              "      <td>0.728333</td>\n",
              "    </tr>\n",
              "    <tr>\n",
              "      <th>0</th>\n",
              "      <td>RF-RoBERTa-SMOTE-UnderSampler</td>\n",
              "      <td>0.777778</td>\n",
              "      <td>0.566176</td>\n",
              "      <td>0.655319</td>\n",
              "      <td>408.0</td>\n",
              "      <td>0.662205</td>\n",
              "      <td>231</td>\n",
              "      <td>177</td>\n",
              "      <td>66</td>\n",
              "      <td>126</td>\n",
              "      <td>...</td>\n",
              "      <td>0.415179</td>\n",
              "      <td>0.560241</td>\n",
              "      <td>0.476923</td>\n",
              "      <td>166.0</td>\n",
              "      <td>0.682874</td>\n",
              "      <td>93</td>\n",
              "      <td>73</td>\n",
              "      <td>131</td>\n",
              "      <td>303</td>\n",
              "      <td>0.560000</td>\n",
              "    </tr>\n",
              "    <tr>\n",
              "      <th>0</th>\n",
              "      <td>RF-RoBERTa-SMOTE</td>\n",
              "      <td>0.731161</td>\n",
              "      <td>0.879902</td>\n",
              "      <td>0.798665</td>\n",
              "      <td>408.0</td>\n",
              "      <td>0.694610</td>\n",
              "      <td>359</td>\n",
              "      <td>49</td>\n",
              "      <td>132</td>\n",
              "      <td>60</td>\n",
              "      <td>...</td>\n",
              "      <td>0.505051</td>\n",
              "      <td>0.301205</td>\n",
              "      <td>0.377358</td>\n",
              "      <td>166.0</td>\n",
              "      <td>0.702418</td>\n",
              "      <td>50</td>\n",
              "      <td>116</td>\n",
              "      <td>49</td>\n",
              "      <td>385</td>\n",
              "      <td>0.688333</td>\n",
              "    </tr>\n",
              "    <tr>\n",
              "      <th>0</th>\n",
              "      <td>RF-RoBERTa</td>\n",
              "      <td>0.734848</td>\n",
              "      <td>0.950980</td>\n",
              "      <td>0.829060</td>\n",
              "      <td>408.0</td>\n",
              "      <td>0.711218</td>\n",
              "      <td>388</td>\n",
              "      <td>20</td>\n",
              "      <td>140</td>\n",
              "      <td>52</td>\n",
              "      <td>...</td>\n",
              "      <td>0.652778</td>\n",
              "      <td>0.283133</td>\n",
              "      <td>0.394958</td>\n",
              "      <td>166.0</td>\n",
              "      <td>0.708525</td>\n",
              "      <td>47</td>\n",
              "      <td>119</td>\n",
              "      <td>25</td>\n",
              "      <td>409</td>\n",
              "      <td>0.725000</td>\n",
              "    </tr>\n",
              "  </tbody>\n",
              "</table>\n",
              "<p>5 rows × 29 columns</p>\n",
              "</div>\n",
              "      <button class=\"colab-df-convert\" onclick=\"convertToInteractive('df-9485e957-6267-4a92-9fc2-e9b7e3f02ec5')\"\n",
              "              title=\"Convert this dataframe to an interactive table.\"\n",
              "              style=\"display:none;\">\n",
              "        \n",
              "  <svg xmlns=\"http://www.w3.org/2000/svg\" height=\"24px\"viewBox=\"0 0 24 24\"\n",
              "       width=\"24px\">\n",
              "    <path d=\"M0 0h24v24H0V0z\" fill=\"none\"/>\n",
              "    <path d=\"M18.56 5.44l.94 2.06.94-2.06 2.06-.94-2.06-.94-.94-2.06-.94 2.06-2.06.94zm-11 1L8.5 8.5l.94-2.06 2.06-.94-2.06-.94L8.5 2.5l-.94 2.06-2.06.94zm10 10l.94 2.06.94-2.06 2.06-.94-2.06-.94-.94-2.06-.94 2.06-2.06.94z\"/><path d=\"M17.41 7.96l-1.37-1.37c-.4-.4-.92-.59-1.43-.59-.52 0-1.04.2-1.43.59L10.3 9.45l-7.72 7.72c-.78.78-.78 2.05 0 2.83L4 21.41c.39.39.9.59 1.41.59.51 0 1.02-.2 1.41-.59l7.78-7.78 2.81-2.81c.8-.78.8-2.07 0-2.86zM5.41 20L4 18.59l7.72-7.72 1.47 1.35L5.41 20z\"/>\n",
              "  </svg>\n",
              "      </button>\n",
              "      \n",
              "  <style>\n",
              "    .colab-df-container {\n",
              "      display:flex;\n",
              "      flex-wrap:wrap;\n",
              "      gap: 12px;\n",
              "    }\n",
              "\n",
              "    .colab-df-convert {\n",
              "      background-color: #E8F0FE;\n",
              "      border: none;\n",
              "      border-radius: 50%;\n",
              "      cursor: pointer;\n",
              "      display: none;\n",
              "      fill: #1967D2;\n",
              "      height: 32px;\n",
              "      padding: 0 0 0 0;\n",
              "      width: 32px;\n",
              "    }\n",
              "\n",
              "    .colab-df-convert:hover {\n",
              "      background-color: #E2EBFA;\n",
              "      box-shadow: 0px 1px 2px rgba(60, 64, 67, 0.3), 0px 1px 3px 1px rgba(60, 64, 67, 0.15);\n",
              "      fill: #174EA6;\n",
              "    }\n",
              "\n",
              "    [theme=dark] .colab-df-convert {\n",
              "      background-color: #3B4455;\n",
              "      fill: #D2E3FC;\n",
              "    }\n",
              "\n",
              "    [theme=dark] .colab-df-convert:hover {\n",
              "      background-color: #434B5C;\n",
              "      box-shadow: 0px 1px 3px 1px rgba(0, 0, 0, 0.15);\n",
              "      filter: drop-shadow(0px 1px 2px rgba(0, 0, 0, 0.3));\n",
              "      fill: #FFFFFF;\n",
              "    }\n",
              "  </style>\n",
              "\n",
              "      <script>\n",
              "        const buttonEl =\n",
              "          document.querySelector('#df-9485e957-6267-4a92-9fc2-e9b7e3f02ec5 button.colab-df-convert');\n",
              "        buttonEl.style.display =\n",
              "          google.colab.kernel.accessAllowed ? 'block' : 'none';\n",
              "\n",
              "        async function convertToInteractive(key) {\n",
              "          const element = document.querySelector('#df-9485e957-6267-4a92-9fc2-e9b7e3f02ec5');\n",
              "          const dataTable =\n",
              "            await google.colab.kernel.invokeFunction('convertToInteractive',\n",
              "                                                     [key], {});\n",
              "          if (!dataTable) return;\n",
              "\n",
              "          const docLinkHtml = 'Like what you see? Visit the ' +\n",
              "            '<a target=\"_blank\" href=https://colab.research.google.com/notebooks/data_table.ipynb>data table notebook</a>'\n",
              "            + ' to learn more about interactive tables.';\n",
              "          element.innerHTML = '';\n",
              "          dataTable['output_type'] = 'display_data';\n",
              "          await google.colab.output.renderOutput(dataTable, element);\n",
              "          const docLink = document.createElement('div');\n",
              "          docLink.innerHTML = docLinkHtml;\n",
              "          element.appendChild(docLink);\n",
              "        }\n",
              "      </script>\n",
              "    </div>\n",
              "  </div>\n",
              "  "
            ],
            "text/plain": [
              "                          modelo  precision(-1)  recall(-1)  f1-score(-1)  \\\n",
              "0              SVM-roBERTa-SMOTE       0.735632    0.941176      0.825806   \n",
              "0                    SVM-RoBERTa       0.740310    0.936275      0.826840   \n",
              "0  RF-RoBERTa-SMOTE-UnderSampler       0.777778    0.566176      0.655319   \n",
              "0               RF-RoBERTa-SMOTE       0.731161    0.879902      0.798665   \n",
              "0                     RF-RoBERTa       0.734848    0.950980      0.829060   \n",
              "\n",
              "   suport(-1)  auc-roc(-1) TP(-1) FN(-1) FP(-1) TN(-1)  ...  precision(0)  \\\n",
              "0       408.0     0.649101    384     24    138     54  ...      0.619718   \n",
              "0       408.0     0.706074    382     26    134     58  ...      0.654321   \n",
              "0       408.0     0.662205    231    177     66    126  ...      0.415179   \n",
              "0       408.0     0.694610    359     49    132     60  ...      0.505051   \n",
              "0       408.0     0.711218    388     20    140     52  ...      0.652778   \n",
              "\n",
              "   recall(0)  f1-score(0)  suport(0)  auc-roc(0) TP(0) FN(0) FP(0) TN(0)  \\\n",
              "0   0.265060     0.371308      166.0    0.647521    44   122    27   407   \n",
              "0   0.319277     0.429150      166.0    0.708872    53   113    28   406   \n",
              "0   0.560241     0.476923      166.0    0.682874    93    73   131   303   \n",
              "0   0.301205     0.377358      166.0    0.702418    50   116    49   385   \n",
              "0   0.283133     0.394958      166.0    0.708525    47   119    25   409   \n",
              "\n",
              "   accuracy  \n",
              "0  0.718333  \n",
              "0  0.728333  \n",
              "0  0.560000  \n",
              "0  0.688333  \n",
              "0  0.725000  \n",
              "\n",
              "[5 rows x 29 columns]"
            ]
          },
          "execution_count": 128,
          "metadata": {},
          "output_type": "execute_result"
        }
      ],
      "source": [
        "df_metricas"
      ]
    },
    {
      "cell_type": "markdown",
      "metadata": {
        "id": "lbxnVhBpCNuo"
      },
      "source": [
        "## SVM SMOTE UNDERSAMPLER"
      ]
    },
    {
      "cell_type": "code",
      "execution_count": null,
      "metadata": {
        "id": "1MHR_v8oCSPa"
      },
      "outputs": [],
      "source": [
        "from imblearn.under_sampling import RandomUnderSampler\n",
        "sm = RandomUnderSampler()\n",
        "X_res, y_res = sm.fit_resample(X_train, y_train)"
      ]
    },
    {
      "cell_type": "code",
      "execution_count": null,
      "metadata": {
        "colab": {
          "base_uri": "https://localhost:8080/"
        },
        "id": "aZbupt7CCYdp",
        "outputId": "480e6f71-1d8a-4b37-e79a-8fa6ec447ff2"
      },
      "outputs": [
        {
          "name": "stdout",
          "output_type": "stream",
          "text": [
            "Counter({-1: 136, 0: 136, 1: 136})\n"
          ]
        }
      ],
      "source": [
        "counter = Counter(y_res)\n",
        "print(counter)"
      ]
    },
    {
      "cell_type": "code",
      "execution_count": null,
      "metadata": {
        "colab": {
          "base_uri": "https://localhost:8080/"
        },
        "id": "iYV-k3JyCYuA",
        "outputId": "771fea75-7b9b-49f4-e83a-beac493a5f55"
      },
      "outputs": [
        {
          "data": {
            "text/plain": [
              "SVC(C=10, gamma=0.001, probability=True)"
            ]
          },
          "execution_count": 131,
          "metadata": {},
          "output_type": "execute_result"
        }
      ],
      "source": [
        "SupportVM = svm.SVC(kernel='rbf', C=10, gamma=0.001, probability=True)\n",
        "SupportVM.fit(X_res ,y_res)"
      ]
    },
    {
      "cell_type": "code",
      "execution_count": null,
      "metadata": {
        "id": "nrPXv9cECYwM"
      },
      "outputs": [],
      "source": [
        "salvModel(SupportVM, 'svm_smote_undersampler', X_res, y_res, X_test, y_test)"
      ]
    },
    {
      "cell_type": "code",
      "execution_count": null,
      "metadata": {
        "id": "y-BTNPJSCYyH"
      },
      "outputs": [],
      "source": [
        "df_metricas = metricas(SupportVM, 'SVM-roBERTa-SMOTE-UnderSampler', X_test, y_test, df_metricas)"
      ]
    },
    {
      "cell_type": "code",
      "execution_count": null,
      "metadata": {
        "colab": {
          "base_uri": "https://localhost:8080/",
          "height": 504
        },
        "id": "lTcGhQLcCxKS",
        "outputId": "558a9c72-08b1-4431-e3b6-720869110f5b"
      },
      "outputs": [
        {
          "data": {
            "text/html": [
              "\n",
              "  <div id=\"df-3d0f387c-bf7d-404e-90c3-d58b9f74c529\">\n",
              "    <div class=\"colab-df-container\">\n",
              "      <div>\n",
              "<style scoped>\n",
              "    .dataframe tbody tr th:only-of-type {\n",
              "        vertical-align: middle;\n",
              "    }\n",
              "\n",
              "    .dataframe tbody tr th {\n",
              "        vertical-align: top;\n",
              "    }\n",
              "\n",
              "    .dataframe thead th {\n",
              "        text-align: right;\n",
              "    }\n",
              "</style>\n",
              "<table border=\"1\" class=\"dataframe\">\n",
              "  <thead>\n",
              "    <tr style=\"text-align: right;\">\n",
              "      <th></th>\n",
              "      <th>modelo</th>\n",
              "      <th>precision(-1)</th>\n",
              "      <th>recall(-1)</th>\n",
              "      <th>f1-score(-1)</th>\n",
              "      <th>suport(-1)</th>\n",
              "      <th>auc-roc(-1)</th>\n",
              "      <th>TP(-1)</th>\n",
              "      <th>FN(-1)</th>\n",
              "      <th>FP(-1)</th>\n",
              "      <th>TN(-1)</th>\n",
              "      <th>...</th>\n",
              "      <th>precision(0)</th>\n",
              "      <th>recall(0)</th>\n",
              "      <th>f1-score(0)</th>\n",
              "      <th>suport(0)</th>\n",
              "      <th>auc-roc(0)</th>\n",
              "      <th>TP(0)</th>\n",
              "      <th>FN(0)</th>\n",
              "      <th>FP(0)</th>\n",
              "      <th>TN(0)</th>\n",
              "      <th>accuracy</th>\n",
              "    </tr>\n",
              "  </thead>\n",
              "  <tbody>\n",
              "    <tr>\n",
              "      <th>0</th>\n",
              "      <td>SVM-roBERTa-SMOTE-UnderSampler</td>\n",
              "      <td>0.706306</td>\n",
              "      <td>0.960784</td>\n",
              "      <td>0.814123</td>\n",
              "      <td>408.0</td>\n",
              "      <td>0.403033</td>\n",
              "      <td>392</td>\n",
              "      <td>16</td>\n",
              "      <td>163</td>\n",
              "      <td>29</td>\n",
              "      <td>...</td>\n",
              "      <td>0.642857</td>\n",
              "      <td>0.108434</td>\n",
              "      <td>0.185567</td>\n",
              "      <td>166.0</td>\n",
              "      <td>0.350702</td>\n",
              "      <td>18</td>\n",
              "      <td>148</td>\n",
              "      <td>10</td>\n",
              "      <td>424</td>\n",
              "      <td>0.690000</td>\n",
              "    </tr>\n",
              "    <tr>\n",
              "      <th>0</th>\n",
              "      <td>SVM-roBERTa-SMOTE</td>\n",
              "      <td>0.735632</td>\n",
              "      <td>0.941176</td>\n",
              "      <td>0.825806</td>\n",
              "      <td>408.0</td>\n",
              "      <td>0.649101</td>\n",
              "      <td>384</td>\n",
              "      <td>24</td>\n",
              "      <td>138</td>\n",
              "      <td>54</td>\n",
              "      <td>...</td>\n",
              "      <td>0.619718</td>\n",
              "      <td>0.265060</td>\n",
              "      <td>0.371308</td>\n",
              "      <td>166.0</td>\n",
              "      <td>0.647521</td>\n",
              "      <td>44</td>\n",
              "      <td>122</td>\n",
              "      <td>27</td>\n",
              "      <td>407</td>\n",
              "      <td>0.718333</td>\n",
              "    </tr>\n",
              "    <tr>\n",
              "      <th>0</th>\n",
              "      <td>SVM-RoBERTa</td>\n",
              "      <td>0.740310</td>\n",
              "      <td>0.936275</td>\n",
              "      <td>0.826840</td>\n",
              "      <td>408.0</td>\n",
              "      <td>0.706074</td>\n",
              "      <td>382</td>\n",
              "      <td>26</td>\n",
              "      <td>134</td>\n",
              "      <td>58</td>\n",
              "      <td>...</td>\n",
              "      <td>0.654321</td>\n",
              "      <td>0.319277</td>\n",
              "      <td>0.429150</td>\n",
              "      <td>166.0</td>\n",
              "      <td>0.708872</td>\n",
              "      <td>53</td>\n",
              "      <td>113</td>\n",
              "      <td>28</td>\n",
              "      <td>406</td>\n",
              "      <td>0.728333</td>\n",
              "    </tr>\n",
              "    <tr>\n",
              "      <th>0</th>\n",
              "      <td>RF-RoBERTa-SMOTE-UnderSampler</td>\n",
              "      <td>0.777778</td>\n",
              "      <td>0.566176</td>\n",
              "      <td>0.655319</td>\n",
              "      <td>408.0</td>\n",
              "      <td>0.662205</td>\n",
              "      <td>231</td>\n",
              "      <td>177</td>\n",
              "      <td>66</td>\n",
              "      <td>126</td>\n",
              "      <td>...</td>\n",
              "      <td>0.415179</td>\n",
              "      <td>0.560241</td>\n",
              "      <td>0.476923</td>\n",
              "      <td>166.0</td>\n",
              "      <td>0.682874</td>\n",
              "      <td>93</td>\n",
              "      <td>73</td>\n",
              "      <td>131</td>\n",
              "      <td>303</td>\n",
              "      <td>0.560000</td>\n",
              "    </tr>\n",
              "    <tr>\n",
              "      <th>0</th>\n",
              "      <td>RF-RoBERTa-SMOTE</td>\n",
              "      <td>0.731161</td>\n",
              "      <td>0.879902</td>\n",
              "      <td>0.798665</td>\n",
              "      <td>408.0</td>\n",
              "      <td>0.694610</td>\n",
              "      <td>359</td>\n",
              "      <td>49</td>\n",
              "      <td>132</td>\n",
              "      <td>60</td>\n",
              "      <td>...</td>\n",
              "      <td>0.505051</td>\n",
              "      <td>0.301205</td>\n",
              "      <td>0.377358</td>\n",
              "      <td>166.0</td>\n",
              "      <td>0.702418</td>\n",
              "      <td>50</td>\n",
              "      <td>116</td>\n",
              "      <td>49</td>\n",
              "      <td>385</td>\n",
              "      <td>0.688333</td>\n",
              "    </tr>\n",
              "    <tr>\n",
              "      <th>0</th>\n",
              "      <td>RF-RoBERTa</td>\n",
              "      <td>0.734848</td>\n",
              "      <td>0.950980</td>\n",
              "      <td>0.829060</td>\n",
              "      <td>408.0</td>\n",
              "      <td>0.711218</td>\n",
              "      <td>388</td>\n",
              "      <td>20</td>\n",
              "      <td>140</td>\n",
              "      <td>52</td>\n",
              "      <td>...</td>\n",
              "      <td>0.652778</td>\n",
              "      <td>0.283133</td>\n",
              "      <td>0.394958</td>\n",
              "      <td>166.0</td>\n",
              "      <td>0.708525</td>\n",
              "      <td>47</td>\n",
              "      <td>119</td>\n",
              "      <td>25</td>\n",
              "      <td>409</td>\n",
              "      <td>0.725000</td>\n",
              "    </tr>\n",
              "  </tbody>\n",
              "</table>\n",
              "<p>6 rows × 29 columns</p>\n",
              "</div>\n",
              "      <button class=\"colab-df-convert\" onclick=\"convertToInteractive('df-3d0f387c-bf7d-404e-90c3-d58b9f74c529')\"\n",
              "              title=\"Convert this dataframe to an interactive table.\"\n",
              "              style=\"display:none;\">\n",
              "        \n",
              "  <svg xmlns=\"http://www.w3.org/2000/svg\" height=\"24px\"viewBox=\"0 0 24 24\"\n",
              "       width=\"24px\">\n",
              "    <path d=\"M0 0h24v24H0V0z\" fill=\"none\"/>\n",
              "    <path d=\"M18.56 5.44l.94 2.06.94-2.06 2.06-.94-2.06-.94-.94-2.06-.94 2.06-2.06.94zm-11 1L8.5 8.5l.94-2.06 2.06-.94-2.06-.94L8.5 2.5l-.94 2.06-2.06.94zm10 10l.94 2.06.94-2.06 2.06-.94-2.06-.94-.94-2.06-.94 2.06-2.06.94z\"/><path d=\"M17.41 7.96l-1.37-1.37c-.4-.4-.92-.59-1.43-.59-.52 0-1.04.2-1.43.59L10.3 9.45l-7.72 7.72c-.78.78-.78 2.05 0 2.83L4 21.41c.39.39.9.59 1.41.59.51 0 1.02-.2 1.41-.59l7.78-7.78 2.81-2.81c.8-.78.8-2.07 0-2.86zM5.41 20L4 18.59l7.72-7.72 1.47 1.35L5.41 20z\"/>\n",
              "  </svg>\n",
              "      </button>\n",
              "      \n",
              "  <style>\n",
              "    .colab-df-container {\n",
              "      display:flex;\n",
              "      flex-wrap:wrap;\n",
              "      gap: 12px;\n",
              "    }\n",
              "\n",
              "    .colab-df-convert {\n",
              "      background-color: #E8F0FE;\n",
              "      border: none;\n",
              "      border-radius: 50%;\n",
              "      cursor: pointer;\n",
              "      display: none;\n",
              "      fill: #1967D2;\n",
              "      height: 32px;\n",
              "      padding: 0 0 0 0;\n",
              "      width: 32px;\n",
              "    }\n",
              "\n",
              "    .colab-df-convert:hover {\n",
              "      background-color: #E2EBFA;\n",
              "      box-shadow: 0px 1px 2px rgba(60, 64, 67, 0.3), 0px 1px 3px 1px rgba(60, 64, 67, 0.15);\n",
              "      fill: #174EA6;\n",
              "    }\n",
              "\n",
              "    [theme=dark] .colab-df-convert {\n",
              "      background-color: #3B4455;\n",
              "      fill: #D2E3FC;\n",
              "    }\n",
              "\n",
              "    [theme=dark] .colab-df-convert:hover {\n",
              "      background-color: #434B5C;\n",
              "      box-shadow: 0px 1px 3px 1px rgba(0, 0, 0, 0.15);\n",
              "      filter: drop-shadow(0px 1px 2px rgba(0, 0, 0, 0.3));\n",
              "      fill: #FFFFFF;\n",
              "    }\n",
              "  </style>\n",
              "\n",
              "      <script>\n",
              "        const buttonEl =\n",
              "          document.querySelector('#df-3d0f387c-bf7d-404e-90c3-d58b9f74c529 button.colab-df-convert');\n",
              "        buttonEl.style.display =\n",
              "          google.colab.kernel.accessAllowed ? 'block' : 'none';\n",
              "\n",
              "        async function convertToInteractive(key) {\n",
              "          const element = document.querySelector('#df-3d0f387c-bf7d-404e-90c3-d58b9f74c529');\n",
              "          const dataTable =\n",
              "            await google.colab.kernel.invokeFunction('convertToInteractive',\n",
              "                                                     [key], {});\n",
              "          if (!dataTable) return;\n",
              "\n",
              "          const docLinkHtml = 'Like what you see? Visit the ' +\n",
              "            '<a target=\"_blank\" href=https://colab.research.google.com/notebooks/data_table.ipynb>data table notebook</a>'\n",
              "            + ' to learn more about interactive tables.';\n",
              "          element.innerHTML = '';\n",
              "          dataTable['output_type'] = 'display_data';\n",
              "          await google.colab.output.renderOutput(dataTable, element);\n",
              "          const docLink = document.createElement('div');\n",
              "          docLink.innerHTML = docLinkHtml;\n",
              "          element.appendChild(docLink);\n",
              "        }\n",
              "      </script>\n",
              "    </div>\n",
              "  </div>\n",
              "  "
            ],
            "text/plain": [
              "                           modelo  precision(-1)  recall(-1)  f1-score(-1)  \\\n",
              "0  SVM-roBERTa-SMOTE-UnderSampler       0.706306    0.960784      0.814123   \n",
              "0               SVM-roBERTa-SMOTE       0.735632    0.941176      0.825806   \n",
              "0                     SVM-RoBERTa       0.740310    0.936275      0.826840   \n",
              "0   RF-RoBERTa-SMOTE-UnderSampler       0.777778    0.566176      0.655319   \n",
              "0                RF-RoBERTa-SMOTE       0.731161    0.879902      0.798665   \n",
              "0                      RF-RoBERTa       0.734848    0.950980      0.829060   \n",
              "\n",
              "   suport(-1)  auc-roc(-1) TP(-1) FN(-1) FP(-1) TN(-1)  ...  precision(0)  \\\n",
              "0       408.0     0.403033    392     16    163     29  ...      0.642857   \n",
              "0       408.0     0.649101    384     24    138     54  ...      0.619718   \n",
              "0       408.0     0.706074    382     26    134     58  ...      0.654321   \n",
              "0       408.0     0.662205    231    177     66    126  ...      0.415179   \n",
              "0       408.0     0.694610    359     49    132     60  ...      0.505051   \n",
              "0       408.0     0.711218    388     20    140     52  ...      0.652778   \n",
              "\n",
              "   recall(0)  f1-score(0)  suport(0)  auc-roc(0) TP(0) FN(0) FP(0) TN(0)  \\\n",
              "0   0.108434     0.185567      166.0    0.350702    18   148    10   424   \n",
              "0   0.265060     0.371308      166.0    0.647521    44   122    27   407   \n",
              "0   0.319277     0.429150      166.0    0.708872    53   113    28   406   \n",
              "0   0.560241     0.476923      166.0    0.682874    93    73   131   303   \n",
              "0   0.301205     0.377358      166.0    0.702418    50   116    49   385   \n",
              "0   0.283133     0.394958      166.0    0.708525    47   119    25   409   \n",
              "\n",
              "   accuracy  \n",
              "0  0.690000  \n",
              "0  0.718333  \n",
              "0  0.728333  \n",
              "0  0.560000  \n",
              "0  0.688333  \n",
              "0  0.725000  \n",
              "\n",
              "[6 rows x 29 columns]"
            ]
          },
          "execution_count": 134,
          "metadata": {},
          "output_type": "execute_result"
        }
      ],
      "source": [
        "df_metricas"
      ]
    },
    {
      "cell_type": "code",
      "execution_count": null,
      "metadata": {
        "id": "3wYWGm1wIBqI"
      },
      "outputs": [],
      "source": [
        "df_metricas.to_csv('metricasRoBERTa0606.csv')"
      ]
    }
  ],
  "metadata": {
    "colab": {
      "collapsed_sections": [],
      "name": "AS_embeddings_smote_atualizado (2).ipynb",
      "provenance": []
    },
    "kernelspec": {
      "display_name": "Python 3",
      "name": "python3"
    },
    "language_info": {
      "name": "python"
    },
    "widgets": {
      "application/vnd.jupyter.widget-state+json": {
        "09110a5d950d4e37b89f1ea533617a26": {
          "model_module": "@jupyter-widgets/base",
          "model_module_version": "1.2.0",
          "model_name": "LayoutModel",
          "state": {
            "_model_module": "@jupyter-widgets/base",
            "_model_module_version": "1.2.0",
            "_model_name": "LayoutModel",
            "_view_count": null,
            "_view_module": "@jupyter-widgets/base",
            "_view_module_version": "1.2.0",
            "_view_name": "LayoutView",
            "align_content": null,
            "align_items": null,
            "align_self": null,
            "border": null,
            "bottom": null,
            "display": null,
            "flex": null,
            "flex_flow": null,
            "grid_area": null,
            "grid_auto_columns": null,
            "grid_auto_flow": null,
            "grid_auto_rows": null,
            "grid_column": null,
            "grid_gap": null,
            "grid_row": null,
            "grid_template_areas": null,
            "grid_template_columns": null,
            "grid_template_rows": null,
            "height": null,
            "justify_content": null,
            "justify_items": null,
            "left": null,
            "margin": null,
            "max_height": null,
            "max_width": null,
            "min_height": null,
            "min_width": null,
            "object_fit": null,
            "object_position": null,
            "order": null,
            "overflow": null,
            "overflow_x": null,
            "overflow_y": null,
            "padding": null,
            "right": null,
            "top": null,
            "visibility": null,
            "width": null
          }
        },
        "119eac9847af45b097e3d1974fe79297": {
          "model_module": "@jupyter-widgets/base",
          "model_module_version": "1.2.0",
          "model_name": "LayoutModel",
          "state": {
            "_model_module": "@jupyter-widgets/base",
            "_model_module_version": "1.2.0",
            "_model_name": "LayoutModel",
            "_view_count": null,
            "_view_module": "@jupyter-widgets/base",
            "_view_module_version": "1.2.0",
            "_view_name": "LayoutView",
            "align_content": null,
            "align_items": null,
            "align_self": null,
            "border": null,
            "bottom": null,
            "display": null,
            "flex": null,
            "flex_flow": null,
            "grid_area": null,
            "grid_auto_columns": null,
            "grid_auto_flow": null,
            "grid_auto_rows": null,
            "grid_column": null,
            "grid_gap": null,
            "grid_row": null,
            "grid_template_areas": null,
            "grid_template_columns": null,
            "grid_template_rows": null,
            "height": null,
            "justify_content": null,
            "justify_items": null,
            "left": null,
            "margin": null,
            "max_height": null,
            "max_width": null,
            "min_height": null,
            "min_width": null,
            "object_fit": null,
            "object_position": null,
            "order": null,
            "overflow": null,
            "overflow_x": null,
            "overflow_y": null,
            "padding": null,
            "right": null,
            "top": null,
            "visibility": null,
            "width": null
          }
        },
        "13f200cdd25d482185667a4d65afe665": {
          "model_module": "@jupyter-widgets/controls",
          "model_module_version": "1.5.0",
          "model_name": "HTMLModel",
          "state": {
            "_dom_classes": [],
            "_model_module": "@jupyter-widgets/controls",
            "_model_module_version": "1.5.0",
            "_model_name": "HTMLModel",
            "_view_count": null,
            "_view_module": "@jupyter-widgets/controls",
            "_view_module_version": "1.5.0",
            "_view_name": "HTMLView",
            "description": "",
            "description_tooltip": null,
            "layout": "IPY_MODEL_4027430f9c754f0bb6846c7d0b4b18d4",
            "placeholder": "​",
            "style": "IPY_MODEL_9ff6f74f20db4fe0be1ff5ac93cdbb01",
            "value": "Downloading: 100%"
          }
        },
        "14f8c14b4fe04d30937fb7f29c86b495": {
          "model_module": "@jupyter-widgets/controls",
          "model_module_version": "1.5.0",
          "model_name": "DescriptionStyleModel",
          "state": {
            "_model_module": "@jupyter-widgets/controls",
            "_model_module_version": "1.5.0",
            "_model_name": "DescriptionStyleModel",
            "_view_count": null,
            "_view_module": "@jupyter-widgets/base",
            "_view_module_version": "1.2.0",
            "_view_name": "StyleView",
            "description_width": ""
          }
        },
        "15e1cb2126b64e38bb4d382594722f0a": {
          "model_module": "@jupyter-widgets/base",
          "model_module_version": "1.2.0",
          "model_name": "LayoutModel",
          "state": {
            "_model_module": "@jupyter-widgets/base",
            "_model_module_version": "1.2.0",
            "_model_name": "LayoutModel",
            "_view_count": null,
            "_view_module": "@jupyter-widgets/base",
            "_view_module_version": "1.2.0",
            "_view_name": "LayoutView",
            "align_content": null,
            "align_items": null,
            "align_self": null,
            "border": null,
            "bottom": null,
            "display": null,
            "flex": null,
            "flex_flow": null,
            "grid_area": null,
            "grid_auto_columns": null,
            "grid_auto_flow": null,
            "grid_auto_rows": null,
            "grid_column": null,
            "grid_gap": null,
            "grid_row": null,
            "grid_template_areas": null,
            "grid_template_columns": null,
            "grid_template_rows": null,
            "height": null,
            "justify_content": null,
            "justify_items": null,
            "left": null,
            "margin": null,
            "max_height": null,
            "max_width": null,
            "min_height": null,
            "min_width": null,
            "object_fit": null,
            "object_position": null,
            "order": null,
            "overflow": null,
            "overflow_x": null,
            "overflow_y": null,
            "padding": null,
            "right": null,
            "top": null,
            "visibility": null,
            "width": null
          }
        },
        "1ae48b1e423c45c88b1e90537f4a4962": {
          "model_module": "@jupyter-widgets/controls",
          "model_module_version": "1.5.0",
          "model_name": "HBoxModel",
          "state": {
            "_dom_classes": [],
            "_model_module": "@jupyter-widgets/controls",
            "_model_module_version": "1.5.0",
            "_model_name": "HBoxModel",
            "_view_count": null,
            "_view_module": "@jupyter-widgets/controls",
            "_view_module_version": "1.5.0",
            "_view_name": "HBoxView",
            "box_style": "",
            "children": [
              "IPY_MODEL_3986deec92c74e8ab26f700ab3f1e297",
              "IPY_MODEL_44ec7606bd8747858396088c718b2a0e",
              "IPY_MODEL_8545656712bb4fb1b1af3c6467bd1290"
            ],
            "layout": "IPY_MODEL_f4b2bf051d154251b4eecfe03cf49663"
          }
        },
        "22850ab7bcde468595ae99338627cb8d": {
          "model_module": "@jupyter-widgets/base",
          "model_module_version": "1.2.0",
          "model_name": "LayoutModel",
          "state": {
            "_model_module": "@jupyter-widgets/base",
            "_model_module_version": "1.2.0",
            "_model_name": "LayoutModel",
            "_view_count": null,
            "_view_module": "@jupyter-widgets/base",
            "_view_module_version": "1.2.0",
            "_view_name": "LayoutView",
            "align_content": null,
            "align_items": null,
            "align_self": null,
            "border": null,
            "bottom": null,
            "display": null,
            "flex": null,
            "flex_flow": null,
            "grid_area": null,
            "grid_auto_columns": null,
            "grid_auto_flow": null,
            "grid_auto_rows": null,
            "grid_column": null,
            "grid_gap": null,
            "grid_row": null,
            "grid_template_areas": null,
            "grid_template_columns": null,
            "grid_template_rows": null,
            "height": null,
            "justify_content": null,
            "justify_items": null,
            "left": null,
            "margin": null,
            "max_height": null,
            "max_width": null,
            "min_height": null,
            "min_width": null,
            "object_fit": null,
            "object_position": null,
            "order": null,
            "overflow": null,
            "overflow_x": null,
            "overflow_y": null,
            "padding": null,
            "right": null,
            "top": null,
            "visibility": null,
            "width": null
          }
        },
        "2a9315e380874d8cb84ab1f92c819d75": {
          "model_module": "@jupyter-widgets/base",
          "model_module_version": "1.2.0",
          "model_name": "LayoutModel",
          "state": {
            "_model_module": "@jupyter-widgets/base",
            "_model_module_version": "1.2.0",
            "_model_name": "LayoutModel",
            "_view_count": null,
            "_view_module": "@jupyter-widgets/base",
            "_view_module_version": "1.2.0",
            "_view_name": "LayoutView",
            "align_content": null,
            "align_items": null,
            "align_self": null,
            "border": null,
            "bottom": null,
            "display": null,
            "flex": null,
            "flex_flow": null,
            "grid_area": null,
            "grid_auto_columns": null,
            "grid_auto_flow": null,
            "grid_auto_rows": null,
            "grid_column": null,
            "grid_gap": null,
            "grid_row": null,
            "grid_template_areas": null,
            "grid_template_columns": null,
            "grid_template_rows": null,
            "height": null,
            "justify_content": null,
            "justify_items": null,
            "left": null,
            "margin": null,
            "max_height": null,
            "max_width": null,
            "min_height": null,
            "min_width": null,
            "object_fit": null,
            "object_position": null,
            "order": null,
            "overflow": null,
            "overflow_x": null,
            "overflow_y": null,
            "padding": null,
            "right": null,
            "top": null,
            "visibility": null,
            "width": null
          }
        },
        "32236d6529894c2eb49394c930725a74": {
          "model_module": "@jupyter-widgets/controls",
          "model_module_version": "1.5.0",
          "model_name": "HTMLModel",
          "state": {
            "_dom_classes": [],
            "_model_module": "@jupyter-widgets/controls",
            "_model_module_version": "1.5.0",
            "_model_name": "HTMLModel",
            "_view_count": null,
            "_view_module": "@jupyter-widgets/controls",
            "_view_module_version": "1.5.0",
            "_view_name": "HTMLView",
            "description": "",
            "description_tooltip": null,
            "layout": "IPY_MODEL_624c12b73118467f9b6860231c84938f",
            "placeholder": "​",
            "style": "IPY_MODEL_6dbf259d4a8c48099616f5e7ebe65003",
            "value": " 589/589 [00:00&lt;00:00, 6.13kB/s]"
          }
        },
        "32f5d1f9b7a24bf69a817b54b864c4c7": {
          "model_module": "@jupyter-widgets/controls",
          "model_module_version": "1.5.0",
          "model_name": "HTMLModel",
          "state": {
            "_dom_classes": [],
            "_model_module": "@jupyter-widgets/controls",
            "_model_module_version": "1.5.0",
            "_model_name": "HTMLModel",
            "_view_count": null,
            "_view_module": "@jupyter-widgets/controls",
            "_view_module_version": "1.5.0",
            "_view_name": "HTMLView",
            "description": "",
            "description_tooltip": null,
            "layout": "IPY_MODEL_dc63dd8234304ec498ff4f5110f7608a",
            "placeholder": "​",
            "style": "IPY_MODEL_f754ed6bcad141b382e21a2369abafc6",
            "value": " 391/391 [00:00&lt;00:00, 2.27kB/s]"
          }
        },
        "3986deec92c74e8ab26f700ab3f1e297": {
          "model_module": "@jupyter-widgets/controls",
          "model_module_version": "1.5.0",
          "model_name": "HTMLModel",
          "state": {
            "_dom_classes": [],
            "_model_module": "@jupyter-widgets/controls",
            "_model_module_version": "1.5.0",
            "_model_name": "HTMLModel",
            "_view_count": null,
            "_view_module": "@jupyter-widgets/controls",
            "_view_module_version": "1.5.0",
            "_view_name": "HTMLView",
            "description": "",
            "description_tooltip": null,
            "layout": "IPY_MODEL_c07fcd4059944b7cade4470db960d1be",
            "placeholder": "​",
            "style": "IPY_MODEL_46728db8cb604abd9aba89271414b45b",
            "value": "Batches: 100%"
          }
        },
        "3a62cda4b1ad49fba6f23d59eb1c21d2": {
          "model_module": "@jupyter-widgets/controls",
          "model_module_version": "1.5.0",
          "model_name": "ProgressStyleModel",
          "state": {
            "_model_module": "@jupyter-widgets/controls",
            "_model_module_version": "1.5.0",
            "_model_name": "ProgressStyleModel",
            "_view_count": null,
            "_view_module": "@jupyter-widgets/base",
            "_view_module_version": "1.2.0",
            "_view_name": "StyleView",
            "bar_color": null,
            "description_width": ""
          }
        },
        "3ca7e357d4bd4dddb76cbf63315bae2b": {
          "model_module": "@jupyter-widgets/controls",
          "model_module_version": "1.5.0",
          "model_name": "DescriptionStyleModel",
          "state": {
            "_model_module": "@jupyter-widgets/controls",
            "_model_module_version": "1.5.0",
            "_model_name": "DescriptionStyleModel",
            "_view_count": null,
            "_view_module": "@jupyter-widgets/base",
            "_view_module_version": "1.2.0",
            "_view_name": "StyleView",
            "description_width": ""
          }
        },
        "4027430f9c754f0bb6846c7d0b4b18d4": {
          "model_module": "@jupyter-widgets/base",
          "model_module_version": "1.2.0",
          "model_name": "LayoutModel",
          "state": {
            "_model_module": "@jupyter-widgets/base",
            "_model_module_version": "1.2.0",
            "_model_name": "LayoutModel",
            "_view_count": null,
            "_view_module": "@jupyter-widgets/base",
            "_view_module_version": "1.2.0",
            "_view_name": "LayoutView",
            "align_content": null,
            "align_items": null,
            "align_self": null,
            "border": null,
            "bottom": null,
            "display": null,
            "flex": null,
            "flex_flow": null,
            "grid_area": null,
            "grid_auto_columns": null,
            "grid_auto_flow": null,
            "grid_auto_rows": null,
            "grid_column": null,
            "grid_gap": null,
            "grid_row": null,
            "grid_template_areas": null,
            "grid_template_columns": null,
            "grid_template_rows": null,
            "height": null,
            "justify_content": null,
            "justify_items": null,
            "left": null,
            "margin": null,
            "max_height": null,
            "max_width": null,
            "min_height": null,
            "min_width": null,
            "object_fit": null,
            "object_position": null,
            "order": null,
            "overflow": null,
            "overflow_x": null,
            "overflow_y": null,
            "padding": null,
            "right": null,
            "top": null,
            "visibility": null,
            "width": null
          }
        },
        "423d739bf4e54abe8d46c766dbd7a6c2": {
          "model_module": "@jupyter-widgets/controls",
          "model_module_version": "1.5.0",
          "model_name": "FloatProgressModel",
          "state": {
            "_dom_classes": [],
            "_model_module": "@jupyter-widgets/controls",
            "_model_module_version": "1.5.0",
            "_model_name": "FloatProgressModel",
            "_view_count": null,
            "_view_module": "@jupyter-widgets/controls",
            "_view_module_version": "1.5.0",
            "_view_name": "ProgressView",
            "bar_style": "success",
            "description": "",
            "description_tooltip": null,
            "layout": "IPY_MODEL_22850ab7bcde468595ae99338627cb8d",
            "max": 694595428,
            "min": 0,
            "orientation": "horizontal",
            "style": "IPY_MODEL_3a62cda4b1ad49fba6f23d59eb1c21d2",
            "value": 694595428
          }
        },
        "44ec7606bd8747858396088c718b2a0e": {
          "model_module": "@jupyter-widgets/controls",
          "model_module_version": "1.5.0",
          "model_name": "FloatProgressModel",
          "state": {
            "_dom_classes": [],
            "_model_module": "@jupyter-widgets/controls",
            "_model_module_version": "1.5.0",
            "_model_name": "FloatProgressModel",
            "_view_count": null,
            "_view_module": "@jupyter-widgets/controls",
            "_view_module_version": "1.5.0",
            "_view_name": "ProgressView",
            "bar_style": "success",
            "description": "",
            "description_tooltip": null,
            "layout": "IPY_MODEL_ffaa661734114f4499846c6d9db3be65",
            "max": 94,
            "min": 0,
            "orientation": "horizontal",
            "style": "IPY_MODEL_e16850c2231e4c4281e57758dd5251f8",
            "value": 94
          }
        },
        "458c0beaaaa34e94b60cfbd65efb0e57": {
          "model_module": "@jupyter-widgets/base",
          "model_module_version": "1.2.0",
          "model_name": "LayoutModel",
          "state": {
            "_model_module": "@jupyter-widgets/base",
            "_model_module_version": "1.2.0",
            "_model_name": "LayoutModel",
            "_view_count": null,
            "_view_module": "@jupyter-widgets/base",
            "_view_module_version": "1.2.0",
            "_view_name": "LayoutView",
            "align_content": null,
            "align_items": null,
            "align_self": null,
            "border": null,
            "bottom": null,
            "display": null,
            "flex": null,
            "flex_flow": null,
            "grid_area": null,
            "grid_auto_columns": null,
            "grid_auto_flow": null,
            "grid_auto_rows": null,
            "grid_column": null,
            "grid_gap": null,
            "grid_row": null,
            "grid_template_areas": null,
            "grid_template_columns": null,
            "grid_template_rows": null,
            "height": null,
            "justify_content": null,
            "justify_items": null,
            "left": null,
            "margin": null,
            "max_height": null,
            "max_width": null,
            "min_height": null,
            "min_width": null,
            "object_fit": null,
            "object_position": null,
            "order": null,
            "overflow": null,
            "overflow_x": null,
            "overflow_y": null,
            "padding": null,
            "right": null,
            "top": null,
            "visibility": null,
            "width": null
          }
        },
        "46396c95169b42f580d248630907767b": {
          "model_module": "@jupyter-widgets/controls",
          "model_module_version": "1.5.0",
          "model_name": "FloatProgressModel",
          "state": {
            "_dom_classes": [],
            "_model_module": "@jupyter-widgets/controls",
            "_model_module_version": "1.5.0",
            "_model_name": "FloatProgressModel",
            "_view_count": null,
            "_view_module": "@jupyter-widgets/controls",
            "_view_module_version": "1.5.0",
            "_view_name": "ProgressView",
            "bar_style": "success",
            "description": "",
            "description_tooltip": null,
            "layout": "IPY_MODEL_886fc94992ff4cecbac5c5c672f62015",
            "max": 589,
            "min": 0,
            "orientation": "horizontal",
            "style": "IPY_MODEL_926415d779164fb3bb6fc7189d127795",
            "value": 589
          }
        },
        "46728db8cb604abd9aba89271414b45b": {
          "model_module": "@jupyter-widgets/controls",
          "model_module_version": "1.5.0",
          "model_name": "DescriptionStyleModel",
          "state": {
            "_model_module": "@jupyter-widgets/controls",
            "_model_module_version": "1.5.0",
            "_model_name": "DescriptionStyleModel",
            "_view_count": null,
            "_view_module": "@jupyter-widgets/base",
            "_view_module_version": "1.2.0",
            "_view_name": "StyleView",
            "description_width": ""
          }
        },
        "48f238534e3141ab9baf375cfcfd79bf": {
          "model_module": "@jupyter-widgets/controls",
          "model_module_version": "1.5.0",
          "model_name": "HBoxModel",
          "state": {
            "_dom_classes": [],
            "_model_module": "@jupyter-widgets/controls",
            "_model_module_version": "1.5.0",
            "_model_name": "HBoxModel",
            "_view_count": null,
            "_view_module": "@jupyter-widgets/controls",
            "_view_module_version": "1.5.0",
            "_view_name": "HBoxView",
            "box_style": "",
            "children": [
              "IPY_MODEL_ccd27ae130fb4675911ee43ffa651a63",
              "IPY_MODEL_ad9a3a454e684a13a79ca44e1668f693",
              "IPY_MODEL_649ce991e4c54f33b980744a848e0a85"
            ],
            "layout": "IPY_MODEL_5c308444dbf04903bbd9b7822b0cd8da"
          }
        },
        "4b7404ea8c4c49f2b6dd0a0a1dfb9404": {
          "model_module": "@jupyter-widgets/controls",
          "model_module_version": "1.5.0",
          "model_name": "DescriptionStyleModel",
          "state": {
            "_model_module": "@jupyter-widgets/controls",
            "_model_module_version": "1.5.0",
            "_model_name": "DescriptionStyleModel",
            "_view_count": null,
            "_view_module": "@jupyter-widgets/base",
            "_view_module_version": "1.2.0",
            "_view_name": "StyleView",
            "description_width": ""
          }
        },
        "50e78ae0c5374984b1a833e000e25916": {
          "model_module": "@jupyter-widgets/controls",
          "model_module_version": "1.5.0",
          "model_name": "HBoxModel",
          "state": {
            "_dom_classes": [],
            "_model_module": "@jupyter-widgets/controls",
            "_model_module_version": "1.5.0",
            "_model_name": "HBoxModel",
            "_view_count": null,
            "_view_module": "@jupyter-widgets/controls",
            "_view_module_version": "1.5.0",
            "_view_name": "HBoxView",
            "box_style": "",
            "children": [
              "IPY_MODEL_13f200cdd25d482185667a4d65afe665",
              "IPY_MODEL_423d739bf4e54abe8d46c766dbd7a6c2",
              "IPY_MODEL_7cb54296d1bd4d52b61869660b8b4af4"
            ],
            "layout": "IPY_MODEL_c6f296b40a4c4314a11a0761e801f2c9"
          }
        },
        "533e01007e6e46a49640313eaa93fecc": {
          "model_module": "@jupyter-widgets/base",
          "model_module_version": "1.2.0",
          "model_name": "LayoutModel",
          "state": {
            "_model_module": "@jupyter-widgets/base",
            "_model_module_version": "1.2.0",
            "_model_name": "LayoutModel",
            "_view_count": null,
            "_view_module": "@jupyter-widgets/base",
            "_view_module_version": "1.2.0",
            "_view_name": "LayoutView",
            "align_content": null,
            "align_items": null,
            "align_self": null,
            "border": null,
            "bottom": null,
            "display": null,
            "flex": null,
            "flex_flow": null,
            "grid_area": null,
            "grid_auto_columns": null,
            "grid_auto_flow": null,
            "grid_auto_rows": null,
            "grid_column": null,
            "grid_gap": null,
            "grid_row": null,
            "grid_template_areas": null,
            "grid_template_columns": null,
            "grid_template_rows": null,
            "height": null,
            "justify_content": null,
            "justify_items": null,
            "left": null,
            "margin": null,
            "max_height": null,
            "max_width": null,
            "min_height": null,
            "min_width": null,
            "object_fit": null,
            "object_position": null,
            "order": null,
            "overflow": null,
            "overflow_x": null,
            "overflow_y": null,
            "padding": null,
            "right": null,
            "top": null,
            "visibility": null,
            "width": null
          }
        },
        "553a60a2189d489ebfdee904a530f088": {
          "model_module": "@jupyter-widgets/controls",
          "model_module_version": "1.5.0",
          "model_name": "FloatProgressModel",
          "state": {
            "_dom_classes": [],
            "_model_module": "@jupyter-widgets/controls",
            "_model_module_version": "1.5.0",
            "_model_name": "FloatProgressModel",
            "_view_count": null,
            "_view_module": "@jupyter-widgets/controls",
            "_view_module_version": "1.5.0",
            "_view_name": "ProgressView",
            "bar_style": "success",
            "description": "",
            "description_tooltip": null,
            "layout": "IPY_MODEL_ec52bd70eaad4c3d838d482410e79b5b",
            "max": 2771101,
            "min": 0,
            "orientation": "horizontal",
            "style": "IPY_MODEL_6a61dda6595044fbae81a32588b224f9",
            "value": 2771101
          }
        },
        "58ca89b84cf5431ca80b2f874732920a": {
          "model_module": "@jupyter-widgets/controls",
          "model_module_version": "1.5.0",
          "model_name": "HTMLModel",
          "state": {
            "_dom_classes": [],
            "_model_module": "@jupyter-widgets/controls",
            "_model_module_version": "1.5.0",
            "_model_name": "HTMLModel",
            "_view_count": null,
            "_view_module": "@jupyter-widgets/controls",
            "_view_module_version": "1.5.0",
            "_view_name": "HTMLView",
            "description": "",
            "description_tooltip": null,
            "layout": "IPY_MODEL_c613909d12e54e7cbcfc0f964f929f36",
            "placeholder": "​",
            "style": "IPY_MODEL_72e728a23abc4145876c6f1d1c0e7b4f",
            "value": " 1.46k/1.46k [00:00&lt;00:00, 33.0kB/s]"
          }
        },
        "5c308444dbf04903bbd9b7822b0cd8da": {
          "model_module": "@jupyter-widgets/base",
          "model_module_version": "1.2.0",
          "model_name": "LayoutModel",
          "state": {
            "_model_module": "@jupyter-widgets/base",
            "_model_module_version": "1.2.0",
            "_model_name": "LayoutModel",
            "_view_count": null,
            "_view_module": "@jupyter-widgets/base",
            "_view_module_version": "1.2.0",
            "_view_name": "LayoutView",
            "align_content": null,
            "align_items": null,
            "align_self": null,
            "border": null,
            "bottom": null,
            "display": null,
            "flex": null,
            "flex_flow": null,
            "grid_area": null,
            "grid_auto_columns": null,
            "grid_auto_flow": null,
            "grid_auto_rows": null,
            "grid_column": null,
            "grid_gap": null,
            "grid_row": null,
            "grid_template_areas": null,
            "grid_template_columns": null,
            "grid_template_rows": null,
            "height": null,
            "justify_content": null,
            "justify_items": null,
            "left": null,
            "margin": null,
            "max_height": null,
            "max_width": null,
            "min_height": null,
            "min_width": null,
            "object_fit": null,
            "object_position": null,
            "order": null,
            "overflow": null,
            "overflow_x": null,
            "overflow_y": null,
            "padding": null,
            "right": null,
            "top": null,
            "visibility": null,
            "width": null
          }
        },
        "5fc44c601dbb4996b2aacaedfca40cb0": {
          "model_module": "@jupyter-widgets/base",
          "model_module_version": "1.2.0",
          "model_name": "LayoutModel",
          "state": {
            "_model_module": "@jupyter-widgets/base",
            "_model_module_version": "1.2.0",
            "_model_name": "LayoutModel",
            "_view_count": null,
            "_view_module": "@jupyter-widgets/base",
            "_view_module_version": "1.2.0",
            "_view_name": "LayoutView",
            "align_content": null,
            "align_items": null,
            "align_self": null,
            "border": null,
            "bottom": null,
            "display": null,
            "flex": null,
            "flex_flow": null,
            "grid_area": null,
            "grid_auto_columns": null,
            "grid_auto_flow": null,
            "grid_auto_rows": null,
            "grid_column": null,
            "grid_gap": null,
            "grid_row": null,
            "grid_template_areas": null,
            "grid_template_columns": null,
            "grid_template_rows": null,
            "height": null,
            "justify_content": null,
            "justify_items": null,
            "left": null,
            "margin": null,
            "max_height": null,
            "max_width": null,
            "min_height": null,
            "min_width": null,
            "object_fit": null,
            "object_position": null,
            "order": null,
            "overflow": null,
            "overflow_x": null,
            "overflow_y": null,
            "padding": null,
            "right": null,
            "top": null,
            "visibility": null,
            "width": null
          }
        },
        "624c12b73118467f9b6860231c84938f": {
          "model_module": "@jupyter-widgets/base",
          "model_module_version": "1.2.0",
          "model_name": "LayoutModel",
          "state": {
            "_model_module": "@jupyter-widgets/base",
            "_model_module_version": "1.2.0",
            "_model_name": "LayoutModel",
            "_view_count": null,
            "_view_module": "@jupyter-widgets/base",
            "_view_module_version": "1.2.0",
            "_view_name": "LayoutView",
            "align_content": null,
            "align_items": null,
            "align_self": null,
            "border": null,
            "bottom": null,
            "display": null,
            "flex": null,
            "flex_flow": null,
            "grid_area": null,
            "grid_auto_columns": null,
            "grid_auto_flow": null,
            "grid_auto_rows": null,
            "grid_column": null,
            "grid_gap": null,
            "grid_row": null,
            "grid_template_areas": null,
            "grid_template_columns": null,
            "grid_template_rows": null,
            "height": null,
            "justify_content": null,
            "justify_items": null,
            "left": null,
            "margin": null,
            "max_height": null,
            "max_width": null,
            "min_height": null,
            "min_width": null,
            "object_fit": null,
            "object_position": null,
            "order": null,
            "overflow": null,
            "overflow_x": null,
            "overflow_y": null,
            "padding": null,
            "right": null,
            "top": null,
            "visibility": null,
            "width": null
          }
        },
        "62f505f8aa79441987fdbdb179038e11": {
          "model_module": "@jupyter-widgets/base",
          "model_module_version": "1.2.0",
          "model_name": "LayoutModel",
          "state": {
            "_model_module": "@jupyter-widgets/base",
            "_model_module_version": "1.2.0",
            "_model_name": "LayoutModel",
            "_view_count": null,
            "_view_module": "@jupyter-widgets/base",
            "_view_module_version": "1.2.0",
            "_view_name": "LayoutView",
            "align_content": null,
            "align_items": null,
            "align_self": null,
            "border": null,
            "bottom": null,
            "display": null,
            "flex": null,
            "flex_flow": null,
            "grid_area": null,
            "grid_auto_columns": null,
            "grid_auto_flow": null,
            "grid_auto_rows": null,
            "grid_column": null,
            "grid_gap": null,
            "grid_row": null,
            "grid_template_areas": null,
            "grid_template_columns": null,
            "grid_template_rows": null,
            "height": null,
            "justify_content": null,
            "justify_items": null,
            "left": null,
            "margin": null,
            "max_height": null,
            "max_width": null,
            "min_height": null,
            "min_width": null,
            "object_fit": null,
            "object_position": null,
            "order": null,
            "overflow": null,
            "overflow_x": null,
            "overflow_y": null,
            "padding": null,
            "right": null,
            "top": null,
            "visibility": null,
            "width": null
          }
        },
        "649ce991e4c54f33b980744a848e0a85": {
          "model_module": "@jupyter-widgets/controls",
          "model_module_version": "1.5.0",
          "model_name": "HTMLModel",
          "state": {
            "_dom_classes": [],
            "_model_module": "@jupyter-widgets/controls",
            "_model_module_version": "1.5.0",
            "_model_name": "HTMLModel",
            "_view_count": null,
            "_view_module": "@jupyter-widgets/controls",
            "_view_module_version": "1.5.0",
            "_view_name": "HTMLView",
            "description": "",
            "description_tooltip": null,
            "layout": "IPY_MODEL_15e1cb2126b64e38bb4d382594722f0a",
            "placeholder": "​",
            "style": "IPY_MODEL_7f32ccf88bcc4ac189455d7f615d84c7",
            "value": " 516/516 [00:00&lt;00:00, 5.08kB/s]"
          }
        },
        "6930b59e57e24bc7bb0d770a824e5a4b": {
          "model_module": "@jupyter-widgets/base",
          "model_module_version": "1.2.0",
          "model_name": "LayoutModel",
          "state": {
            "_model_module": "@jupyter-widgets/base",
            "_model_module_version": "1.2.0",
            "_model_name": "LayoutModel",
            "_view_count": null,
            "_view_module": "@jupyter-widgets/base",
            "_view_module_version": "1.2.0",
            "_view_name": "LayoutView",
            "align_content": null,
            "align_items": null,
            "align_self": null,
            "border": null,
            "bottom": null,
            "display": null,
            "flex": null,
            "flex_flow": null,
            "grid_area": null,
            "grid_auto_columns": null,
            "grid_auto_flow": null,
            "grid_auto_rows": null,
            "grid_column": null,
            "grid_gap": null,
            "grid_row": null,
            "grid_template_areas": null,
            "grid_template_columns": null,
            "grid_template_rows": null,
            "height": null,
            "justify_content": null,
            "justify_items": null,
            "left": null,
            "margin": null,
            "max_height": null,
            "max_width": null,
            "min_height": null,
            "min_width": null,
            "object_fit": null,
            "object_position": null,
            "order": null,
            "overflow": null,
            "overflow_x": null,
            "overflow_y": null,
            "padding": null,
            "right": null,
            "top": null,
            "visibility": null,
            "width": null
          }
        },
        "6a61dda6595044fbae81a32588b224f9": {
          "model_module": "@jupyter-widgets/controls",
          "model_module_version": "1.5.0",
          "model_name": "ProgressStyleModel",
          "state": {
            "_model_module": "@jupyter-widgets/controls",
            "_model_module_version": "1.5.0",
            "_model_name": "ProgressStyleModel",
            "_view_count": null,
            "_view_module": "@jupyter-widgets/base",
            "_view_module_version": "1.2.0",
            "_view_name": "StyleView",
            "bar_color": null,
            "description_width": ""
          }
        },
        "6b0afc0044784b48b60756073d68af78": {
          "model_module": "@jupyter-widgets/controls",
          "model_module_version": "1.5.0",
          "model_name": "HBoxModel",
          "state": {
            "_dom_classes": [],
            "_model_module": "@jupyter-widgets/controls",
            "_model_module_version": "1.5.0",
            "_model_name": "HBoxModel",
            "_view_count": null,
            "_view_module": "@jupyter-widgets/controls",
            "_view_module_version": "1.5.0",
            "_view_name": "HBoxView",
            "box_style": "",
            "children": [
              "IPY_MODEL_de9741a846414d439631688ac309ee03",
              "IPY_MODEL_988bd227b6ed449dbc8c82acbb067ac4",
              "IPY_MODEL_92e43141d8334a77928fb3584351cfd8"
            ],
            "layout": "IPY_MODEL_8906760460f64f74b8a66da68bdf1194"
          }
        },
        "6dbf259d4a8c48099616f5e7ebe65003": {
          "model_module": "@jupyter-widgets/controls",
          "model_module_version": "1.5.0",
          "model_name": "DescriptionStyleModel",
          "state": {
            "_model_module": "@jupyter-widgets/controls",
            "_model_module_version": "1.5.0",
            "_model_name": "DescriptionStyleModel",
            "_view_count": null,
            "_view_module": "@jupyter-widgets/base",
            "_view_module_version": "1.2.0",
            "_view_name": "StyleView",
            "description_width": ""
          }
        },
        "719d0482ad5b4a7b943d4078b7459932": {
          "model_module": "@jupyter-widgets/controls",
          "model_module_version": "1.5.0",
          "model_name": "DescriptionStyleModel",
          "state": {
            "_model_module": "@jupyter-widgets/controls",
            "_model_module_version": "1.5.0",
            "_model_name": "DescriptionStyleModel",
            "_view_count": null,
            "_view_module": "@jupyter-widgets/base",
            "_view_module_version": "1.2.0",
            "_view_name": "StyleView",
            "description_width": ""
          }
        },
        "72e728a23abc4145876c6f1d1c0e7b4f": {
          "model_module": "@jupyter-widgets/controls",
          "model_module_version": "1.5.0",
          "model_name": "DescriptionStyleModel",
          "state": {
            "_model_module": "@jupyter-widgets/controls",
            "_model_module_version": "1.5.0",
            "_model_name": "DescriptionStyleModel",
            "_view_count": null,
            "_view_module": "@jupyter-widgets/base",
            "_view_module_version": "1.2.0",
            "_view_name": "StyleView",
            "description_width": ""
          }
        },
        "7616fc8f4c9c4479a80f700afa91f2db": {
          "model_module": "@jupyter-widgets/controls",
          "model_module_version": "1.5.0",
          "model_name": "HBoxModel",
          "state": {
            "_dom_classes": [],
            "_model_module": "@jupyter-widgets/controls",
            "_model_module_version": "1.5.0",
            "_model_name": "HBoxModel",
            "_view_count": null,
            "_view_module": "@jupyter-widgets/controls",
            "_view_module_version": "1.5.0",
            "_view_name": "HBoxView",
            "box_style": "",
            "children": [
              "IPY_MODEL_c585b2dcd04141ad8243646e8fdb7476",
              "IPY_MODEL_553a60a2189d489ebfdee904a530f088",
              "IPY_MODEL_77ab0a2aacf44a08a3d945a69ff0cd32"
            ],
            "layout": "IPY_MODEL_e290b49670574cb891d95bb21527e97c"
          }
        },
        "768d7f5e42624d19bd3c98d970954dcd": {
          "model_module": "@jupyter-widgets/base",
          "model_module_version": "1.2.0",
          "model_name": "LayoutModel",
          "state": {
            "_model_module": "@jupyter-widgets/base",
            "_model_module_version": "1.2.0",
            "_model_name": "LayoutModel",
            "_view_count": null,
            "_view_module": "@jupyter-widgets/base",
            "_view_module_version": "1.2.0",
            "_view_name": "LayoutView",
            "align_content": null,
            "align_items": null,
            "align_self": null,
            "border": null,
            "bottom": null,
            "display": null,
            "flex": null,
            "flex_flow": null,
            "grid_area": null,
            "grid_auto_columns": null,
            "grid_auto_flow": null,
            "grid_auto_rows": null,
            "grid_column": null,
            "grid_gap": null,
            "grid_row": null,
            "grid_template_areas": null,
            "grid_template_columns": null,
            "grid_template_rows": null,
            "height": null,
            "justify_content": null,
            "justify_items": null,
            "left": null,
            "margin": null,
            "max_height": null,
            "max_width": null,
            "min_height": null,
            "min_width": null,
            "object_fit": null,
            "object_position": null,
            "order": null,
            "overflow": null,
            "overflow_x": null,
            "overflow_y": null,
            "padding": null,
            "right": null,
            "top": null,
            "visibility": null,
            "width": null
          }
        },
        "77ab0a2aacf44a08a3d945a69ff0cd32": {
          "model_module": "@jupyter-widgets/controls",
          "model_module_version": "1.5.0",
          "model_name": "HTMLModel",
          "state": {
            "_dom_classes": [],
            "_model_module": "@jupyter-widgets/controls",
            "_model_module_version": "1.5.0",
            "_model_name": "HTMLModel",
            "_view_count": null,
            "_view_module": "@jupyter-widgets/controls",
            "_view_module_version": "1.5.0",
            "_view_name": "HTMLView",
            "description": "",
            "description_tooltip": null,
            "layout": "IPY_MODEL_8236dc5570824617b089d6677028cbdd",
            "placeholder": "​",
            "style": "IPY_MODEL_719d0482ad5b4a7b943d4078b7459932",
            "value": " 2.77M/2.77M [00:00&lt;00:00, 2.51MB/s]"
          }
        },
        "78025f39296645e38be291ce8acccf74": {
          "model_module": "@jupyter-widgets/controls",
          "model_module_version": "1.5.0",
          "model_name": "DescriptionStyleModel",
          "state": {
            "_model_module": "@jupyter-widgets/controls",
            "_model_module_version": "1.5.0",
            "_model_name": "DescriptionStyleModel",
            "_view_count": null,
            "_view_module": "@jupyter-widgets/base",
            "_view_module_version": "1.2.0",
            "_view_name": "StyleView",
            "description_width": ""
          }
        },
        "78b752957cd548999716e0743c194f09": {
          "model_module": "@jupyter-widgets/base",
          "model_module_version": "1.2.0",
          "model_name": "LayoutModel",
          "state": {
            "_model_module": "@jupyter-widgets/base",
            "_model_module_version": "1.2.0",
            "_model_name": "LayoutModel",
            "_view_count": null,
            "_view_module": "@jupyter-widgets/base",
            "_view_module_version": "1.2.0",
            "_view_name": "LayoutView",
            "align_content": null,
            "align_items": null,
            "align_self": null,
            "border": null,
            "bottom": null,
            "display": null,
            "flex": null,
            "flex_flow": null,
            "grid_area": null,
            "grid_auto_columns": null,
            "grid_auto_flow": null,
            "grid_auto_rows": null,
            "grid_column": null,
            "grid_gap": null,
            "grid_row": null,
            "grid_template_areas": null,
            "grid_template_columns": null,
            "grid_template_rows": null,
            "height": null,
            "justify_content": null,
            "justify_items": null,
            "left": null,
            "margin": null,
            "max_height": null,
            "max_width": null,
            "min_height": null,
            "min_width": null,
            "object_fit": null,
            "object_position": null,
            "order": null,
            "overflow": null,
            "overflow_x": null,
            "overflow_y": null,
            "padding": null,
            "right": null,
            "top": null,
            "visibility": null,
            "width": null
          }
        },
        "7a1baf01c1bd42299d1b85e32d985e28": {
          "model_module": "@jupyter-widgets/controls",
          "model_module_version": "1.5.0",
          "model_name": "HBoxModel",
          "state": {
            "_dom_classes": [],
            "_model_module": "@jupyter-widgets/controls",
            "_model_module_version": "1.5.0",
            "_model_name": "HBoxModel",
            "_view_count": null,
            "_view_module": "@jupyter-widgets/controls",
            "_view_module_version": "1.5.0",
            "_view_name": "HBoxView",
            "box_style": "",
            "children": [
              "IPY_MODEL_e6e71e045da3435cb1b5f9b072d48db1",
              "IPY_MODEL_46396c95169b42f580d248630907767b",
              "IPY_MODEL_32236d6529894c2eb49394c930725a74"
            ],
            "layout": "IPY_MODEL_2a9315e380874d8cb84ab1f92c819d75"
          }
        },
        "7cb54296d1bd4d52b61869660b8b4af4": {
          "model_module": "@jupyter-widgets/controls",
          "model_module_version": "1.5.0",
          "model_name": "HTMLModel",
          "state": {
            "_dom_classes": [],
            "_model_module": "@jupyter-widgets/controls",
            "_model_module_version": "1.5.0",
            "_model_name": "HTMLModel",
            "_view_count": null,
            "_view_module": "@jupyter-widgets/controls",
            "_view_module_version": "1.5.0",
            "_view_name": "HTMLView",
            "description": "",
            "description_tooltip": null,
            "layout": "IPY_MODEL_119eac9847af45b097e3d1974fe79297",
            "placeholder": "​",
            "style": "IPY_MODEL_78025f39296645e38be291ce8acccf74",
            "value": " 695M/695M [00:19&lt;00:00, 37.3MB/s]"
          }
        },
        "7e6652f01a244f1bba40d5c4b3cb8afa": {
          "model_module": "@jupyter-widgets/controls",
          "model_module_version": "1.5.0",
          "model_name": "HTMLModel",
          "state": {
            "_dom_classes": [],
            "_model_module": "@jupyter-widgets/controls",
            "_model_module_version": "1.5.0",
            "_model_name": "HTMLModel",
            "_view_count": null,
            "_view_module": "@jupyter-widgets/controls",
            "_view_module_version": "1.5.0",
            "_view_name": "HTMLView",
            "description": "",
            "description_tooltip": null,
            "layout": "IPY_MODEL_458c0beaaaa34e94b60cfbd65efb0e57",
            "placeholder": "​",
            "style": "IPY_MODEL_f6d24c766e0d4b868494cc86f7857053",
            "value": "Downloading: 100%"
          }
        },
        "7f32ccf88bcc4ac189455d7f615d84c7": {
          "model_module": "@jupyter-widgets/controls",
          "model_module_version": "1.5.0",
          "model_name": "DescriptionStyleModel",
          "state": {
            "_model_module": "@jupyter-widgets/controls",
            "_model_module_version": "1.5.0",
            "_model_name": "DescriptionStyleModel",
            "_view_count": null,
            "_view_module": "@jupyter-widgets/base",
            "_view_module_version": "1.2.0",
            "_view_name": "StyleView",
            "description_width": ""
          }
        },
        "8236dc5570824617b089d6677028cbdd": {
          "model_module": "@jupyter-widgets/base",
          "model_module_version": "1.2.0",
          "model_name": "LayoutModel",
          "state": {
            "_model_module": "@jupyter-widgets/base",
            "_model_module_version": "1.2.0",
            "_model_name": "LayoutModel",
            "_view_count": null,
            "_view_module": "@jupyter-widgets/base",
            "_view_module_version": "1.2.0",
            "_view_name": "LayoutView",
            "align_content": null,
            "align_items": null,
            "align_self": null,
            "border": null,
            "bottom": null,
            "display": null,
            "flex": null,
            "flex_flow": null,
            "grid_area": null,
            "grid_auto_columns": null,
            "grid_auto_flow": null,
            "grid_auto_rows": null,
            "grid_column": null,
            "grid_gap": null,
            "grid_row": null,
            "grid_template_areas": null,
            "grid_template_columns": null,
            "grid_template_rows": null,
            "height": null,
            "justify_content": null,
            "justify_items": null,
            "left": null,
            "margin": null,
            "max_height": null,
            "max_width": null,
            "min_height": null,
            "min_width": null,
            "object_fit": null,
            "object_position": null,
            "order": null,
            "overflow": null,
            "overflow_x": null,
            "overflow_y": null,
            "padding": null,
            "right": null,
            "top": null,
            "visibility": null,
            "width": null
          }
        },
        "848fff3bb0434a8197aa880c7735b57c": {
          "model_module": "@jupyter-widgets/controls",
          "model_module_version": "1.5.0",
          "model_name": "DescriptionStyleModel",
          "state": {
            "_model_module": "@jupyter-widgets/controls",
            "_model_module_version": "1.5.0",
            "_model_name": "DescriptionStyleModel",
            "_view_count": null,
            "_view_module": "@jupyter-widgets/base",
            "_view_module_version": "1.2.0",
            "_view_name": "StyleView",
            "description_width": ""
          }
        },
        "8545656712bb4fb1b1af3c6467bd1290": {
          "model_module": "@jupyter-widgets/controls",
          "model_module_version": "1.5.0",
          "model_name": "HTMLModel",
          "state": {
            "_dom_classes": [],
            "_model_module": "@jupyter-widgets/controls",
            "_model_module_version": "1.5.0",
            "_model_name": "HTMLModel",
            "_view_count": null,
            "_view_module": "@jupyter-widgets/controls",
            "_view_module_version": "1.5.0",
            "_view_name": "HTMLView",
            "description": "",
            "description_tooltip": null,
            "layout": "IPY_MODEL_b2d091a74c194b4196cfabf2214d9e5e",
            "placeholder": "​",
            "style": "IPY_MODEL_14f8c14b4fe04d30937fb7f29c86b495",
            "value": " 94/94 [02:58&lt;00:00,  1.56it/s]"
          }
        },
        "86ad4dfb103f4a8eae795f1a48e8f49e": {
          "model_module": "@jupyter-widgets/base",
          "model_module_version": "1.2.0",
          "model_name": "LayoutModel",
          "state": {
            "_model_module": "@jupyter-widgets/base",
            "_model_module_version": "1.2.0",
            "_model_name": "LayoutModel",
            "_view_count": null,
            "_view_module": "@jupyter-widgets/base",
            "_view_module_version": "1.2.0",
            "_view_name": "LayoutView",
            "align_content": null,
            "align_items": null,
            "align_self": null,
            "border": null,
            "bottom": null,
            "display": null,
            "flex": null,
            "flex_flow": null,
            "grid_area": null,
            "grid_auto_columns": null,
            "grid_auto_flow": null,
            "grid_auto_rows": null,
            "grid_column": null,
            "grid_gap": null,
            "grid_row": null,
            "grid_template_areas": null,
            "grid_template_columns": null,
            "grid_template_rows": null,
            "height": null,
            "justify_content": null,
            "justify_items": null,
            "left": null,
            "margin": null,
            "max_height": null,
            "max_width": null,
            "min_height": null,
            "min_width": null,
            "object_fit": null,
            "object_position": null,
            "order": null,
            "overflow": null,
            "overflow_x": null,
            "overflow_y": null,
            "padding": null,
            "right": null,
            "top": null,
            "visibility": null,
            "width": null
          }
        },
        "884094d560424a4e9684fbbbcdf52c08": {
          "model_module": "@jupyter-widgets/controls",
          "model_module_version": "1.5.0",
          "model_name": "ProgressStyleModel",
          "state": {
            "_model_module": "@jupyter-widgets/controls",
            "_model_module_version": "1.5.0",
            "_model_name": "ProgressStyleModel",
            "_view_count": null,
            "_view_module": "@jupyter-widgets/base",
            "_view_module_version": "1.2.0",
            "_view_name": "StyleView",
            "bar_color": null,
            "description_width": ""
          }
        },
        "886fc94992ff4cecbac5c5c672f62015": {
          "model_module": "@jupyter-widgets/base",
          "model_module_version": "1.2.0",
          "model_name": "LayoutModel",
          "state": {
            "_model_module": "@jupyter-widgets/base",
            "_model_module_version": "1.2.0",
            "_model_name": "LayoutModel",
            "_view_count": null,
            "_view_module": "@jupyter-widgets/base",
            "_view_module_version": "1.2.0",
            "_view_name": "LayoutView",
            "align_content": null,
            "align_items": null,
            "align_self": null,
            "border": null,
            "bottom": null,
            "display": null,
            "flex": null,
            "flex_flow": null,
            "grid_area": null,
            "grid_auto_columns": null,
            "grid_auto_flow": null,
            "grid_auto_rows": null,
            "grid_column": null,
            "grid_gap": null,
            "grid_row": null,
            "grid_template_areas": null,
            "grid_template_columns": null,
            "grid_template_rows": null,
            "height": null,
            "justify_content": null,
            "justify_items": null,
            "left": null,
            "margin": null,
            "max_height": null,
            "max_width": null,
            "min_height": null,
            "min_width": null,
            "object_fit": null,
            "object_position": null,
            "order": null,
            "overflow": null,
            "overflow_x": null,
            "overflow_y": null,
            "padding": null,
            "right": null,
            "top": null,
            "visibility": null,
            "width": null
          }
        },
        "89023f85d4254c8d9b317a1f12bc6091": {
          "model_module": "@jupyter-widgets/controls",
          "model_module_version": "1.5.0",
          "model_name": "FloatProgressModel",
          "state": {
            "_dom_classes": [],
            "_model_module": "@jupyter-widgets/controls",
            "_model_module_version": "1.5.0",
            "_model_name": "FloatProgressModel",
            "_view_count": null,
            "_view_module": "@jupyter-widgets/controls",
            "_view_module_version": "1.5.0",
            "_view_name": "ProgressView",
            "bar_style": "success",
            "description": "",
            "description_tooltip": null,
            "layout": "IPY_MODEL_f99ed9b0101b45fba66ea311c1c537e8",
            "max": 391,
            "min": 0,
            "orientation": "horizontal",
            "style": "IPY_MODEL_f6f3fc76bfcb48948c7f5663ec800d8b",
            "value": 391
          }
        },
        "8906760460f64f74b8a66da68bdf1194": {
          "model_module": "@jupyter-widgets/base",
          "model_module_version": "1.2.0",
          "model_name": "LayoutModel",
          "state": {
            "_model_module": "@jupyter-widgets/base",
            "_model_module_version": "1.2.0",
            "_model_name": "LayoutModel",
            "_view_count": null,
            "_view_module": "@jupyter-widgets/base",
            "_view_module_version": "1.2.0",
            "_view_name": "LayoutView",
            "align_content": null,
            "align_items": null,
            "align_self": null,
            "border": null,
            "bottom": null,
            "display": null,
            "flex": null,
            "flex_flow": null,
            "grid_area": null,
            "grid_auto_columns": null,
            "grid_auto_flow": null,
            "grid_auto_rows": null,
            "grid_column": null,
            "grid_gap": null,
            "grid_row": null,
            "grid_template_areas": null,
            "grid_template_columns": null,
            "grid_template_rows": null,
            "height": null,
            "justify_content": null,
            "justify_items": null,
            "left": null,
            "margin": null,
            "max_height": null,
            "max_width": null,
            "min_height": null,
            "min_width": null,
            "object_fit": null,
            "object_position": null,
            "order": null,
            "overflow": null,
            "overflow_x": null,
            "overflow_y": null,
            "padding": null,
            "right": null,
            "top": null,
            "visibility": null,
            "width": null
          }
        },
        "926415d779164fb3bb6fc7189d127795": {
          "model_module": "@jupyter-widgets/controls",
          "model_module_version": "1.5.0",
          "model_name": "ProgressStyleModel",
          "state": {
            "_model_module": "@jupyter-widgets/controls",
            "_model_module_version": "1.5.0",
            "_model_name": "ProgressStyleModel",
            "_view_count": null,
            "_view_module": "@jupyter-widgets/base",
            "_view_module_version": "1.2.0",
            "_view_name": "StyleView",
            "bar_color": null,
            "description_width": ""
          }
        },
        "92e43141d8334a77928fb3584351cfd8": {
          "model_module": "@jupyter-widgets/controls",
          "model_module_version": "1.5.0",
          "model_name": "HTMLModel",
          "state": {
            "_dom_classes": [],
            "_model_module": "@jupyter-widgets/controls",
            "_model_module_version": "1.5.0",
            "_model_name": "HTMLModel",
            "_view_count": null,
            "_view_module": "@jupyter-widgets/controls",
            "_view_module_version": "1.5.0",
            "_view_name": "HTMLView",
            "description": "",
            "description_tooltip": null,
            "layout": "IPY_MODEL_768d7f5e42624d19bd3c98d970954dcd",
            "placeholder": "​",
            "style": "IPY_MODEL_f12e6461afd94679a99e23fd0d37798a",
            "value": " 1.68M/1.68M [00:00&lt;00:00, 1.69MB/s]"
          }
        },
        "988bd227b6ed449dbc8c82acbb067ac4": {
          "model_module": "@jupyter-widgets/controls",
          "model_module_version": "1.5.0",
          "model_name": "FloatProgressModel",
          "state": {
            "_dom_classes": [],
            "_model_module": "@jupyter-widgets/controls",
            "_model_module_version": "1.5.0",
            "_model_name": "FloatProgressModel",
            "_view_count": null,
            "_view_module": "@jupyter-widgets/controls",
            "_view_module_version": "1.5.0",
            "_view_name": "ProgressView",
            "bar_style": "success",
            "description": "",
            "description_tooltip": null,
            "layout": "IPY_MODEL_533e01007e6e46a49640313eaa93fecc",
            "max": 1681297,
            "min": 0,
            "orientation": "horizontal",
            "style": "IPY_MODEL_bc0ee16e14c74fbc83bd429818358e7f",
            "value": 1681297
          }
        },
        "9ff6f74f20db4fe0be1ff5ac93cdbb01": {
          "model_module": "@jupyter-widgets/controls",
          "model_module_version": "1.5.0",
          "model_name": "DescriptionStyleModel",
          "state": {
            "_model_module": "@jupyter-widgets/controls",
            "_model_module_version": "1.5.0",
            "_model_name": "DescriptionStyleModel",
            "_view_count": null,
            "_view_module": "@jupyter-widgets/base",
            "_view_module_version": "1.2.0",
            "_view_name": "StyleView",
            "description_width": ""
          }
        },
        "a7dd9635c59740a5a29d6d41d392d52e": {
          "model_module": "@jupyter-widgets/controls",
          "model_module_version": "1.5.0",
          "model_name": "DescriptionStyleModel",
          "state": {
            "_model_module": "@jupyter-widgets/controls",
            "_model_module_version": "1.5.0",
            "_model_name": "DescriptionStyleModel",
            "_view_count": null,
            "_view_module": "@jupyter-widgets/base",
            "_view_module_version": "1.2.0",
            "_view_name": "StyleView",
            "description_width": ""
          }
        },
        "a9d85e86e39d4f64962d36e4a85d8368": {
          "model_module": "@jupyter-widgets/controls",
          "model_module_version": "1.5.0",
          "model_name": "HBoxModel",
          "state": {
            "_dom_classes": [],
            "_model_module": "@jupyter-widgets/controls",
            "_model_module_version": "1.5.0",
            "_model_name": "HBoxModel",
            "_view_count": null,
            "_view_module": "@jupyter-widgets/controls",
            "_view_module_version": "1.5.0",
            "_view_name": "HBoxView",
            "box_style": "",
            "children": [
              "IPY_MODEL_7e6652f01a244f1bba40d5c4b3cb8afa",
              "IPY_MODEL_f53aa6c7966d41f58a83804040e71c2a",
              "IPY_MODEL_58ca89b84cf5431ca80b2f874732920a"
            ],
            "layout": "IPY_MODEL_78b752957cd548999716e0743c194f09"
          }
        },
        "ad9a3a454e684a13a79ca44e1668f693": {
          "model_module": "@jupyter-widgets/controls",
          "model_module_version": "1.5.0",
          "model_name": "FloatProgressModel",
          "state": {
            "_dom_classes": [],
            "_model_module": "@jupyter-widgets/controls",
            "_model_module_version": "1.5.0",
            "_model_name": "FloatProgressModel",
            "_view_count": null,
            "_view_module": "@jupyter-widgets/controls",
            "_view_module_version": "1.5.0",
            "_view_name": "ProgressView",
            "bar_style": "success",
            "description": "",
            "description_tooltip": null,
            "layout": "IPY_MODEL_6930b59e57e24bc7bb0d770a824e5a4b",
            "max": 516,
            "min": 0,
            "orientation": "horizontal",
            "style": "IPY_MODEL_b5ee25dd65c44b8abb108ecac54efcbb",
            "value": 516
          }
        },
        "b2d091a74c194b4196cfabf2214d9e5e": {
          "model_module": "@jupyter-widgets/base",
          "model_module_version": "1.2.0",
          "model_name": "LayoutModel",
          "state": {
            "_model_module": "@jupyter-widgets/base",
            "_model_module_version": "1.2.0",
            "_model_name": "LayoutModel",
            "_view_count": null,
            "_view_module": "@jupyter-widgets/base",
            "_view_module_version": "1.2.0",
            "_view_name": "LayoutView",
            "align_content": null,
            "align_items": null,
            "align_self": null,
            "border": null,
            "bottom": null,
            "display": null,
            "flex": null,
            "flex_flow": null,
            "grid_area": null,
            "grid_auto_columns": null,
            "grid_auto_flow": null,
            "grid_auto_rows": null,
            "grid_column": null,
            "grid_gap": null,
            "grid_row": null,
            "grid_template_areas": null,
            "grid_template_columns": null,
            "grid_template_rows": null,
            "height": null,
            "justify_content": null,
            "justify_items": null,
            "left": null,
            "margin": null,
            "max_height": null,
            "max_width": null,
            "min_height": null,
            "min_width": null,
            "object_fit": null,
            "object_position": null,
            "order": null,
            "overflow": null,
            "overflow_x": null,
            "overflow_y": null,
            "padding": null,
            "right": null,
            "top": null,
            "visibility": null,
            "width": null
          }
        },
        "b5ee25dd65c44b8abb108ecac54efcbb": {
          "model_module": "@jupyter-widgets/controls",
          "model_module_version": "1.5.0",
          "model_name": "ProgressStyleModel",
          "state": {
            "_model_module": "@jupyter-widgets/controls",
            "_model_module_version": "1.5.0",
            "_model_name": "ProgressStyleModel",
            "_view_count": null,
            "_view_module": "@jupyter-widgets/base",
            "_view_module_version": "1.2.0",
            "_view_name": "StyleView",
            "bar_color": null,
            "description_width": ""
          }
        },
        "bc0ee16e14c74fbc83bd429818358e7f": {
          "model_module": "@jupyter-widgets/controls",
          "model_module_version": "1.5.0",
          "model_name": "ProgressStyleModel",
          "state": {
            "_model_module": "@jupyter-widgets/controls",
            "_model_module_version": "1.5.0",
            "_model_name": "ProgressStyleModel",
            "_view_count": null,
            "_view_module": "@jupyter-widgets/base",
            "_view_module_version": "1.2.0",
            "_view_name": "StyleView",
            "bar_color": null,
            "description_width": ""
          }
        },
        "c07fcd4059944b7cade4470db960d1be": {
          "model_module": "@jupyter-widgets/base",
          "model_module_version": "1.2.0",
          "model_name": "LayoutModel",
          "state": {
            "_model_module": "@jupyter-widgets/base",
            "_model_module_version": "1.2.0",
            "_model_name": "LayoutModel",
            "_view_count": null,
            "_view_module": "@jupyter-widgets/base",
            "_view_module_version": "1.2.0",
            "_view_name": "LayoutView",
            "align_content": null,
            "align_items": null,
            "align_self": null,
            "border": null,
            "bottom": null,
            "display": null,
            "flex": null,
            "flex_flow": null,
            "grid_area": null,
            "grid_auto_columns": null,
            "grid_auto_flow": null,
            "grid_auto_rows": null,
            "grid_column": null,
            "grid_gap": null,
            "grid_row": null,
            "grid_template_areas": null,
            "grid_template_columns": null,
            "grid_template_rows": null,
            "height": null,
            "justify_content": null,
            "justify_items": null,
            "left": null,
            "margin": null,
            "max_height": null,
            "max_width": null,
            "min_height": null,
            "min_width": null,
            "object_fit": null,
            "object_position": null,
            "order": null,
            "overflow": null,
            "overflow_x": null,
            "overflow_y": null,
            "padding": null,
            "right": null,
            "top": null,
            "visibility": null,
            "width": null
          }
        },
        "c4a81b39fa9043f297f310360c590bbb": {
          "model_module": "@jupyter-widgets/controls",
          "model_module_version": "1.5.0",
          "model_name": "HTMLModel",
          "state": {
            "_dom_classes": [],
            "_model_module": "@jupyter-widgets/controls",
            "_model_module_version": "1.5.0",
            "_model_name": "HTMLModel",
            "_view_count": null,
            "_view_module": "@jupyter-widgets/controls",
            "_view_module_version": "1.5.0",
            "_view_name": "HTMLView",
            "description": "",
            "description_tooltip": null,
            "layout": "IPY_MODEL_09110a5d950d4e37b89f1ea533617a26",
            "placeholder": "​",
            "style": "IPY_MODEL_4b7404ea8c4c49f2b6dd0a0a1dfb9404",
            "value": "Downloading: 100%"
          }
        },
        "c585b2dcd04141ad8243646e8fdb7476": {
          "model_module": "@jupyter-widgets/controls",
          "model_module_version": "1.5.0",
          "model_name": "HTMLModel",
          "state": {
            "_dom_classes": [],
            "_model_module": "@jupyter-widgets/controls",
            "_model_module_version": "1.5.0",
            "_model_name": "HTMLModel",
            "_view_count": null,
            "_view_module": "@jupyter-widgets/controls",
            "_view_module_version": "1.5.0",
            "_view_name": "HTMLView",
            "description": "",
            "description_tooltip": null,
            "layout": "IPY_MODEL_db5223da29fb4ff795e12054886965a0",
            "placeholder": "​",
            "style": "IPY_MODEL_3ca7e357d4bd4dddb76cbf63315bae2b",
            "value": "Downloading: 100%"
          }
        },
        "c613909d12e54e7cbcfc0f964f929f36": {
          "model_module": "@jupyter-widgets/base",
          "model_module_version": "1.2.0",
          "model_name": "LayoutModel",
          "state": {
            "_model_module": "@jupyter-widgets/base",
            "_model_module_version": "1.2.0",
            "_model_name": "LayoutModel",
            "_view_count": null,
            "_view_module": "@jupyter-widgets/base",
            "_view_module_version": "1.2.0",
            "_view_name": "LayoutView",
            "align_content": null,
            "align_items": null,
            "align_self": null,
            "border": null,
            "bottom": null,
            "display": null,
            "flex": null,
            "flex_flow": null,
            "grid_area": null,
            "grid_auto_columns": null,
            "grid_auto_flow": null,
            "grid_auto_rows": null,
            "grid_column": null,
            "grid_gap": null,
            "grid_row": null,
            "grid_template_areas": null,
            "grid_template_columns": null,
            "grid_template_rows": null,
            "height": null,
            "justify_content": null,
            "justify_items": null,
            "left": null,
            "margin": null,
            "max_height": null,
            "max_width": null,
            "min_height": null,
            "min_width": null,
            "object_fit": null,
            "object_position": null,
            "order": null,
            "overflow": null,
            "overflow_x": null,
            "overflow_y": null,
            "padding": null,
            "right": null,
            "top": null,
            "visibility": null,
            "width": null
          }
        },
        "c6f296b40a4c4314a11a0761e801f2c9": {
          "model_module": "@jupyter-widgets/base",
          "model_module_version": "1.2.0",
          "model_name": "LayoutModel",
          "state": {
            "_model_module": "@jupyter-widgets/base",
            "_model_module_version": "1.2.0",
            "_model_name": "LayoutModel",
            "_view_count": null,
            "_view_module": "@jupyter-widgets/base",
            "_view_module_version": "1.2.0",
            "_view_name": "LayoutView",
            "align_content": null,
            "align_items": null,
            "align_self": null,
            "border": null,
            "bottom": null,
            "display": null,
            "flex": null,
            "flex_flow": null,
            "grid_area": null,
            "grid_auto_columns": null,
            "grid_auto_flow": null,
            "grid_auto_rows": null,
            "grid_column": null,
            "grid_gap": null,
            "grid_row": null,
            "grid_template_areas": null,
            "grid_template_columns": null,
            "grid_template_rows": null,
            "height": null,
            "justify_content": null,
            "justify_items": null,
            "left": null,
            "margin": null,
            "max_height": null,
            "max_width": null,
            "min_height": null,
            "min_width": null,
            "object_fit": null,
            "object_position": null,
            "order": null,
            "overflow": null,
            "overflow_x": null,
            "overflow_y": null,
            "padding": null,
            "right": null,
            "top": null,
            "visibility": null,
            "width": null
          }
        },
        "ccd27ae130fb4675911ee43ffa651a63": {
          "model_module": "@jupyter-widgets/controls",
          "model_module_version": "1.5.0",
          "model_name": "HTMLModel",
          "state": {
            "_dom_classes": [],
            "_model_module": "@jupyter-widgets/controls",
            "_model_module_version": "1.5.0",
            "_model_name": "HTMLModel",
            "_view_count": null,
            "_view_module": "@jupyter-widgets/controls",
            "_view_module_version": "1.5.0",
            "_view_name": "HTMLView",
            "description": "",
            "description_tooltip": null,
            "layout": "IPY_MODEL_86ad4dfb103f4a8eae795f1a48e8f49e",
            "placeholder": "​",
            "style": "IPY_MODEL_848fff3bb0434a8197aa880c7735b57c",
            "value": "Downloading: 100%"
          }
        },
        "ce5a477521d04fb4a794b7a5eb3fc24e": {
          "model_module": "@jupyter-widgets/controls",
          "model_module_version": "1.5.0",
          "model_name": "HBoxModel",
          "state": {
            "_dom_classes": [],
            "_model_module": "@jupyter-widgets/controls",
            "_model_module_version": "1.5.0",
            "_model_name": "HBoxModel",
            "_view_count": null,
            "_view_module": "@jupyter-widgets/controls",
            "_view_module_version": "1.5.0",
            "_view_name": "HBoxView",
            "box_style": "",
            "children": [
              "IPY_MODEL_c4a81b39fa9043f297f310360c590bbb",
              "IPY_MODEL_89023f85d4254c8d9b317a1f12bc6091",
              "IPY_MODEL_32f5d1f9b7a24bf69a817b54b864c4c7"
            ],
            "layout": "IPY_MODEL_62f505f8aa79441987fdbdb179038e11"
          }
        },
        "cfa090972e0d48e1a2fac9d6c6b9c71a": {
          "model_module": "@jupyter-widgets/controls",
          "model_module_version": "1.5.0",
          "model_name": "DescriptionStyleModel",
          "state": {
            "_model_module": "@jupyter-widgets/controls",
            "_model_module_version": "1.5.0",
            "_model_name": "DescriptionStyleModel",
            "_view_count": null,
            "_view_module": "@jupyter-widgets/base",
            "_view_module_version": "1.2.0",
            "_view_name": "StyleView",
            "description_width": ""
          }
        },
        "d5167450d24848678e57c63ddf2b218d": {
          "model_module": "@jupyter-widgets/base",
          "model_module_version": "1.2.0",
          "model_name": "LayoutModel",
          "state": {
            "_model_module": "@jupyter-widgets/base",
            "_model_module_version": "1.2.0",
            "_model_name": "LayoutModel",
            "_view_count": null,
            "_view_module": "@jupyter-widgets/base",
            "_view_module_version": "1.2.0",
            "_view_name": "LayoutView",
            "align_content": null,
            "align_items": null,
            "align_self": null,
            "border": null,
            "bottom": null,
            "display": null,
            "flex": null,
            "flex_flow": null,
            "grid_area": null,
            "grid_auto_columns": null,
            "grid_auto_flow": null,
            "grid_auto_rows": null,
            "grid_column": null,
            "grid_gap": null,
            "grid_row": null,
            "grid_template_areas": null,
            "grid_template_columns": null,
            "grid_template_rows": null,
            "height": null,
            "justify_content": null,
            "justify_items": null,
            "left": null,
            "margin": null,
            "max_height": null,
            "max_width": null,
            "min_height": null,
            "min_width": null,
            "object_fit": null,
            "object_position": null,
            "order": null,
            "overflow": null,
            "overflow_x": null,
            "overflow_y": null,
            "padding": null,
            "right": null,
            "top": null,
            "visibility": null,
            "width": null
          }
        },
        "db5223da29fb4ff795e12054886965a0": {
          "model_module": "@jupyter-widgets/base",
          "model_module_version": "1.2.0",
          "model_name": "LayoutModel",
          "state": {
            "_model_module": "@jupyter-widgets/base",
            "_model_module_version": "1.2.0",
            "_model_name": "LayoutModel",
            "_view_count": null,
            "_view_module": "@jupyter-widgets/base",
            "_view_module_version": "1.2.0",
            "_view_name": "LayoutView",
            "align_content": null,
            "align_items": null,
            "align_self": null,
            "border": null,
            "bottom": null,
            "display": null,
            "flex": null,
            "flex_flow": null,
            "grid_area": null,
            "grid_auto_columns": null,
            "grid_auto_flow": null,
            "grid_auto_rows": null,
            "grid_column": null,
            "grid_gap": null,
            "grid_row": null,
            "grid_template_areas": null,
            "grid_template_columns": null,
            "grid_template_rows": null,
            "height": null,
            "justify_content": null,
            "justify_items": null,
            "left": null,
            "margin": null,
            "max_height": null,
            "max_width": null,
            "min_height": null,
            "min_width": null,
            "object_fit": null,
            "object_position": null,
            "order": null,
            "overflow": null,
            "overflow_x": null,
            "overflow_y": null,
            "padding": null,
            "right": null,
            "top": null,
            "visibility": null,
            "width": null
          }
        },
        "dc63dd8234304ec498ff4f5110f7608a": {
          "model_module": "@jupyter-widgets/base",
          "model_module_version": "1.2.0",
          "model_name": "LayoutModel",
          "state": {
            "_model_module": "@jupyter-widgets/base",
            "_model_module_version": "1.2.0",
            "_model_name": "LayoutModel",
            "_view_count": null,
            "_view_module": "@jupyter-widgets/base",
            "_view_module_version": "1.2.0",
            "_view_name": "LayoutView",
            "align_content": null,
            "align_items": null,
            "align_self": null,
            "border": null,
            "bottom": null,
            "display": null,
            "flex": null,
            "flex_flow": null,
            "grid_area": null,
            "grid_auto_columns": null,
            "grid_auto_flow": null,
            "grid_auto_rows": null,
            "grid_column": null,
            "grid_gap": null,
            "grid_row": null,
            "grid_template_areas": null,
            "grid_template_columns": null,
            "grid_template_rows": null,
            "height": null,
            "justify_content": null,
            "justify_items": null,
            "left": null,
            "margin": null,
            "max_height": null,
            "max_width": null,
            "min_height": null,
            "min_width": null,
            "object_fit": null,
            "object_position": null,
            "order": null,
            "overflow": null,
            "overflow_x": null,
            "overflow_y": null,
            "padding": null,
            "right": null,
            "top": null,
            "visibility": null,
            "width": null
          }
        },
        "de9741a846414d439631688ac309ee03": {
          "model_module": "@jupyter-widgets/controls",
          "model_module_version": "1.5.0",
          "model_name": "HTMLModel",
          "state": {
            "_dom_classes": [],
            "_model_module": "@jupyter-widgets/controls",
            "_model_module_version": "1.5.0",
            "_model_name": "HTMLModel",
            "_view_count": null,
            "_view_module": "@jupyter-widgets/controls",
            "_view_module_version": "1.5.0",
            "_view_name": "HTMLView",
            "description": "",
            "description_tooltip": null,
            "layout": "IPY_MODEL_f049ef2f18ed4703923cbe628c6612e2",
            "placeholder": "​",
            "style": "IPY_MODEL_cfa090972e0d48e1a2fac9d6c6b9c71a",
            "value": "Downloading: 100%"
          }
        },
        "e16850c2231e4c4281e57758dd5251f8": {
          "model_module": "@jupyter-widgets/controls",
          "model_module_version": "1.5.0",
          "model_name": "ProgressStyleModel",
          "state": {
            "_model_module": "@jupyter-widgets/controls",
            "_model_module_version": "1.5.0",
            "_model_name": "ProgressStyleModel",
            "_view_count": null,
            "_view_module": "@jupyter-widgets/base",
            "_view_module_version": "1.2.0",
            "_view_name": "StyleView",
            "bar_color": null,
            "description_width": ""
          }
        },
        "e290b49670574cb891d95bb21527e97c": {
          "model_module": "@jupyter-widgets/base",
          "model_module_version": "1.2.0",
          "model_name": "LayoutModel",
          "state": {
            "_model_module": "@jupyter-widgets/base",
            "_model_module_version": "1.2.0",
            "_model_name": "LayoutModel",
            "_view_count": null,
            "_view_module": "@jupyter-widgets/base",
            "_view_module_version": "1.2.0",
            "_view_name": "LayoutView",
            "align_content": null,
            "align_items": null,
            "align_self": null,
            "border": null,
            "bottom": null,
            "display": null,
            "flex": null,
            "flex_flow": null,
            "grid_area": null,
            "grid_auto_columns": null,
            "grid_auto_flow": null,
            "grid_auto_rows": null,
            "grid_column": null,
            "grid_gap": null,
            "grid_row": null,
            "grid_template_areas": null,
            "grid_template_columns": null,
            "grid_template_rows": null,
            "height": null,
            "justify_content": null,
            "justify_items": null,
            "left": null,
            "margin": null,
            "max_height": null,
            "max_width": null,
            "min_height": null,
            "min_width": null,
            "object_fit": null,
            "object_position": null,
            "order": null,
            "overflow": null,
            "overflow_x": null,
            "overflow_y": null,
            "padding": null,
            "right": null,
            "top": null,
            "visibility": null,
            "width": null
          }
        },
        "e6e71e045da3435cb1b5f9b072d48db1": {
          "model_module": "@jupyter-widgets/controls",
          "model_module_version": "1.5.0",
          "model_name": "HTMLModel",
          "state": {
            "_dom_classes": [],
            "_model_module": "@jupyter-widgets/controls",
            "_model_module_version": "1.5.0",
            "_model_name": "HTMLModel",
            "_view_count": null,
            "_view_module": "@jupyter-widgets/controls",
            "_view_module_version": "1.5.0",
            "_view_name": "HTMLView",
            "description": "",
            "description_tooltip": null,
            "layout": "IPY_MODEL_d5167450d24848678e57c63ddf2b218d",
            "placeholder": "​",
            "style": "IPY_MODEL_a7dd9635c59740a5a29d6d41d392d52e",
            "value": "Downloading: 100%"
          }
        },
        "ec52bd70eaad4c3d838d482410e79b5b": {
          "model_module": "@jupyter-widgets/base",
          "model_module_version": "1.2.0",
          "model_name": "LayoutModel",
          "state": {
            "_model_module": "@jupyter-widgets/base",
            "_model_module_version": "1.2.0",
            "_model_name": "LayoutModel",
            "_view_count": null,
            "_view_module": "@jupyter-widgets/base",
            "_view_module_version": "1.2.0",
            "_view_name": "LayoutView",
            "align_content": null,
            "align_items": null,
            "align_self": null,
            "border": null,
            "bottom": null,
            "display": null,
            "flex": null,
            "flex_flow": null,
            "grid_area": null,
            "grid_auto_columns": null,
            "grid_auto_flow": null,
            "grid_auto_rows": null,
            "grid_column": null,
            "grid_gap": null,
            "grid_row": null,
            "grid_template_areas": null,
            "grid_template_columns": null,
            "grid_template_rows": null,
            "height": null,
            "justify_content": null,
            "justify_items": null,
            "left": null,
            "margin": null,
            "max_height": null,
            "max_width": null,
            "min_height": null,
            "min_width": null,
            "object_fit": null,
            "object_position": null,
            "order": null,
            "overflow": null,
            "overflow_x": null,
            "overflow_y": null,
            "padding": null,
            "right": null,
            "top": null,
            "visibility": null,
            "width": null
          }
        },
        "f049ef2f18ed4703923cbe628c6612e2": {
          "model_module": "@jupyter-widgets/base",
          "model_module_version": "1.2.0",
          "model_name": "LayoutModel",
          "state": {
            "_model_module": "@jupyter-widgets/base",
            "_model_module_version": "1.2.0",
            "_model_name": "LayoutModel",
            "_view_count": null,
            "_view_module": "@jupyter-widgets/base",
            "_view_module_version": "1.2.0",
            "_view_name": "LayoutView",
            "align_content": null,
            "align_items": null,
            "align_self": null,
            "border": null,
            "bottom": null,
            "display": null,
            "flex": null,
            "flex_flow": null,
            "grid_area": null,
            "grid_auto_columns": null,
            "grid_auto_flow": null,
            "grid_auto_rows": null,
            "grid_column": null,
            "grid_gap": null,
            "grid_row": null,
            "grid_template_areas": null,
            "grid_template_columns": null,
            "grid_template_rows": null,
            "height": null,
            "justify_content": null,
            "justify_items": null,
            "left": null,
            "margin": null,
            "max_height": null,
            "max_width": null,
            "min_height": null,
            "min_width": null,
            "object_fit": null,
            "object_position": null,
            "order": null,
            "overflow": null,
            "overflow_x": null,
            "overflow_y": null,
            "padding": null,
            "right": null,
            "top": null,
            "visibility": null,
            "width": null
          }
        },
        "f12e6461afd94679a99e23fd0d37798a": {
          "model_module": "@jupyter-widgets/controls",
          "model_module_version": "1.5.0",
          "model_name": "DescriptionStyleModel",
          "state": {
            "_model_module": "@jupyter-widgets/controls",
            "_model_module_version": "1.5.0",
            "_model_name": "DescriptionStyleModel",
            "_view_count": null,
            "_view_module": "@jupyter-widgets/base",
            "_view_module_version": "1.2.0",
            "_view_name": "StyleView",
            "description_width": ""
          }
        },
        "f4b2bf051d154251b4eecfe03cf49663": {
          "model_module": "@jupyter-widgets/base",
          "model_module_version": "1.2.0",
          "model_name": "LayoutModel",
          "state": {
            "_model_module": "@jupyter-widgets/base",
            "_model_module_version": "1.2.0",
            "_model_name": "LayoutModel",
            "_view_count": null,
            "_view_module": "@jupyter-widgets/base",
            "_view_module_version": "1.2.0",
            "_view_name": "LayoutView",
            "align_content": null,
            "align_items": null,
            "align_self": null,
            "border": null,
            "bottom": null,
            "display": null,
            "flex": null,
            "flex_flow": null,
            "grid_area": null,
            "grid_auto_columns": null,
            "grid_auto_flow": null,
            "grid_auto_rows": null,
            "grid_column": null,
            "grid_gap": null,
            "grid_row": null,
            "grid_template_areas": null,
            "grid_template_columns": null,
            "grid_template_rows": null,
            "height": null,
            "justify_content": null,
            "justify_items": null,
            "left": null,
            "margin": null,
            "max_height": null,
            "max_width": null,
            "min_height": null,
            "min_width": null,
            "object_fit": null,
            "object_position": null,
            "order": null,
            "overflow": null,
            "overflow_x": null,
            "overflow_y": null,
            "padding": null,
            "right": null,
            "top": null,
            "visibility": null,
            "width": null
          }
        },
        "f53aa6c7966d41f58a83804040e71c2a": {
          "model_module": "@jupyter-widgets/controls",
          "model_module_version": "1.5.0",
          "model_name": "FloatProgressModel",
          "state": {
            "_dom_classes": [],
            "_model_module": "@jupyter-widgets/controls",
            "_model_module_version": "1.5.0",
            "_model_name": "FloatProgressModel",
            "_view_count": null,
            "_view_module": "@jupyter-widgets/controls",
            "_view_module_version": "1.5.0",
            "_view_name": "ProgressView",
            "bar_style": "success",
            "description": "",
            "description_tooltip": null,
            "layout": "IPY_MODEL_5fc44c601dbb4996b2aacaedfca40cb0",
            "max": 1455,
            "min": 0,
            "orientation": "horizontal",
            "style": "IPY_MODEL_884094d560424a4e9684fbbbcdf52c08",
            "value": 1455
          }
        },
        "f6d24c766e0d4b868494cc86f7857053": {
          "model_module": "@jupyter-widgets/controls",
          "model_module_version": "1.5.0",
          "model_name": "DescriptionStyleModel",
          "state": {
            "_model_module": "@jupyter-widgets/controls",
            "_model_module_version": "1.5.0",
            "_model_name": "DescriptionStyleModel",
            "_view_count": null,
            "_view_module": "@jupyter-widgets/base",
            "_view_module_version": "1.2.0",
            "_view_name": "StyleView",
            "description_width": ""
          }
        },
        "f6f3fc76bfcb48948c7f5663ec800d8b": {
          "model_module": "@jupyter-widgets/controls",
          "model_module_version": "1.5.0",
          "model_name": "ProgressStyleModel",
          "state": {
            "_model_module": "@jupyter-widgets/controls",
            "_model_module_version": "1.5.0",
            "_model_name": "ProgressStyleModel",
            "_view_count": null,
            "_view_module": "@jupyter-widgets/base",
            "_view_module_version": "1.2.0",
            "_view_name": "StyleView",
            "bar_color": null,
            "description_width": ""
          }
        },
        "f754ed6bcad141b382e21a2369abafc6": {
          "model_module": "@jupyter-widgets/controls",
          "model_module_version": "1.5.0",
          "model_name": "DescriptionStyleModel",
          "state": {
            "_model_module": "@jupyter-widgets/controls",
            "_model_module_version": "1.5.0",
            "_model_name": "DescriptionStyleModel",
            "_view_count": null,
            "_view_module": "@jupyter-widgets/base",
            "_view_module_version": "1.2.0",
            "_view_name": "StyleView",
            "description_width": ""
          }
        },
        "f99ed9b0101b45fba66ea311c1c537e8": {
          "model_module": "@jupyter-widgets/base",
          "model_module_version": "1.2.0",
          "model_name": "LayoutModel",
          "state": {
            "_model_module": "@jupyter-widgets/base",
            "_model_module_version": "1.2.0",
            "_model_name": "LayoutModel",
            "_view_count": null,
            "_view_module": "@jupyter-widgets/base",
            "_view_module_version": "1.2.0",
            "_view_name": "LayoutView",
            "align_content": null,
            "align_items": null,
            "align_self": null,
            "border": null,
            "bottom": null,
            "display": null,
            "flex": null,
            "flex_flow": null,
            "grid_area": null,
            "grid_auto_columns": null,
            "grid_auto_flow": null,
            "grid_auto_rows": null,
            "grid_column": null,
            "grid_gap": null,
            "grid_row": null,
            "grid_template_areas": null,
            "grid_template_columns": null,
            "grid_template_rows": null,
            "height": null,
            "justify_content": null,
            "justify_items": null,
            "left": null,
            "margin": null,
            "max_height": null,
            "max_width": null,
            "min_height": null,
            "min_width": null,
            "object_fit": null,
            "object_position": null,
            "order": null,
            "overflow": null,
            "overflow_x": null,
            "overflow_y": null,
            "padding": null,
            "right": null,
            "top": null,
            "visibility": null,
            "width": null
          }
        },
        "ffaa661734114f4499846c6d9db3be65": {
          "model_module": "@jupyter-widgets/base",
          "model_module_version": "1.2.0",
          "model_name": "LayoutModel",
          "state": {
            "_model_module": "@jupyter-widgets/base",
            "_model_module_version": "1.2.0",
            "_model_name": "LayoutModel",
            "_view_count": null,
            "_view_module": "@jupyter-widgets/base",
            "_view_module_version": "1.2.0",
            "_view_name": "LayoutView",
            "align_content": null,
            "align_items": null,
            "align_self": null,
            "border": null,
            "bottom": null,
            "display": null,
            "flex": null,
            "flex_flow": null,
            "grid_area": null,
            "grid_auto_columns": null,
            "grid_auto_flow": null,
            "grid_auto_rows": null,
            "grid_column": null,
            "grid_gap": null,
            "grid_row": null,
            "grid_template_areas": null,
            "grid_template_columns": null,
            "grid_template_rows": null,
            "height": null,
            "justify_content": null,
            "justify_items": null,
            "left": null,
            "margin": null,
            "max_height": null,
            "max_width": null,
            "min_height": null,
            "min_width": null,
            "object_fit": null,
            "object_position": null,
            "order": null,
            "overflow": null,
            "overflow_x": null,
            "overflow_y": null,
            "padding": null,
            "right": null,
            "top": null,
            "visibility": null,
            "width": null
          }
        }
      }
    }
  },
  "nbformat": 4,
  "nbformat_minor": 0
}
