{
  "nbformat": 4,
  "nbformat_minor": 0,
  "metadata": {
    "colab": {
      "name": "Cópia de sentistrength.ipynb",
      "provenance": [],
      "collapsed_sections": []
    },
    "kernelspec": {
      "name": "python3",
      "display_name": "Python 3"
    },
    "language_info": {
      "name": "python"
    }
  },
  "cells": [
    {
      "cell_type": "markdown",
      "source": [
        "### Aplicando o SentiStrength"
      ],
      "metadata": {
        "id": "fmAIgLQ3YvBd"
      }
    },
    {
      "cell_type": "code",
      "execution_count": null,
      "metadata": {
        "colab": {
          "base_uri": "https://localhost:8080/"
        },
        "id": "-aSNg6QTjmnL",
        "outputId": "9b018a12-bd5f-445b-c36b-2a481c3acd3f"
      },
      "outputs": [
        {
          "output_type": "stream",
          "name": "stdout",
          "text": [
            "Looking in indexes: https://pypi.org/simple, https://us-python.pkg.dev/colab-wheels/public/simple/\n",
            "Collecting sentistrength\n",
            "  Downloading sentistrength-0.0.9-py3-none-any.whl (3.8 kB)\n",
            "Installing collected packages: sentistrength\n",
            "Successfully installed sentistrength-0.0.9\n"
          ]
        }
      ],
      "source": [
        "!pip install sentistrength"
      ]
    },
    {
      "cell_type": "code",
      "source": [
        "from sentistrength import PySentiStr\n",
        "import pandas as pd\n",
        "import matplotlib.pyplot as plt\n",
        "import numpy as np"
      ],
      "metadata": {
        "id": "Cxfc654IrZ7q"
      },
      "execution_count": null,
      "outputs": []
    },
    {
      "cell_type": "code",
      "source": [
        "data = pd.read_csv('dataset_atualizado_06062022_aleatorio.csv')\n",
        "#data = pd.read_csv('data_sentistrength_geral.csv')\n",
        "\n",
        "#data.drop_duplicates(['text'], inplace=True)"
      ],
      "metadata": {
        "id": "Vb0N_wJjsX-w"
      },
      "execution_count": null,
      "outputs": []
    },
    {
      "cell_type": "code",
      "source": [
        "data"
      ],
      "metadata": {
        "colab": {
          "base_uri": "https://localhost:8080/",
          "height": 1000
        },
        "id": "rwV3bOn1qYhZ",
        "outputId": "07e30809-94f6-46b3-83ef-4b960ee165c4"
      },
      "execution_count": null,
      "outputs": [
        {
          "output_type": "execute_result",
          "data": {
            "text/plain": [
              "      id_noticia           author_id             tweet_id  created_at   site  \\\n",
              "0             22           390540335  1409510298579570699  2021-06-28     G1   \n",
              "1             18          2606714200  1163791130938486786  2019-08-20     G1   \n",
              "2             26          1398357042  1390373254154575873  2021-05-06    Uol   \n",
              "3             18            79226451  1163942221449715712  2019-08-20    UOL   \n",
              "4             23            23268961  1262814697222483970  2020-05-19     G1   \n",
              "...          ...                 ...                  ...         ...    ...   \n",
              "2995          26            57780014  1390443239329701890  2021-05-06  Folha   \n",
              "2996          25            17631203  1115233403610312704  2019-04-08  Folha   \n",
              "2997          20  708683504637317121  1175504587089948672  2019-09-21  Folha   \n",
              "2998          23  921575438614441984  1262971602104463360  2020-05-20     G1   \n",
              "2999          21           283141832  1456979148702945280  2021-11-06  Folha   \n",
              "\n",
              "                                                   text  rotulacao_manual  \\\n",
              "0                      morre em confronto, segundo a pm                 0   \n",
              "1          parabéns por identificar um sniper camuflado                 1   \n",
              "2     operação com 25 mortos no jacarezinho é a mais...                 0   \n",
              "3                                        já teve minimi                 0   \n",
              "4     morreu como? ele foi assassinado de forma cova...                -1   \n",
              "...                                                 ...               ...   \n",
              "2995  puts, menos de 200 traficantes mortos, não vou...                -1   \n",
              "2996  a deu um novo nome pra execução e tentativa de...                -1   \n",
              "2997           que bando de gente recalcada com a pm!!!                -1   \n",
              "2998  eu não perco meu tempo discutindo com marionet...                -1   \n",
              "2999  esse povo baba  de polícia é o demônio , não c...                -1   \n",
              "\n",
              "     id_rotulador  \n",
              "0               M  \n",
              "1               G  \n",
              "2               S  \n",
              "3               S  \n",
              "4               M  \n",
              "...           ...  \n",
              "2995            G  \n",
              "2996            S  \n",
              "2997            M  \n",
              "2998            G  \n",
              "2999            M  \n",
              "\n",
              "[3000 rows x 8 columns]"
            ],
            "text/html": [
              "\n",
              "  <div id=\"df-50203ff5-7735-4c07-88dc-0eb23fd3f656\">\n",
              "    <div class=\"colab-df-container\">\n",
              "      <div>\n",
              "<style scoped>\n",
              "    .dataframe tbody tr th:only-of-type {\n",
              "        vertical-align: middle;\n",
              "    }\n",
              "\n",
              "    .dataframe tbody tr th {\n",
              "        vertical-align: top;\n",
              "    }\n",
              "\n",
              "    .dataframe thead th {\n",
              "        text-align: right;\n",
              "    }\n",
              "</style>\n",
              "<table border=\"1\" class=\"dataframe\">\n",
              "  <thead>\n",
              "    <tr style=\"text-align: right;\">\n",
              "      <th></th>\n",
              "      <th>id_noticia</th>\n",
              "      <th>author_id</th>\n",
              "      <th>tweet_id</th>\n",
              "      <th>created_at</th>\n",
              "      <th>site</th>\n",
              "      <th>text</th>\n",
              "      <th>rotulacao_manual</th>\n",
              "      <th>id_rotulador</th>\n",
              "    </tr>\n",
              "  </thead>\n",
              "  <tbody>\n",
              "    <tr>\n",
              "      <th>0</th>\n",
              "      <td>22</td>\n",
              "      <td>390540335</td>\n",
              "      <td>1409510298579570699</td>\n",
              "      <td>2021-06-28</td>\n",
              "      <td>G1</td>\n",
              "      <td>morre em confronto, segundo a pm</td>\n",
              "      <td>0</td>\n",
              "      <td>M</td>\n",
              "    </tr>\n",
              "    <tr>\n",
              "      <th>1</th>\n",
              "      <td>18</td>\n",
              "      <td>2606714200</td>\n",
              "      <td>1163791130938486786</td>\n",
              "      <td>2019-08-20</td>\n",
              "      <td>G1</td>\n",
              "      <td>parabéns por identificar um sniper camuflado</td>\n",
              "      <td>1</td>\n",
              "      <td>G</td>\n",
              "    </tr>\n",
              "    <tr>\n",
              "      <th>2</th>\n",
              "      <td>26</td>\n",
              "      <td>1398357042</td>\n",
              "      <td>1390373254154575873</td>\n",
              "      <td>2021-05-06</td>\n",
              "      <td>Uol</td>\n",
              "      <td>operação com 25 mortos no jacarezinho é a mais...</td>\n",
              "      <td>0</td>\n",
              "      <td>S</td>\n",
              "    </tr>\n",
              "    <tr>\n",
              "      <th>3</th>\n",
              "      <td>18</td>\n",
              "      <td>79226451</td>\n",
              "      <td>1163942221449715712</td>\n",
              "      <td>2019-08-20</td>\n",
              "      <td>UOL</td>\n",
              "      <td>já teve minimi</td>\n",
              "      <td>0</td>\n",
              "      <td>S</td>\n",
              "    </tr>\n",
              "    <tr>\n",
              "      <th>4</th>\n",
              "      <td>23</td>\n",
              "      <td>23268961</td>\n",
              "      <td>1262814697222483970</td>\n",
              "      <td>2020-05-19</td>\n",
              "      <td>G1</td>\n",
              "      <td>morreu como? ele foi assassinado de forma cova...</td>\n",
              "      <td>-1</td>\n",
              "      <td>M</td>\n",
              "    </tr>\n",
              "    <tr>\n",
              "      <th>...</th>\n",
              "      <td>...</td>\n",
              "      <td>...</td>\n",
              "      <td>...</td>\n",
              "      <td>...</td>\n",
              "      <td>...</td>\n",
              "      <td>...</td>\n",
              "      <td>...</td>\n",
              "      <td>...</td>\n",
              "    </tr>\n",
              "    <tr>\n",
              "      <th>2995</th>\n",
              "      <td>26</td>\n",
              "      <td>57780014</td>\n",
              "      <td>1390443239329701890</td>\n",
              "      <td>2021-05-06</td>\n",
              "      <td>Folha</td>\n",
              "      <td>puts, menos de 200 traficantes mortos, não vou...</td>\n",
              "      <td>-1</td>\n",
              "      <td>G</td>\n",
              "    </tr>\n",
              "    <tr>\n",
              "      <th>2996</th>\n",
              "      <td>25</td>\n",
              "      <td>17631203</td>\n",
              "      <td>1115233403610312704</td>\n",
              "      <td>2019-04-08</td>\n",
              "      <td>Folha</td>\n",
              "      <td>a deu um novo nome pra execução e tentativa de...</td>\n",
              "      <td>-1</td>\n",
              "      <td>S</td>\n",
              "    </tr>\n",
              "    <tr>\n",
              "      <th>2997</th>\n",
              "      <td>20</td>\n",
              "      <td>708683504637317121</td>\n",
              "      <td>1175504587089948672</td>\n",
              "      <td>2019-09-21</td>\n",
              "      <td>Folha</td>\n",
              "      <td>que bando de gente recalcada com a pm!!!</td>\n",
              "      <td>-1</td>\n",
              "      <td>M</td>\n",
              "    </tr>\n",
              "    <tr>\n",
              "      <th>2998</th>\n",
              "      <td>23</td>\n",
              "      <td>921575438614441984</td>\n",
              "      <td>1262971602104463360</td>\n",
              "      <td>2020-05-20</td>\n",
              "      <td>G1</td>\n",
              "      <td>eu não perco meu tempo discutindo com marionet...</td>\n",
              "      <td>-1</td>\n",
              "      <td>G</td>\n",
              "    </tr>\n",
              "    <tr>\n",
              "      <th>2999</th>\n",
              "      <td>21</td>\n",
              "      <td>283141832</td>\n",
              "      <td>1456979148702945280</td>\n",
              "      <td>2021-11-06</td>\n",
              "      <td>Folha</td>\n",
              "      <td>esse povo baba  de polícia é o demônio , não c...</td>\n",
              "      <td>-1</td>\n",
              "      <td>M</td>\n",
              "    </tr>\n",
              "  </tbody>\n",
              "</table>\n",
              "<p>3000 rows × 8 columns</p>\n",
              "</div>\n",
              "      <button class=\"colab-df-convert\" onclick=\"convertToInteractive('df-50203ff5-7735-4c07-88dc-0eb23fd3f656')\"\n",
              "              title=\"Convert this dataframe to an interactive table.\"\n",
              "              style=\"display:none;\">\n",
              "        \n",
              "  <svg xmlns=\"http://www.w3.org/2000/svg\" height=\"24px\"viewBox=\"0 0 24 24\"\n",
              "       width=\"24px\">\n",
              "    <path d=\"M0 0h24v24H0V0z\" fill=\"none\"/>\n",
              "    <path d=\"M18.56 5.44l.94 2.06.94-2.06 2.06-.94-2.06-.94-.94-2.06-.94 2.06-2.06.94zm-11 1L8.5 8.5l.94-2.06 2.06-.94-2.06-.94L8.5 2.5l-.94 2.06-2.06.94zm10 10l.94 2.06.94-2.06 2.06-.94-2.06-.94-.94-2.06-.94 2.06-2.06.94z\"/><path d=\"M17.41 7.96l-1.37-1.37c-.4-.4-.92-.59-1.43-.59-.52 0-1.04.2-1.43.59L10.3 9.45l-7.72 7.72c-.78.78-.78 2.05 0 2.83L4 21.41c.39.39.9.59 1.41.59.51 0 1.02-.2 1.41-.59l7.78-7.78 2.81-2.81c.8-.78.8-2.07 0-2.86zM5.41 20L4 18.59l7.72-7.72 1.47 1.35L5.41 20z\"/>\n",
              "  </svg>\n",
              "      </button>\n",
              "      \n",
              "  <style>\n",
              "    .colab-df-container {\n",
              "      display:flex;\n",
              "      flex-wrap:wrap;\n",
              "      gap: 12px;\n",
              "    }\n",
              "\n",
              "    .colab-df-convert {\n",
              "      background-color: #E8F0FE;\n",
              "      border: none;\n",
              "      border-radius: 50%;\n",
              "      cursor: pointer;\n",
              "      display: none;\n",
              "      fill: #1967D2;\n",
              "      height: 32px;\n",
              "      padding: 0 0 0 0;\n",
              "      width: 32px;\n",
              "    }\n",
              "\n",
              "    .colab-df-convert:hover {\n",
              "      background-color: #E2EBFA;\n",
              "      box-shadow: 0px 1px 2px rgba(60, 64, 67, 0.3), 0px 1px 3px 1px rgba(60, 64, 67, 0.15);\n",
              "      fill: #174EA6;\n",
              "    }\n",
              "\n",
              "    [theme=dark] .colab-df-convert {\n",
              "      background-color: #3B4455;\n",
              "      fill: #D2E3FC;\n",
              "    }\n",
              "\n",
              "    [theme=dark] .colab-df-convert:hover {\n",
              "      background-color: #434B5C;\n",
              "      box-shadow: 0px 1px 3px 1px rgba(0, 0, 0, 0.15);\n",
              "      filter: drop-shadow(0px 1px 2px rgba(0, 0, 0, 0.3));\n",
              "      fill: #FFFFFF;\n",
              "    }\n",
              "  </style>\n",
              "\n",
              "      <script>\n",
              "        const buttonEl =\n",
              "          document.querySelector('#df-50203ff5-7735-4c07-88dc-0eb23fd3f656 button.colab-df-convert');\n",
              "        buttonEl.style.display =\n",
              "          google.colab.kernel.accessAllowed ? 'block' : 'none';\n",
              "\n",
              "        async function convertToInteractive(key) {\n",
              "          const element = document.querySelector('#df-50203ff5-7735-4c07-88dc-0eb23fd3f656');\n",
              "          const dataTable =\n",
              "            await google.colab.kernel.invokeFunction('convertToInteractive',\n",
              "                                                     [key], {});\n",
              "          if (!dataTable) return;\n",
              "\n",
              "          const docLinkHtml = 'Like what you see? Visit the ' +\n",
              "            '<a target=\"_blank\" href=https://colab.research.google.com/notebooks/data_table.ipynb>data table notebook</a>'\n",
              "            + ' to learn more about interactive tables.';\n",
              "          element.innerHTML = '';\n",
              "          dataTable['output_type'] = 'display_data';\n",
              "          await google.colab.output.renderOutput(dataTable, element);\n",
              "          const docLink = document.createElement('div');\n",
              "          docLink.innerHTML = docLinkHtml;\n",
              "          element.appendChild(docLink);\n",
              "        }\n",
              "      </script>\n",
              "    </div>\n",
              "  </div>\n",
              "  "
            ]
          },
          "metadata": {},
          "execution_count": 6
        }
      ]
    },
    {
      "cell_type": "code",
      "source": [
        "comentarios = list(data['text'].values)"
      ],
      "metadata": {
        "id": "2BvahrFovjJg"
      },
      "execution_count": null,
      "outputs": []
    },
    {
      "cell_type": "code",
      "source": [
        "senti = PySentiStr()\n",
        "senti.setSentiStrengthPath('SentiStrength.jar')\n",
        "senti.setSentiStrengthLanguageFolderPath('Data/')"
      ],
      "metadata": {
        "id": "FHOfjAf9xLbZ"
      },
      "execution_count": null,
      "outputs": []
    },
    {
      "cell_type": "code",
      "source": [
        "sentiment = []\n",
        "for comentario in comentarios:\n",
        "  result = senti.getSentiment(comentario, score='scale')\n",
        "  sentiment.append(result[0])"
      ],
      "metadata": {
        "id": "UEobPv3KxEHU"
      },
      "execution_count": null,
      "outputs": []
    },
    {
      "cell_type": "code",
      "source": [
        "result = senti.getSentiment('Eu te amo, mas odeio o clima político atual.', score='scale')\n",
        "print(result)\n"
      ],
      "metadata": {
        "id": "pW1wy4oNjnFX",
        "colab": {
          "base_uri": "https://localhost:8080/"
        },
        "outputId": "5e63fc2d-b576-4c05-f6db-998c5ed9df96"
      },
      "execution_count": null,
      "outputs": [
        {
          "output_type": "stream",
          "name": "stdout",
          "text": [
            "[-3]\n"
          ]
        }
      ]
    },
    {
      "cell_type": "code",
      "source": [
        "data"
      ],
      "metadata": {
        "colab": {
          "base_uri": "https://localhost:8080/",
          "height": 1000
        },
        "id": "6bohQN-CIfD9",
        "outputId": "d0a8012b-b2c9-4bb8-be27-554d08c870e1"
      },
      "execution_count": null,
      "outputs": [
        {
          "output_type": "execute_result",
          "data": {
            "text/plain": [
              "      id_noticia           author_id             tweet_id  created_at   site  \\\n",
              "0             22           390540335  1409510298579570699  2021-06-28     G1   \n",
              "1             18          2606714200  1163791130938486786  2019-08-20     G1   \n",
              "2             26          1398357042  1390373254154575873  2021-05-06    Uol   \n",
              "3             18            79226451  1163942221449715712  2019-08-20    UOL   \n",
              "4             23            23268961  1262814697222483970  2020-05-19     G1   \n",
              "...          ...                 ...                  ...         ...    ...   \n",
              "2995          26            57780014  1390443239329701890  2021-05-06  Folha   \n",
              "2996          25            17631203  1115233403610312704  2019-04-08  Folha   \n",
              "2997          20  708683504637317121  1175504587089948672  2019-09-21  Folha   \n",
              "2998          23  921575438614441984  1262971602104463360  2020-05-20     G1   \n",
              "2999          21           283141832  1456979148702945280  2021-11-06  Folha   \n",
              "\n",
              "                                                   text  rotulacao_manual  \\\n",
              "0                      morre em confronto, segundo a pm                 0   \n",
              "1          parabéns por identificar um sniper camuflado                 1   \n",
              "2     operação com 25 mortos no jacarezinho é a mais...                 0   \n",
              "3                                        já teve minimi                 0   \n",
              "4     morreu como? ele foi assassinado de forma cova...                -1   \n",
              "...                                                 ...               ...   \n",
              "2995  puts, menos de 200 traficantes mortos, não vou...                -1   \n",
              "2996  a deu um novo nome pra execução e tentativa de...                -1   \n",
              "2997           que bando de gente recalcada com a pm!!!                -1   \n",
              "2998  eu não perco meu tempo discutindo com marionet...                -1   \n",
              "2999  esse povo baba  de polícia é o demônio , não c...                -1   \n",
              "\n",
              "     id_rotulador  Sentimento  \n",
              "0               M           0  \n",
              "1               G           0  \n",
              "2               S          -3  \n",
              "3               S           0  \n",
              "4               M           0  \n",
              "...           ...         ...  \n",
              "2995            G          -2  \n",
              "2996            S           0  \n",
              "2997            M           1  \n",
              "2998            G          -3  \n",
              "2999            M          -3  \n",
              "\n",
              "[3000 rows x 9 columns]"
            ],
            "text/html": [
              "\n",
              "  <div id=\"df-bb9ed1b8-d60b-4b88-949c-a5b009f6a03a\">\n",
              "    <div class=\"colab-df-container\">\n",
              "      <div>\n",
              "<style scoped>\n",
              "    .dataframe tbody tr th:only-of-type {\n",
              "        vertical-align: middle;\n",
              "    }\n",
              "\n",
              "    .dataframe tbody tr th {\n",
              "        vertical-align: top;\n",
              "    }\n",
              "\n",
              "    .dataframe thead th {\n",
              "        text-align: right;\n",
              "    }\n",
              "</style>\n",
              "<table border=\"1\" class=\"dataframe\">\n",
              "  <thead>\n",
              "    <tr style=\"text-align: right;\">\n",
              "      <th></th>\n",
              "      <th>id_noticia</th>\n",
              "      <th>author_id</th>\n",
              "      <th>tweet_id</th>\n",
              "      <th>created_at</th>\n",
              "      <th>site</th>\n",
              "      <th>text</th>\n",
              "      <th>rotulacao_manual</th>\n",
              "      <th>id_rotulador</th>\n",
              "      <th>Sentimento</th>\n",
              "    </tr>\n",
              "  </thead>\n",
              "  <tbody>\n",
              "    <tr>\n",
              "      <th>0</th>\n",
              "      <td>22</td>\n",
              "      <td>390540335</td>\n",
              "      <td>1409510298579570699</td>\n",
              "      <td>2021-06-28</td>\n",
              "      <td>G1</td>\n",
              "      <td>morre em confronto, segundo a pm</td>\n",
              "      <td>0</td>\n",
              "      <td>M</td>\n",
              "      <td>0</td>\n",
              "    </tr>\n",
              "    <tr>\n",
              "      <th>1</th>\n",
              "      <td>18</td>\n",
              "      <td>2606714200</td>\n",
              "      <td>1163791130938486786</td>\n",
              "      <td>2019-08-20</td>\n",
              "      <td>G1</td>\n",
              "      <td>parabéns por identificar um sniper camuflado</td>\n",
              "      <td>1</td>\n",
              "      <td>G</td>\n",
              "      <td>0</td>\n",
              "    </tr>\n",
              "    <tr>\n",
              "      <th>2</th>\n",
              "      <td>26</td>\n",
              "      <td>1398357042</td>\n",
              "      <td>1390373254154575873</td>\n",
              "      <td>2021-05-06</td>\n",
              "      <td>Uol</td>\n",
              "      <td>operação com 25 mortos no jacarezinho é a mais...</td>\n",
              "      <td>0</td>\n",
              "      <td>S</td>\n",
              "      <td>-3</td>\n",
              "    </tr>\n",
              "    <tr>\n",
              "      <th>3</th>\n",
              "      <td>18</td>\n",
              "      <td>79226451</td>\n",
              "      <td>1163942221449715712</td>\n",
              "      <td>2019-08-20</td>\n",
              "      <td>UOL</td>\n",
              "      <td>já teve minimi</td>\n",
              "      <td>0</td>\n",
              "      <td>S</td>\n",
              "      <td>0</td>\n",
              "    </tr>\n",
              "    <tr>\n",
              "      <th>4</th>\n",
              "      <td>23</td>\n",
              "      <td>23268961</td>\n",
              "      <td>1262814697222483970</td>\n",
              "      <td>2020-05-19</td>\n",
              "      <td>G1</td>\n",
              "      <td>morreu como? ele foi assassinado de forma cova...</td>\n",
              "      <td>-1</td>\n",
              "      <td>M</td>\n",
              "      <td>0</td>\n",
              "    </tr>\n",
              "    <tr>\n",
              "      <th>...</th>\n",
              "      <td>...</td>\n",
              "      <td>...</td>\n",
              "      <td>...</td>\n",
              "      <td>...</td>\n",
              "      <td>...</td>\n",
              "      <td>...</td>\n",
              "      <td>...</td>\n",
              "      <td>...</td>\n",
              "      <td>...</td>\n",
              "    </tr>\n",
              "    <tr>\n",
              "      <th>2995</th>\n",
              "      <td>26</td>\n",
              "      <td>57780014</td>\n",
              "      <td>1390443239329701890</td>\n",
              "      <td>2021-05-06</td>\n",
              "      <td>Folha</td>\n",
              "      <td>puts, menos de 200 traficantes mortos, não vou...</td>\n",
              "      <td>-1</td>\n",
              "      <td>G</td>\n",
              "      <td>-2</td>\n",
              "    </tr>\n",
              "    <tr>\n",
              "      <th>2996</th>\n",
              "      <td>25</td>\n",
              "      <td>17631203</td>\n",
              "      <td>1115233403610312704</td>\n",
              "      <td>2019-04-08</td>\n",
              "      <td>Folha</td>\n",
              "      <td>a deu um novo nome pra execução e tentativa de...</td>\n",
              "      <td>-1</td>\n",
              "      <td>S</td>\n",
              "      <td>0</td>\n",
              "    </tr>\n",
              "    <tr>\n",
              "      <th>2997</th>\n",
              "      <td>20</td>\n",
              "      <td>708683504637317121</td>\n",
              "      <td>1175504587089948672</td>\n",
              "      <td>2019-09-21</td>\n",
              "      <td>Folha</td>\n",
              "      <td>que bando de gente recalcada com a pm!!!</td>\n",
              "      <td>-1</td>\n",
              "      <td>M</td>\n",
              "      <td>1</td>\n",
              "    </tr>\n",
              "    <tr>\n",
              "      <th>2998</th>\n",
              "      <td>23</td>\n",
              "      <td>921575438614441984</td>\n",
              "      <td>1262971602104463360</td>\n",
              "      <td>2020-05-20</td>\n",
              "      <td>G1</td>\n",
              "      <td>eu não perco meu tempo discutindo com marionet...</td>\n",
              "      <td>-1</td>\n",
              "      <td>G</td>\n",
              "      <td>-3</td>\n",
              "    </tr>\n",
              "    <tr>\n",
              "      <th>2999</th>\n",
              "      <td>21</td>\n",
              "      <td>283141832</td>\n",
              "      <td>1456979148702945280</td>\n",
              "      <td>2021-11-06</td>\n",
              "      <td>Folha</td>\n",
              "      <td>esse povo baba  de polícia é o demônio , não c...</td>\n",
              "      <td>-1</td>\n",
              "      <td>M</td>\n",
              "      <td>-3</td>\n",
              "    </tr>\n",
              "  </tbody>\n",
              "</table>\n",
              "<p>3000 rows × 9 columns</p>\n",
              "</div>\n",
              "      <button class=\"colab-df-convert\" onclick=\"convertToInteractive('df-bb9ed1b8-d60b-4b88-949c-a5b009f6a03a')\"\n",
              "              title=\"Convert this dataframe to an interactive table.\"\n",
              "              style=\"display:none;\">\n",
              "        \n",
              "  <svg xmlns=\"http://www.w3.org/2000/svg\" height=\"24px\"viewBox=\"0 0 24 24\"\n",
              "       width=\"24px\">\n",
              "    <path d=\"M0 0h24v24H0V0z\" fill=\"none\"/>\n",
              "    <path d=\"M18.56 5.44l.94 2.06.94-2.06 2.06-.94-2.06-.94-.94-2.06-.94 2.06-2.06.94zm-11 1L8.5 8.5l.94-2.06 2.06-.94-2.06-.94L8.5 2.5l-.94 2.06-2.06.94zm10 10l.94 2.06.94-2.06 2.06-.94-2.06-.94-.94-2.06-.94 2.06-2.06.94z\"/><path d=\"M17.41 7.96l-1.37-1.37c-.4-.4-.92-.59-1.43-.59-.52 0-1.04.2-1.43.59L10.3 9.45l-7.72 7.72c-.78.78-.78 2.05 0 2.83L4 21.41c.39.39.9.59 1.41.59.51 0 1.02-.2 1.41-.59l7.78-7.78 2.81-2.81c.8-.78.8-2.07 0-2.86zM5.41 20L4 18.59l7.72-7.72 1.47 1.35L5.41 20z\"/>\n",
              "  </svg>\n",
              "      </button>\n",
              "      \n",
              "  <style>\n",
              "    .colab-df-container {\n",
              "      display:flex;\n",
              "      flex-wrap:wrap;\n",
              "      gap: 12px;\n",
              "    }\n",
              "\n",
              "    .colab-df-convert {\n",
              "      background-color: #E8F0FE;\n",
              "      border: none;\n",
              "      border-radius: 50%;\n",
              "      cursor: pointer;\n",
              "      display: none;\n",
              "      fill: #1967D2;\n",
              "      height: 32px;\n",
              "      padding: 0 0 0 0;\n",
              "      width: 32px;\n",
              "    }\n",
              "\n",
              "    .colab-df-convert:hover {\n",
              "      background-color: #E2EBFA;\n",
              "      box-shadow: 0px 1px 2px rgba(60, 64, 67, 0.3), 0px 1px 3px 1px rgba(60, 64, 67, 0.15);\n",
              "      fill: #174EA6;\n",
              "    }\n",
              "\n",
              "    [theme=dark] .colab-df-convert {\n",
              "      background-color: #3B4455;\n",
              "      fill: #D2E3FC;\n",
              "    }\n",
              "\n",
              "    [theme=dark] .colab-df-convert:hover {\n",
              "      background-color: #434B5C;\n",
              "      box-shadow: 0px 1px 3px 1px rgba(0, 0, 0, 0.15);\n",
              "      filter: drop-shadow(0px 1px 2px rgba(0, 0, 0, 0.3));\n",
              "      fill: #FFFFFF;\n",
              "    }\n",
              "  </style>\n",
              "\n",
              "      <script>\n",
              "        const buttonEl =\n",
              "          document.querySelector('#df-bb9ed1b8-d60b-4b88-949c-a5b009f6a03a button.colab-df-convert');\n",
              "        buttonEl.style.display =\n",
              "          google.colab.kernel.accessAllowed ? 'block' : 'none';\n",
              "\n",
              "        async function convertToInteractive(key) {\n",
              "          const element = document.querySelector('#df-bb9ed1b8-d60b-4b88-949c-a5b009f6a03a');\n",
              "          const dataTable =\n",
              "            await google.colab.kernel.invokeFunction('convertToInteractive',\n",
              "                                                     [key], {});\n",
              "          if (!dataTable) return;\n",
              "\n",
              "          const docLinkHtml = 'Like what you see? Visit the ' +\n",
              "            '<a target=\"_blank\" href=https://colab.research.google.com/notebooks/data_table.ipynb>data table notebook</a>'\n",
              "            + ' to learn more about interactive tables.';\n",
              "          element.innerHTML = '';\n",
              "          dataTable['output_type'] = 'display_data';\n",
              "          await google.colab.output.renderOutput(dataTable, element);\n",
              "          const docLink = document.createElement('div');\n",
              "          docLink.innerHTML = docLinkHtml;\n",
              "          element.appendChild(docLink);\n",
              "        }\n",
              "      </script>\n",
              "    </div>\n",
              "  </div>\n",
              "  "
            ]
          },
          "metadata": {},
          "execution_count": 15
        }
      ]
    },
    {
      "cell_type": "code",
      "source": [
        "sentiment"
      ],
      "metadata": {
        "id": "mKYvHpYOKyC7"
      },
      "execution_count": null,
      "outputs": []
    },
    {
      "cell_type": "code",
      "source": [
        "data['Sentimento'] = sentiment"
      ],
      "metadata": {
        "id": "llEyHpkYKQNo"
      },
      "execution_count": null,
      "outputs": []
    },
    {
      "cell_type": "code",
      "source": [
        "data.to_csv('data_sentistrength_0606.csv')"
      ],
      "metadata": {
        "id": "a8q4R5XOKX0G"
      },
      "execution_count": null,
      "outputs": []
    },
    {
      "cell_type": "markdown",
      "source": [
        "### Gerando os gráficos"
      ],
      "metadata": {
        "id": "shT9ibQNYtn5"
      }
    },
    {
      "cell_type": "code",
      "source": [
        "data = pd.read_csv('data_sentistrength_0606.csv')"
      ],
      "metadata": {
        "id": "4CEoDSEAegkL"
      },
      "execution_count": null,
      "outputs": []
    },
    {
      "cell_type": "code",
      "source": [
        "#data = data.drop(['Unnamed: 0'], axis=1)"
      ],
      "metadata": {
        "id": "rwny0wObfw8V"
      },
      "execution_count": null,
      "outputs": []
    },
    {
      "cell_type": "code",
      "source": [
        "data['Sentimento'].value_counts().sort_index(ascending=False)"
      ],
      "metadata": {
        "colab": {
          "base_uri": "https://localhost:8080/"
        },
        "id": "MGqHChsXY-wO",
        "outputId": "674868f5-58e1-44cc-d3a0-c88fe589e7a7"
      },
      "execution_count": null,
      "outputs": [
        {
          "output_type": "execute_result",
          "data": {
            "text/plain": [
              " 3       8\n",
              " 2      56\n",
              " 1     346\n",
              " 0    1144\n",
              "-1     697\n",
              "-2     613\n",
              "-3     130\n",
              "-4       6\n",
              "Name: Sentimento, dtype: int64"
            ]
          },
          "metadata": {},
          "execution_count": 20
        }
      ]
    },
    {
      "cell_type": "code",
      "source": [
        "data.loc[data['id_noticia']==18].loc[data['Sentimento']==1]"
      ],
      "metadata": {
        "colab": {
          "base_uri": "https://localhost:8080/",
          "height": 1000
        },
        "id": "EVHV0fuXeOgU",
        "outputId": "7805f329-45a6-488b-b4c2-8e0f7ac6dfd1"
      },
      "execution_count": null,
      "outputs": [
        {
          "output_type": "execute_result",
          "data": {
            "text/plain": [
              "      Unnamed: 0  id_noticia            author_id             tweet_id  \\\n",
              "86            86          18  1087516737170485248  1163800260105375744   \n",
              "110          110          18  1130288400479739904  1163855271325831168   \n",
              "142          142          18             33991083  1163796617021087747   \n",
              "582          582          18           3239634581  1163878647431913477   \n",
              "619          619          18  1153786995254145024  1163797913086189568   \n",
              "790          790          18   771513085056147456  1163771486446002176   \n",
              "800          800          18   871472063055360001  1163750890962128896   \n",
              "820          820          18              8802752  1163791743302721536   \n",
              "858          858          18   882347895927836674  1164138259229925378   \n",
              "1037        1037          18            108021293  1163806714170396672   \n",
              "1281        1281          18            629522449  1163794274393174016   \n",
              "1336        1336          18   976978857772363776  1163794869447483397   \n",
              "1337        1337          18             14594813  1163809520226717697   \n",
              "1456        1456          18   849315369957371904  1163769208771088386   \n",
              "1750        1750          18             69084392  1163845883840081922   \n",
              "1827        1827          18            224408186  1163792044910927872   \n",
              "1836        1836          18            266817785  1163808342143143936   \n",
              "1954        1954          18            827786568  1163776815086936065   \n",
              "1978        1978          18            139709370  1163763577473458176   \n",
              "2032        2032          18            140795348  1163748174894444544   \n",
              "2078        2078          18  1039970989617176576  1163781925569478656   \n",
              "2113        2113          18   951093579652517888  1163781145433169920   \n",
              "2116        2116          18  1042807543213580288  1163782023317721088   \n",
              "2170        2170          18             24735250  1163810087296573441   \n",
              "2370        2370          18            364411991  1163795276903198720   \n",
              "2390        2390          18           2150327543  1163797388517105664   \n",
              "2410        2410          18  1017284437451689984  1163814822678417408   \n",
              "2451        2451          18            455182772  1163825324565684225   \n",
              "2538        2538          18           2595549907  1163831596966920193   \n",
              "2549        2549          18  1162513627586400262  1163816341091917824   \n",
              "2562        2562          18            903688718  1164146908539117568   \n",
              "2606        2606          18             51767272  1163748025614917634   \n",
              "2663        2663          18             55660992  1163790557568802816   \n",
              "2682        2682          18            420728421  1163790196418252800   \n",
              "\n",
              "      created_at   site                                               text  \\\n",
              "86    2019-08-20    UOL  parabéns aos policias  ! honraram a farda e pr...   \n",
              "110   2019-08-20  Folha              e a gasolina era fanta laranja kkkkkk   \n",
              "142   2019-08-20     G1                  o cpf foi cancelado! kkkkkkkkkkkk   \n",
              "582   2019-08-20    UOL                           kkkkkkkkkkkkkkkkkkkkkkkk   \n",
              "619   2019-08-20  Folha  e agora está em reunião com o capeta !!! cpf c...   \n",
              "790   2019-08-20     G1  quando ele sair sou a favor de jogar ele lá de...   \n",
              "800   2019-08-20     G1  esperando as pessoas virem justificar com polí...   \n",
              "820   2019-08-20     G1  segundo a pm, todos os reféns passavam bem no ...   \n",
              "858   2019-08-21    UOL  sei muito bem o que a depressão faz, minha mãe...   \n",
              "1037  2019-08-20     G1  mais um cpf cancelado os reféns, libertos!  #s...   \n",
              "1281  2019-08-20     G1  é 100% 14? então senta o dedo nessa porra! cap...   \n",
              "1336  2019-08-20     G1                          um sequestrador!!!!!!!!!!   \n",
              "1337  2019-08-20  Folha  \"o ideal era que todos saíssem vivos da operaç...   \n",
              "1456  2019-08-20     G1                     ainda segue o sequestro ?!!!!!   \n",
              "1750  2019-08-20  Folha  rt \"o ideal era que todos saíssem vivos da ope...   \n",
              "1827  2019-08-20     G1  parabéns pelo trabalho da e !! excelente traba...   \n",
              "1836  2019-08-20  Folha                       agora vai ter uma cova!!!!!!   \n",
              "1954  2019-08-20     G1            bem interessante a camuflagem do sniper   \n",
              "1978  2019-08-20     G1  vamos orar para esse homem se render e deixar ...   \n",
              "2032  2019-08-20     G1                  bem que ele poderia pular daponte   \n",
              "2078  2019-08-20     G1                     verdade eu era o banco e eu vi   \n",
              "2113  2019-08-20     G1  ele ao subir no ônibus se apresentou como polí...   \n",
              "2116  2019-08-20     G1  kkkkk me acabando de rir dos comentários, meus...   \n",
              "2170  2019-08-20    UOL  o que um militar armado estava fazendo em meio...   \n",
              "2370  2019-08-20     G1  parabéns para a policial!! que venha os doutri...   \n",
              "2390  2019-08-20  Folha       isso foi um aviso para todos os criminosos!!   \n",
              "2410  2019-08-20    UOL                            ah mano vc eh retardada   \n",
              "2451  2019-08-20     G1  i don't know i just happened to see it in my f...   \n",
              "2538  2019-08-20     G1  \"o ideal era que todos saíssem vivos, mas pref...   \n",
              "2549  2019-08-20    UOL  a besta do sbt está fazendo sucesso no meio do...   \n",
              "2562  2019-08-21    UOL                                    kkkkkkkkkkkkkkk   \n",
              "2606  2019-08-20     G1                 caramba! já de manhã? rio sem paz!   \n",
              "2663  2019-08-20     G1  chupa seus defensores de bandido , mais um cpf...   \n",
              "2682  2019-08-20    UOL  uai, achei que seria a pombinha branca que iri...   \n",
              "\n",
              "      rotulacao_manual id_rotulador  Sentimento  \n",
              "86                   1            S           1  \n",
              "110                  0            S           1  \n",
              "142                 -1            G           1  \n",
              "582                  0            G           1  \n",
              "619                 -1            M           1  \n",
              "790                  0            M           1  \n",
              "800                  0            S           1  \n",
              "820                  0            S           1  \n",
              "858                 -1            G           1  \n",
              "1037                 1            S           1  \n",
              "1281                -1            G           1  \n",
              "1336                 0            M           1  \n",
              "1337                 1            G           1  \n",
              "1456                -1            G           1  \n",
              "1750                 1            G           1  \n",
              "1827                 1            S           1  \n",
              "1836                -1            M           1  \n",
              "1954                 0            G           1  \n",
              "1978                 0            G           1  \n",
              "2032                -1            S           1  \n",
              "2078                 0            S           1  \n",
              "2113                 0            G           1  \n",
              "2116                 1            M           1  \n",
              "2170                -1            M           1  \n",
              "2370                 1            M           1  \n",
              "2390                 0            M           1  \n",
              "2410                -1            M           1  \n",
              "2451                 0            S           1  \n",
              "2538                 1            G           1  \n",
              "2549                 0            M           1  \n",
              "2562                 0            G           1  \n",
              "2606                -1            S           1  \n",
              "2663                -1            G           1  \n",
              "2682                 1            M           1  "
            ],
            "text/html": [
              "\n",
              "  <div id=\"df-67e4a76f-5429-4021-90d1-44af9609d0db\">\n",
              "    <div class=\"colab-df-container\">\n",
              "      <div>\n",
              "<style scoped>\n",
              "    .dataframe tbody tr th:only-of-type {\n",
              "        vertical-align: middle;\n",
              "    }\n",
              "\n",
              "    .dataframe tbody tr th {\n",
              "        vertical-align: top;\n",
              "    }\n",
              "\n",
              "    .dataframe thead th {\n",
              "        text-align: right;\n",
              "    }\n",
              "</style>\n",
              "<table border=\"1\" class=\"dataframe\">\n",
              "  <thead>\n",
              "    <tr style=\"text-align: right;\">\n",
              "      <th></th>\n",
              "      <th>Unnamed: 0</th>\n",
              "      <th>id_noticia</th>\n",
              "      <th>author_id</th>\n",
              "      <th>tweet_id</th>\n",
              "      <th>created_at</th>\n",
              "      <th>site</th>\n",
              "      <th>text</th>\n",
              "      <th>rotulacao_manual</th>\n",
              "      <th>id_rotulador</th>\n",
              "      <th>Sentimento</th>\n",
              "    </tr>\n",
              "  </thead>\n",
              "  <tbody>\n",
              "    <tr>\n",
              "      <th>86</th>\n",
              "      <td>86</td>\n",
              "      <td>18</td>\n",
              "      <td>1087516737170485248</td>\n",
              "      <td>1163800260105375744</td>\n",
              "      <td>2019-08-20</td>\n",
              "      <td>UOL</td>\n",
              "      <td>parabéns aos policias  ! honraram a farda e pr...</td>\n",
              "      <td>1</td>\n",
              "      <td>S</td>\n",
              "      <td>1</td>\n",
              "    </tr>\n",
              "    <tr>\n",
              "      <th>110</th>\n",
              "      <td>110</td>\n",
              "      <td>18</td>\n",
              "      <td>1130288400479739904</td>\n",
              "      <td>1163855271325831168</td>\n",
              "      <td>2019-08-20</td>\n",
              "      <td>Folha</td>\n",
              "      <td>e a gasolina era fanta laranja kkkkkk</td>\n",
              "      <td>0</td>\n",
              "      <td>S</td>\n",
              "      <td>1</td>\n",
              "    </tr>\n",
              "    <tr>\n",
              "      <th>142</th>\n",
              "      <td>142</td>\n",
              "      <td>18</td>\n",
              "      <td>33991083</td>\n",
              "      <td>1163796617021087747</td>\n",
              "      <td>2019-08-20</td>\n",
              "      <td>G1</td>\n",
              "      <td>o cpf foi cancelado! kkkkkkkkkkkk</td>\n",
              "      <td>-1</td>\n",
              "      <td>G</td>\n",
              "      <td>1</td>\n",
              "    </tr>\n",
              "    <tr>\n",
              "      <th>582</th>\n",
              "      <td>582</td>\n",
              "      <td>18</td>\n",
              "      <td>3239634581</td>\n",
              "      <td>1163878647431913477</td>\n",
              "      <td>2019-08-20</td>\n",
              "      <td>UOL</td>\n",
              "      <td>kkkkkkkkkkkkkkkkkkkkkkkk</td>\n",
              "      <td>0</td>\n",
              "      <td>G</td>\n",
              "      <td>1</td>\n",
              "    </tr>\n",
              "    <tr>\n",
              "      <th>619</th>\n",
              "      <td>619</td>\n",
              "      <td>18</td>\n",
              "      <td>1153786995254145024</td>\n",
              "      <td>1163797913086189568</td>\n",
              "      <td>2019-08-20</td>\n",
              "      <td>Folha</td>\n",
              "      <td>e agora está em reunião com o capeta !!! cpf c...</td>\n",
              "      <td>-1</td>\n",
              "      <td>M</td>\n",
              "      <td>1</td>\n",
              "    </tr>\n",
              "    <tr>\n",
              "      <th>790</th>\n",
              "      <td>790</td>\n",
              "      <td>18</td>\n",
              "      <td>771513085056147456</td>\n",
              "      <td>1163771486446002176</td>\n",
              "      <td>2019-08-20</td>\n",
              "      <td>G1</td>\n",
              "      <td>quando ele sair sou a favor de jogar ele lá de...</td>\n",
              "      <td>0</td>\n",
              "      <td>M</td>\n",
              "      <td>1</td>\n",
              "    </tr>\n",
              "    <tr>\n",
              "      <th>800</th>\n",
              "      <td>800</td>\n",
              "      <td>18</td>\n",
              "      <td>871472063055360001</td>\n",
              "      <td>1163750890962128896</td>\n",
              "      <td>2019-08-20</td>\n",
              "      <td>G1</td>\n",
              "      <td>esperando as pessoas virem justificar com polí...</td>\n",
              "      <td>0</td>\n",
              "      <td>S</td>\n",
              "      <td>1</td>\n",
              "    </tr>\n",
              "    <tr>\n",
              "      <th>820</th>\n",
              "      <td>820</td>\n",
              "      <td>18</td>\n",
              "      <td>8802752</td>\n",
              "      <td>1163791743302721536</td>\n",
              "      <td>2019-08-20</td>\n",
              "      <td>G1</td>\n",
              "      <td>segundo a pm, todos os reféns passavam bem no ...</td>\n",
              "      <td>0</td>\n",
              "      <td>S</td>\n",
              "      <td>1</td>\n",
              "    </tr>\n",
              "    <tr>\n",
              "      <th>858</th>\n",
              "      <td>858</td>\n",
              "      <td>18</td>\n",
              "      <td>882347895927836674</td>\n",
              "      <td>1164138259229925378</td>\n",
              "      <td>2019-08-21</td>\n",
              "      <td>UOL</td>\n",
              "      <td>sei muito bem o que a depressão faz, minha mãe...</td>\n",
              "      <td>-1</td>\n",
              "      <td>G</td>\n",
              "      <td>1</td>\n",
              "    </tr>\n",
              "    <tr>\n",
              "      <th>1037</th>\n",
              "      <td>1037</td>\n",
              "      <td>18</td>\n",
              "      <td>108021293</td>\n",
              "      <td>1163806714170396672</td>\n",
              "      <td>2019-08-20</td>\n",
              "      <td>G1</td>\n",
              "      <td>mais um cpf cancelado os reféns, libertos!  #s...</td>\n",
              "      <td>1</td>\n",
              "      <td>S</td>\n",
              "      <td>1</td>\n",
              "    </tr>\n",
              "    <tr>\n",
              "      <th>1281</th>\n",
              "      <td>1281</td>\n",
              "      <td>18</td>\n",
              "      <td>629522449</td>\n",
              "      <td>1163794274393174016</td>\n",
              "      <td>2019-08-20</td>\n",
              "      <td>G1</td>\n",
              "      <td>é 100% 14? então senta o dedo nessa porra! cap...</td>\n",
              "      <td>-1</td>\n",
              "      <td>G</td>\n",
              "      <td>1</td>\n",
              "    </tr>\n",
              "    <tr>\n",
              "      <th>1336</th>\n",
              "      <td>1336</td>\n",
              "      <td>18</td>\n",
              "      <td>976978857772363776</td>\n",
              "      <td>1163794869447483397</td>\n",
              "      <td>2019-08-20</td>\n",
              "      <td>G1</td>\n",
              "      <td>um sequestrador!!!!!!!!!!</td>\n",
              "      <td>0</td>\n",
              "      <td>M</td>\n",
              "      <td>1</td>\n",
              "    </tr>\n",
              "    <tr>\n",
              "      <th>1337</th>\n",
              "      <td>1337</td>\n",
              "      <td>18</td>\n",
              "      <td>14594813</td>\n",
              "      <td>1163809520226717697</td>\n",
              "      <td>2019-08-20</td>\n",
              "      <td>Folha</td>\n",
              "      <td>\"o ideal era que todos saíssem vivos da operaç...</td>\n",
              "      <td>1</td>\n",
              "      <td>G</td>\n",
              "      <td>1</td>\n",
              "    </tr>\n",
              "    <tr>\n",
              "      <th>1456</th>\n",
              "      <td>1456</td>\n",
              "      <td>18</td>\n",
              "      <td>849315369957371904</td>\n",
              "      <td>1163769208771088386</td>\n",
              "      <td>2019-08-20</td>\n",
              "      <td>G1</td>\n",
              "      <td>ainda segue o sequestro ?!!!!!</td>\n",
              "      <td>-1</td>\n",
              "      <td>G</td>\n",
              "      <td>1</td>\n",
              "    </tr>\n",
              "    <tr>\n",
              "      <th>1750</th>\n",
              "      <td>1750</td>\n",
              "      <td>18</td>\n",
              "      <td>69084392</td>\n",
              "      <td>1163845883840081922</td>\n",
              "      <td>2019-08-20</td>\n",
              "      <td>Folha</td>\n",
              "      <td>rt \"o ideal era que todos saíssem vivos da ope...</td>\n",
              "      <td>1</td>\n",
              "      <td>G</td>\n",
              "      <td>1</td>\n",
              "    </tr>\n",
              "    <tr>\n",
              "      <th>1827</th>\n",
              "      <td>1827</td>\n",
              "      <td>18</td>\n",
              "      <td>224408186</td>\n",
              "      <td>1163792044910927872</td>\n",
              "      <td>2019-08-20</td>\n",
              "      <td>G1</td>\n",
              "      <td>parabéns pelo trabalho da e !! excelente traba...</td>\n",
              "      <td>1</td>\n",
              "      <td>S</td>\n",
              "      <td>1</td>\n",
              "    </tr>\n",
              "    <tr>\n",
              "      <th>1836</th>\n",
              "      <td>1836</td>\n",
              "      <td>18</td>\n",
              "      <td>266817785</td>\n",
              "      <td>1163808342143143936</td>\n",
              "      <td>2019-08-20</td>\n",
              "      <td>Folha</td>\n",
              "      <td>agora vai ter uma cova!!!!!!</td>\n",
              "      <td>-1</td>\n",
              "      <td>M</td>\n",
              "      <td>1</td>\n",
              "    </tr>\n",
              "    <tr>\n",
              "      <th>1954</th>\n",
              "      <td>1954</td>\n",
              "      <td>18</td>\n",
              "      <td>827786568</td>\n",
              "      <td>1163776815086936065</td>\n",
              "      <td>2019-08-20</td>\n",
              "      <td>G1</td>\n",
              "      <td>bem interessante a camuflagem do sniper</td>\n",
              "      <td>0</td>\n",
              "      <td>G</td>\n",
              "      <td>1</td>\n",
              "    </tr>\n",
              "    <tr>\n",
              "      <th>1978</th>\n",
              "      <td>1978</td>\n",
              "      <td>18</td>\n",
              "      <td>139709370</td>\n",
              "      <td>1163763577473458176</td>\n",
              "      <td>2019-08-20</td>\n",
              "      <td>G1</td>\n",
              "      <td>vamos orar para esse homem se render e deixar ...</td>\n",
              "      <td>0</td>\n",
              "      <td>G</td>\n",
              "      <td>1</td>\n",
              "    </tr>\n",
              "    <tr>\n",
              "      <th>2032</th>\n",
              "      <td>2032</td>\n",
              "      <td>18</td>\n",
              "      <td>140795348</td>\n",
              "      <td>1163748174894444544</td>\n",
              "      <td>2019-08-20</td>\n",
              "      <td>G1</td>\n",
              "      <td>bem que ele poderia pular daponte</td>\n",
              "      <td>-1</td>\n",
              "      <td>S</td>\n",
              "      <td>1</td>\n",
              "    </tr>\n",
              "    <tr>\n",
              "      <th>2078</th>\n",
              "      <td>2078</td>\n",
              "      <td>18</td>\n",
              "      <td>1039970989617176576</td>\n",
              "      <td>1163781925569478656</td>\n",
              "      <td>2019-08-20</td>\n",
              "      <td>G1</td>\n",
              "      <td>verdade eu era o banco e eu vi</td>\n",
              "      <td>0</td>\n",
              "      <td>S</td>\n",
              "      <td>1</td>\n",
              "    </tr>\n",
              "    <tr>\n",
              "      <th>2113</th>\n",
              "      <td>2113</td>\n",
              "      <td>18</td>\n",
              "      <td>951093579652517888</td>\n",
              "      <td>1163781145433169920</td>\n",
              "      <td>2019-08-20</td>\n",
              "      <td>G1</td>\n",
              "      <td>ele ao subir no ônibus se apresentou como polí...</td>\n",
              "      <td>0</td>\n",
              "      <td>G</td>\n",
              "      <td>1</td>\n",
              "    </tr>\n",
              "    <tr>\n",
              "      <th>2116</th>\n",
              "      <td>2116</td>\n",
              "      <td>18</td>\n",
              "      <td>1042807543213580288</td>\n",
              "      <td>1163782023317721088</td>\n",
              "      <td>2019-08-20</td>\n",
              "      <td>G1</td>\n",
              "      <td>kkkkk me acabando de rir dos comentários, meus...</td>\n",
              "      <td>1</td>\n",
              "      <td>M</td>\n",
              "      <td>1</td>\n",
              "    </tr>\n",
              "    <tr>\n",
              "      <th>2170</th>\n",
              "      <td>2170</td>\n",
              "      <td>18</td>\n",
              "      <td>24735250</td>\n",
              "      <td>1163810087296573441</td>\n",
              "      <td>2019-08-20</td>\n",
              "      <td>UOL</td>\n",
              "      <td>o que um militar armado estava fazendo em meio...</td>\n",
              "      <td>-1</td>\n",
              "      <td>M</td>\n",
              "      <td>1</td>\n",
              "    </tr>\n",
              "    <tr>\n",
              "      <th>2370</th>\n",
              "      <td>2370</td>\n",
              "      <td>18</td>\n",
              "      <td>364411991</td>\n",
              "      <td>1163795276903198720</td>\n",
              "      <td>2019-08-20</td>\n",
              "      <td>G1</td>\n",
              "      <td>parabéns para a policial!! que venha os doutri...</td>\n",
              "      <td>1</td>\n",
              "      <td>M</td>\n",
              "      <td>1</td>\n",
              "    </tr>\n",
              "    <tr>\n",
              "      <th>2390</th>\n",
              "      <td>2390</td>\n",
              "      <td>18</td>\n",
              "      <td>2150327543</td>\n",
              "      <td>1163797388517105664</td>\n",
              "      <td>2019-08-20</td>\n",
              "      <td>Folha</td>\n",
              "      <td>isso foi um aviso para todos os criminosos!!</td>\n",
              "      <td>0</td>\n",
              "      <td>M</td>\n",
              "      <td>1</td>\n",
              "    </tr>\n",
              "    <tr>\n",
              "      <th>2410</th>\n",
              "      <td>2410</td>\n",
              "      <td>18</td>\n",
              "      <td>1017284437451689984</td>\n",
              "      <td>1163814822678417408</td>\n",
              "      <td>2019-08-20</td>\n",
              "      <td>UOL</td>\n",
              "      <td>ah mano vc eh retardada</td>\n",
              "      <td>-1</td>\n",
              "      <td>M</td>\n",
              "      <td>1</td>\n",
              "    </tr>\n",
              "    <tr>\n",
              "      <th>2451</th>\n",
              "      <td>2451</td>\n",
              "      <td>18</td>\n",
              "      <td>455182772</td>\n",
              "      <td>1163825324565684225</td>\n",
              "      <td>2019-08-20</td>\n",
              "      <td>G1</td>\n",
              "      <td>i don't know i just happened to see it in my f...</td>\n",
              "      <td>0</td>\n",
              "      <td>S</td>\n",
              "      <td>1</td>\n",
              "    </tr>\n",
              "    <tr>\n",
              "      <th>2538</th>\n",
              "      <td>2538</td>\n",
              "      <td>18</td>\n",
              "      <td>2595549907</td>\n",
              "      <td>1163831596966920193</td>\n",
              "      <td>2019-08-20</td>\n",
              "      <td>G1</td>\n",
              "      <td>\"o ideal era que todos saíssem vivos, mas pref...</td>\n",
              "      <td>1</td>\n",
              "      <td>G</td>\n",
              "      <td>1</td>\n",
              "    </tr>\n",
              "    <tr>\n",
              "      <th>2549</th>\n",
              "      <td>2549</td>\n",
              "      <td>18</td>\n",
              "      <td>1162513627586400262</td>\n",
              "      <td>1163816341091917824</td>\n",
              "      <td>2019-08-20</td>\n",
              "      <td>UOL</td>\n",
              "      <td>a besta do sbt está fazendo sucesso no meio do...</td>\n",
              "      <td>0</td>\n",
              "      <td>M</td>\n",
              "      <td>1</td>\n",
              "    </tr>\n",
              "    <tr>\n",
              "      <th>2562</th>\n",
              "      <td>2562</td>\n",
              "      <td>18</td>\n",
              "      <td>903688718</td>\n",
              "      <td>1164146908539117568</td>\n",
              "      <td>2019-08-21</td>\n",
              "      <td>UOL</td>\n",
              "      <td>kkkkkkkkkkkkkkk</td>\n",
              "      <td>0</td>\n",
              "      <td>G</td>\n",
              "      <td>1</td>\n",
              "    </tr>\n",
              "    <tr>\n",
              "      <th>2606</th>\n",
              "      <td>2606</td>\n",
              "      <td>18</td>\n",
              "      <td>51767272</td>\n",
              "      <td>1163748025614917634</td>\n",
              "      <td>2019-08-20</td>\n",
              "      <td>G1</td>\n",
              "      <td>caramba! já de manhã? rio sem paz!</td>\n",
              "      <td>-1</td>\n",
              "      <td>S</td>\n",
              "      <td>1</td>\n",
              "    </tr>\n",
              "    <tr>\n",
              "      <th>2663</th>\n",
              "      <td>2663</td>\n",
              "      <td>18</td>\n",
              "      <td>55660992</td>\n",
              "      <td>1163790557568802816</td>\n",
              "      <td>2019-08-20</td>\n",
              "      <td>G1</td>\n",
              "      <td>chupa seus defensores de bandido , mais um cpf...</td>\n",
              "      <td>-1</td>\n",
              "      <td>G</td>\n",
              "      <td>1</td>\n",
              "    </tr>\n",
              "    <tr>\n",
              "      <th>2682</th>\n",
              "      <td>2682</td>\n",
              "      <td>18</td>\n",
              "      <td>420728421</td>\n",
              "      <td>1163790196418252800</td>\n",
              "      <td>2019-08-20</td>\n",
              "      <td>UOL</td>\n",
              "      <td>uai, achei que seria a pombinha branca que iri...</td>\n",
              "      <td>1</td>\n",
              "      <td>M</td>\n",
              "      <td>1</td>\n",
              "    </tr>\n",
              "  </tbody>\n",
              "</table>\n",
              "</div>\n",
              "      <button class=\"colab-df-convert\" onclick=\"convertToInteractive('df-67e4a76f-5429-4021-90d1-44af9609d0db')\"\n",
              "              title=\"Convert this dataframe to an interactive table.\"\n",
              "              style=\"display:none;\">\n",
              "        \n",
              "  <svg xmlns=\"http://www.w3.org/2000/svg\" height=\"24px\"viewBox=\"0 0 24 24\"\n",
              "       width=\"24px\">\n",
              "    <path d=\"M0 0h24v24H0V0z\" fill=\"none\"/>\n",
              "    <path d=\"M18.56 5.44l.94 2.06.94-2.06 2.06-.94-2.06-.94-.94-2.06-.94 2.06-2.06.94zm-11 1L8.5 8.5l.94-2.06 2.06-.94-2.06-.94L8.5 2.5l-.94 2.06-2.06.94zm10 10l.94 2.06.94-2.06 2.06-.94-2.06-.94-.94-2.06-.94 2.06-2.06.94z\"/><path d=\"M17.41 7.96l-1.37-1.37c-.4-.4-.92-.59-1.43-.59-.52 0-1.04.2-1.43.59L10.3 9.45l-7.72 7.72c-.78.78-.78 2.05 0 2.83L4 21.41c.39.39.9.59 1.41.59.51 0 1.02-.2 1.41-.59l7.78-7.78 2.81-2.81c.8-.78.8-2.07 0-2.86zM5.41 20L4 18.59l7.72-7.72 1.47 1.35L5.41 20z\"/>\n",
              "  </svg>\n",
              "      </button>\n",
              "      \n",
              "  <style>\n",
              "    .colab-df-container {\n",
              "      display:flex;\n",
              "      flex-wrap:wrap;\n",
              "      gap: 12px;\n",
              "    }\n",
              "\n",
              "    .colab-df-convert {\n",
              "      background-color: #E8F0FE;\n",
              "      border: none;\n",
              "      border-radius: 50%;\n",
              "      cursor: pointer;\n",
              "      display: none;\n",
              "      fill: #1967D2;\n",
              "      height: 32px;\n",
              "      padding: 0 0 0 0;\n",
              "      width: 32px;\n",
              "    }\n",
              "\n",
              "    .colab-df-convert:hover {\n",
              "      background-color: #E2EBFA;\n",
              "      box-shadow: 0px 1px 2px rgba(60, 64, 67, 0.3), 0px 1px 3px 1px rgba(60, 64, 67, 0.15);\n",
              "      fill: #174EA6;\n",
              "    }\n",
              "\n",
              "    [theme=dark] .colab-df-convert {\n",
              "      background-color: #3B4455;\n",
              "      fill: #D2E3FC;\n",
              "    }\n",
              "\n",
              "    [theme=dark] .colab-df-convert:hover {\n",
              "      background-color: #434B5C;\n",
              "      box-shadow: 0px 1px 3px 1px rgba(0, 0, 0, 0.15);\n",
              "      filter: drop-shadow(0px 1px 2px rgba(0, 0, 0, 0.3));\n",
              "      fill: #FFFFFF;\n",
              "    }\n",
              "  </style>\n",
              "\n",
              "      <script>\n",
              "        const buttonEl =\n",
              "          document.querySelector('#df-67e4a76f-5429-4021-90d1-44af9609d0db button.colab-df-convert');\n",
              "        buttonEl.style.display =\n",
              "          google.colab.kernel.accessAllowed ? 'block' : 'none';\n",
              "\n",
              "        async function convertToInteractive(key) {\n",
              "          const element = document.querySelector('#df-67e4a76f-5429-4021-90d1-44af9609d0db');\n",
              "          const dataTable =\n",
              "            await google.colab.kernel.invokeFunction('convertToInteractive',\n",
              "                                                     [key], {});\n",
              "          if (!dataTable) return;\n",
              "\n",
              "          const docLinkHtml = 'Like what you see? Visit the ' +\n",
              "            '<a target=\"_blank\" href=https://colab.research.google.com/notebooks/data_table.ipynb>data table notebook</a>'\n",
              "            + ' to learn more about interactive tables.';\n",
              "          element.innerHTML = '';\n",
              "          dataTable['output_type'] = 'display_data';\n",
              "          await google.colab.output.renderOutput(dataTable, element);\n",
              "          const docLink = document.createElement('div');\n",
              "          docLink.innerHTML = docLinkHtml;\n",
              "          element.appendChild(docLink);\n",
              "        }\n",
              "      </script>\n",
              "    </div>\n",
              "  </div>\n",
              "  "
            ]
          },
          "metadata": {},
          "execution_count": 21
        }
      ]
    },
    {
      "cell_type": "code",
      "source": [
        "data['site'].value_counts()"
      ],
      "metadata": {
        "colab": {
          "base_uri": "https://localhost:8080/"
        },
        "id": "WSi4eilkbUfp",
        "outputId": "5e6354c2-8133-4fa2-d7f8-cbdaf4659e03"
      },
      "execution_count": null,
      "outputs": [
        {
          "output_type": "execute_result",
          "data": {
            "text/plain": [
              "G1       1633\n",
              "Folha     904\n",
              "UOL       435\n",
              "Uol        28\n",
              "Name: site, dtype: int64"
            ]
          },
          "metadata": {},
          "execution_count": 22
        }
      ]
    },
    {
      "cell_type": "code",
      "source": [
        "noticias = [18, 20, 21, 22, 23, 24, 25, 26]"
      ],
      "metadata": {
        "id": "gaKyKdEZe1r7"
      },
      "execution_count": null,
      "outputs": []
    },
    {
      "cell_type": "code",
      "source": [
        "data.loc[data['id_noticia'] == 22].loc[data['site'] == 'Folha']['Sentimento'].value_counts().sort_values()"
      ],
      "metadata": {
        "colab": {
          "base_uri": "https://localhost:8080/"
        },
        "id": "ZLuP_zuOmlfX",
        "outputId": "84fdeb9e-b7ef-4a36-be40-466714f9816a"
      },
      "execution_count": null,
      "outputs": [
        {
          "output_type": "execute_result",
          "data": {
            "text/plain": [
              "Series([], Name: Sentimento, dtype: int64)"
            ]
          },
          "metadata": {},
          "execution_count": 24
        }
      ]
    },
    {
      "cell_type": "code",
      "source": [
        "for i in noticias:\n",
        "  print(\"Notícia\", i)\n",
        "  print(data.loc[data['id_noticia'] == i]['site'].value_counts())\n",
        "  print('\\n')"
      ],
      "metadata": {
        "id": "46YzboeDkk7r",
        "colab": {
          "base_uri": "https://localhost:8080/"
        },
        "outputId": "4019f6fc-c3d1-4f5d-9e02-65b37220d7e7"
      },
      "execution_count": null,
      "outputs": [
        {
          "output_type": "stream",
          "name": "stdout",
          "text": [
            "Notícia 18\n",
            "G1       187\n",
            "UOL      138\n",
            "Folha     50\n",
            "Name: site, dtype: int64\n",
            "\n",
            "\n",
            "Notícia 20\n",
            "Folha    234\n",
            "UOL       74\n",
            "G1        67\n",
            "Name: site, dtype: int64\n",
            "\n",
            "\n",
            "Notícia 21\n",
            "Folha    202\n",
            "G1       117\n",
            "UOL       56\n",
            "Name: site, dtype: int64\n",
            "\n",
            "\n",
            "Notícia 22\n",
            "G1     331\n",
            "UOL     44\n",
            "Name: site, dtype: int64\n",
            "\n",
            "\n",
            "Notícia 23\n",
            "G1       347\n",
            "UOL       19\n",
            "Folha      9\n",
            "Name: site, dtype: int64\n",
            "\n",
            "\n",
            "Notícia 24\n",
            "G1       322\n",
            "Folha     37\n",
            "UOL       16\n",
            "Name: site, dtype: int64\n",
            "\n",
            "\n",
            "Notícia 25\n",
            "G1       173\n",
            "Folha    114\n",
            "UOL       88\n",
            "Name: site, dtype: int64\n",
            "\n",
            "\n",
            "Notícia 26\n",
            "Folha    258\n",
            "G1        89\n",
            "Uol       28\n",
            "Name: site, dtype: int64\n",
            "\n",
            "\n"
          ]
        }
      ]
    },
    {
      "cell_type": "code",
      "source": [
        "for i in noticias:\n",
        "  uol = data.loc[data['id_noticia'] == i].loc[data['site'] == 'UOL']['Sentimento'].values\n",
        "  folha = data.loc[data['id_noticia'] == i].loc[data['site'] == 'Folha']['Sentimento'].values\n",
        "  g1 = data.loc[data['id_noticia'] == i].loc[data['site'] == 'G1']['Sentimento'].values\n",
        "  \n",
        "\n",
        "  count_uol, bins_count_uol = np.histogram(uol, bins=10)\n",
        "  pdf_uol = count_uol / sum(count_uol)\n",
        "  count_folha, bins_count_folha = np.histogram(folha, bins=10)\n",
        "  pdf_folha = count_folha / sum(count_folha)\n",
        "  count_g1, bins_count_g1 = np.histogram(g1, bins=10)\n",
        "  pdf_g1 = count_g1 / sum(count_g1)\n",
        "\n",
        "  cdf_uol = np.cumsum(pdf_uol)\n",
        "  cdf_folha = np.cumsum(pdf_folha)\n",
        "  cdf_g1 = np.cumsum(pdf_g1)\n",
        "  \n",
        "  fig, ax = plt.subplots(figsize=(10, 4))\n",
        "  ax.plot(bins_count_uol[1:], cdf_uol, label='UOL')  # Plot some data on the axes.\n",
        "  ax.plot(bins_count_folha[1:], cdf_folha, label='Folha')  # Plot more data on the axes...\n",
        "  ax.plot(bins_count_g1[1:], cdf_g1, label='G1')  # ... and some more.\n",
        "  ax.set_ylabel('CDF')  # Add an x-label to the axes.\n",
        "  ax.set_xlabel('Sentimento')  # Add a y-label to the axes.\n",
        "  ax.set_title(\"Notícia \" + str(i))  # Add a title to the axes.\n",
        "  ax.legend();\n",
        "  plt.savefig(\"noticia_\"+str(i)+\".pdf\")"
      ],
      "metadata": {
        "colab": {
          "base_uri": "https://localhost:8080/",
          "height": 1000
        },
        "id": "rSV_HsYAf-0u",
        "outputId": "a19cdbf9-faf0-4f2c-a887-6e99d79a4039"
      },
      "execution_count": null,
      "outputs": [
        {
          "output_type": "stream",
          "name": "stderr",
          "text": [
            "/usr/local/lib/python3.7/dist-packages/ipykernel_launcher.py:10: RuntimeWarning: invalid value encountered in true_divide\n",
            "  # Remove the CWD from sys.path while we load stuff.\n",
            "/usr/local/lib/python3.7/dist-packages/ipykernel_launcher.py:8: RuntimeWarning: invalid value encountered in true_divide\n",
            "  \n"
          ]
        },
        {
          "output_type": "display_data",
          "data": {
            "text/plain": [
              "<Figure size 720x288 with 1 Axes>"
            ],
            "image/png": "[encoded data removed]"
          },
          "metadata": {
            "needs_background": "light"
          }
        },
        {
          "output_type": "display_data",
          "data": {
            "text/plain": [
              "<Figure size 720x288 with 1 Axes>"
            ],
            "image/png": "[encoded data removed]"
          },
          "metadata": {
            "needs_background": "light"
          }
        },
        {
          "output_type": "display_data",
          "data": {
            "text/plain": [
              "<Figure size 720x288 with 1 Axes>"
            ],
            "image/png": "[encoded data removed]"
          },
          "metadata": {
            "needs_background": "light"
          }
        },
        {
          "output_type": "display_data",
          "data": {
            "text/plain": [
              "<Figure size 720x288 with 1 Axes>"
            ],
            "image/png": "[encoded data removed]"
          },
          "metadata": {
            "needs_background": "light"
          }
        },
        {
          "output_type": "display_data",
          "data": {
            "text/plain": [
              "<Figure size 720x288 with 1 Axes>"
            ],
            "image/png": "[encoded data removed]"
          },
          "metadata": {
            "needs_background": "light"
          }
        },
        {
          "output_type": "display_data",
          "data": {
            "text/plain": [
              "<Figure size 720x288 with 1 Axes>"
            ],
            "image/png": "[encoded data removed]"
          },
          "metadata": {
            "needs_background": "light"
          }
        },
        {
          "output_type": "display_data",
          "data": {
            "text/plain": [
              "<Figure size 720x288 with 1 Axes>"
            ],
            "image/png": "[encoded data removed]"
          },
          "metadata": {
            "needs_background": "light"
          }
        },
        {
          "output_type": "display_data",
          "data": {
            "text/plain": [
              "<Figure size 720x288 with 1 Axes>"
            ],
            "image/png": "[encoded data removed]"
          },
          "metadata": {
            "needs_background": "light"
          }
        }
      ]
    },
    {
      "cell_type": "code",
      "source": [
        "data.loc[data['id_noticia'] == 18].loc[data['site'] == 'UOL']['Sentimento'].value_counts()"
      ],
      "metadata": {
        "colab": {
          "base_uri": "https://localhost:8080/"
        },
        "id": "HcSaOEcGH7VN",
        "outputId": "30dab027-0b22-4ebe-8bfe-980f6d01e7c2"
      },
      "execution_count": null,
      "outputs": [
        {
          "output_type": "execute_result",
          "data": {
            "text/plain": [
              " 0    59\n",
              "-1    32\n",
              "-2    27\n",
              " 1     8\n",
              " 2     6\n",
              "-3     4\n",
              " 3     2\n",
              "Name: Sentimento, dtype: int64"
            ]
          },
          "metadata": {},
          "execution_count": 27
        }
      ]
    },
    {
      "cell_type": "code",
      "source": [
        "data"
      ],
      "metadata": {
        "colab": {
          "base_uri": "https://localhost:8080/",
          "height": 1000
        },
        "id": "uokYdWWOOuc9",
        "outputId": "15ef9bf6-8a69-4b30-8db9-8506dc28e5f2"
      },
      "execution_count": null,
      "outputs": [
        {
          "output_type": "execute_result",
          "data": {
            "text/plain": [
              "      Unnamed: 0  id_noticia           author_id             tweet_id  \\\n",
              "0              0          22           390540335  1409510298579570699   \n",
              "1              1          18          2606714200  1163791130938486786   \n",
              "2              2          26          1398357042  1390373254154575873   \n",
              "3              3          18            79226451  1163942221449715712   \n",
              "4              4          23            23268961  1262814697222483970   \n",
              "...          ...         ...                 ...                  ...   \n",
              "2995        2995          26            57780014  1390443239329701890   \n",
              "2996        2996          25            17631203  1115233403610312704   \n",
              "2997        2997          20  708683504637317121  1175504587089948672   \n",
              "2998        2998          23  921575438614441984  1262971602104463360   \n",
              "2999        2999          21           283141832  1456979148702945280   \n",
              "\n",
              "      created_at   site                                               text  \\\n",
              "0     2021-06-28     G1                   morre em confronto, segundo a pm   \n",
              "1     2019-08-20     G1       parabéns por identificar um sniper camuflado   \n",
              "2     2021-05-06    Uol  operação com 25 mortos no jacarezinho é a mais...   \n",
              "3     2019-08-20    UOL                                     já teve minimi   \n",
              "4     2020-05-19     G1  morreu como? ele foi assassinado de forma cova...   \n",
              "...          ...    ...                                                ...   \n",
              "2995  2021-05-06  Folha  puts, menos de 200 traficantes mortos, não vou...   \n",
              "2996  2019-04-08  Folha  a deu um novo nome pra execução e tentativa de...   \n",
              "2997  2019-09-21  Folha           que bando de gente recalcada com a pm!!!   \n",
              "2998  2020-05-20     G1  eu não perco meu tempo discutindo com marionet...   \n",
              "2999  2021-11-06  Folha  esse povo baba  de polícia é o demônio , não c...   \n",
              "\n",
              "      rotulacao_manual id_rotulador  Sentimento  \n",
              "0                    0            M           0  \n",
              "1                    1            G           0  \n",
              "2                    0            S          -3  \n",
              "3                    0            S           0  \n",
              "4                   -1            M           0  \n",
              "...                ...          ...         ...  \n",
              "2995                -1            G          -2  \n",
              "2996                -1            S           0  \n",
              "2997                -1            M           1  \n",
              "2998                -1            G          -3  \n",
              "2999                -1            M          -3  \n",
              "\n",
              "[3000 rows x 10 columns]"
            ],
            "text/html": [
              "\n",
              "  <div id=\"df-ef21ec36-0716-452b-8726-b826cb22e90d\">\n",
              "    <div class=\"colab-df-container\">\n",
              "      <div>\n",
              "<style scoped>\n",
              "    .dataframe tbody tr th:only-of-type {\n",
              "        vertical-align: middle;\n",
              "    }\n",
              "\n",
              "    .dataframe tbody tr th {\n",
              "        vertical-align: top;\n",
              "    }\n",
              "\n",
              "    .dataframe thead th {\n",
              "        text-align: right;\n",
              "    }\n",
              "</style>\n",
              "<table border=\"1\" class=\"dataframe\">\n",
              "  <thead>\n",
              "    <tr style=\"text-align: right;\">\n",
              "      <th></th>\n",
              "      <th>Unnamed: 0</th>\n",
              "      <th>id_noticia</th>\n",
              "      <th>author_id</th>\n",
              "      <th>tweet_id</th>\n",
              "      <th>created_at</th>\n",
              "      <th>site</th>\n",
              "      <th>text</th>\n",
              "      <th>rotulacao_manual</th>\n",
              "      <th>id_rotulador</th>\n",
              "      <th>Sentimento</th>\n",
              "    </tr>\n",
              "  </thead>\n",
              "  <tbody>\n",
              "    <tr>\n",
              "      <th>0</th>\n",
              "      <td>0</td>\n",
              "      <td>22</td>\n",
              "      <td>390540335</td>\n",
              "      <td>1409510298579570699</td>\n",
              "      <td>2021-06-28</td>\n",
              "      <td>G1</td>\n",
              "      <td>morre em confronto, segundo a pm</td>\n",
              "      <td>0</td>\n",
              "      <td>M</td>\n",
              "      <td>0</td>\n",
              "    </tr>\n",
              "    <tr>\n",
              "      <th>1</th>\n",
              "      <td>1</td>\n",
              "      <td>18</td>\n",
              "      <td>2606714200</td>\n",
              "      <td>1163791130938486786</td>\n",
              "      <td>2019-08-20</td>\n",
              "      <td>G1</td>\n",
              "      <td>parabéns por identificar um sniper camuflado</td>\n",
              "      <td>1</td>\n",
              "      <td>G</td>\n",
              "      <td>0</td>\n",
              "    </tr>\n",
              "    <tr>\n",
              "      <th>2</th>\n",
              "      <td>2</td>\n",
              "      <td>26</td>\n",
              "      <td>1398357042</td>\n",
              "      <td>1390373254154575873</td>\n",
              "      <td>2021-05-06</td>\n",
              "      <td>Uol</td>\n",
              "      <td>operação com 25 mortos no jacarezinho é a mais...</td>\n",
              "      <td>0</td>\n",
              "      <td>S</td>\n",
              "      <td>-3</td>\n",
              "    </tr>\n",
              "    <tr>\n",
              "      <th>3</th>\n",
              "      <td>3</td>\n",
              "      <td>18</td>\n",
              "      <td>79226451</td>\n",
              "      <td>1163942221449715712</td>\n",
              "      <td>2019-08-20</td>\n",
              "      <td>UOL</td>\n",
              "      <td>já teve minimi</td>\n",
              "      <td>0</td>\n",
              "      <td>S</td>\n",
              "      <td>0</td>\n",
              "    </tr>\n",
              "    <tr>\n",
              "      <th>4</th>\n",
              "      <td>4</td>\n",
              "      <td>23</td>\n",
              "      <td>23268961</td>\n",
              "      <td>1262814697222483970</td>\n",
              "      <td>2020-05-19</td>\n",
              "      <td>G1</td>\n",
              "      <td>morreu como? ele foi assassinado de forma cova...</td>\n",
              "      <td>-1</td>\n",
              "      <td>M</td>\n",
              "      <td>0</td>\n",
              "    </tr>\n",
              "    <tr>\n",
              "      <th>...</th>\n",
              "      <td>...</td>\n",
              "      <td>...</td>\n",
              "      <td>...</td>\n",
              "      <td>...</td>\n",
              "      <td>...</td>\n",
              "      <td>...</td>\n",
              "      <td>...</td>\n",
              "      <td>...</td>\n",
              "      <td>...</td>\n",
              "      <td>...</td>\n",
              "    </tr>\n",
              "    <tr>\n",
              "      <th>2995</th>\n",
              "      <td>2995</td>\n",
              "      <td>26</td>\n",
              "      <td>57780014</td>\n",
              "      <td>1390443239329701890</td>\n",
              "      <td>2021-05-06</td>\n",
              "      <td>Folha</td>\n",
              "      <td>puts, menos de 200 traficantes mortos, não vou...</td>\n",
              "      <td>-1</td>\n",
              "      <td>G</td>\n",
              "      <td>-2</td>\n",
              "    </tr>\n",
              "    <tr>\n",
              "      <th>2996</th>\n",
              "      <td>2996</td>\n",
              "      <td>25</td>\n",
              "      <td>17631203</td>\n",
              "      <td>1115233403610312704</td>\n",
              "      <td>2019-04-08</td>\n",
              "      <td>Folha</td>\n",
              "      <td>a deu um novo nome pra execução e tentativa de...</td>\n",
              "      <td>-1</td>\n",
              "      <td>S</td>\n",
              "      <td>0</td>\n",
              "    </tr>\n",
              "    <tr>\n",
              "      <th>2997</th>\n",
              "      <td>2997</td>\n",
              "      <td>20</td>\n",
              "      <td>708683504637317121</td>\n",
              "      <td>1175504587089948672</td>\n",
              "      <td>2019-09-21</td>\n",
              "      <td>Folha</td>\n",
              "      <td>que bando de gente recalcada com a pm!!!</td>\n",
              "      <td>-1</td>\n",
              "      <td>M</td>\n",
              "      <td>1</td>\n",
              "    </tr>\n",
              "    <tr>\n",
              "      <th>2998</th>\n",
              "      <td>2998</td>\n",
              "      <td>23</td>\n",
              "      <td>921575438614441984</td>\n",
              "      <td>1262971602104463360</td>\n",
              "      <td>2020-05-20</td>\n",
              "      <td>G1</td>\n",
              "      <td>eu não perco meu tempo discutindo com marionet...</td>\n",
              "      <td>-1</td>\n",
              "      <td>G</td>\n",
              "      <td>-3</td>\n",
              "    </tr>\n",
              "    <tr>\n",
              "      <th>2999</th>\n",
              "      <td>2999</td>\n",
              "      <td>21</td>\n",
              "      <td>283141832</td>\n",
              "      <td>1456979148702945280</td>\n",
              "      <td>2021-11-06</td>\n",
              "      <td>Folha</td>\n",
              "      <td>esse povo baba  de polícia é o demônio , não c...</td>\n",
              "      <td>-1</td>\n",
              "      <td>M</td>\n",
              "      <td>-3</td>\n",
              "    </tr>\n",
              "  </tbody>\n",
              "</table>\n",
              "<p>3000 rows × 10 columns</p>\n",
              "</div>\n",
              "      <button class=\"colab-df-convert\" onclick=\"convertToInteractive('df-ef21ec36-0716-452b-8726-b826cb22e90d')\"\n",
              "              title=\"Convert this dataframe to an interactive table.\"\n",
              "              style=\"display:none;\">\n",
              "        \n",
              "  <svg xmlns=\"http://www.w3.org/2000/svg\" height=\"24px\"viewBox=\"0 0 24 24\"\n",
              "       width=\"24px\">\n",
              "    <path d=\"M0 0h24v24H0V0z\" fill=\"none\"/>\n",
              "    <path d=\"M18.56 5.44l.94 2.06.94-2.06 2.06-.94-2.06-.94-.94-2.06-.94 2.06-2.06.94zm-11 1L8.5 8.5l.94-2.06 2.06-.94-2.06-.94L8.5 2.5l-.94 2.06-2.06.94zm10 10l.94 2.06.94-2.06 2.06-.94-2.06-.94-.94-2.06-.94 2.06-2.06.94z\"/><path d=\"M17.41 7.96l-1.37-1.37c-.4-.4-.92-.59-1.43-.59-.52 0-1.04.2-1.43.59L10.3 9.45l-7.72 7.72c-.78.78-.78 2.05 0 2.83L4 21.41c.39.39.9.59 1.41.59.51 0 1.02-.2 1.41-.59l7.78-7.78 2.81-2.81c.8-.78.8-2.07 0-2.86zM5.41 20L4 18.59l7.72-7.72 1.47 1.35L5.41 20z\"/>\n",
              "  </svg>\n",
              "      </button>\n",
              "      \n",
              "  <style>\n",
              "    .colab-df-container {\n",
              "      display:flex;\n",
              "      flex-wrap:wrap;\n",
              "      gap: 12px;\n",
              "    }\n",
              "\n",
              "    .colab-df-convert {\n",
              "      background-color: #E8F0FE;\n",
              "      border: none;\n",
              "      border-radius: 50%;\n",
              "      cursor: pointer;\n",
              "      display: none;\n",
              "      fill: #1967D2;\n",
              "      height: 32px;\n",
              "      padding: 0 0 0 0;\n",
              "      width: 32px;\n",
              "    }\n",
              "\n",
              "    .colab-df-convert:hover {\n",
              "      background-color: #E2EBFA;\n",
              "      box-shadow: 0px 1px 2px rgba(60, 64, 67, 0.3), 0px 1px 3px 1px rgba(60, 64, 67, 0.15);\n",
              "      fill: #174EA6;\n",
              "    }\n",
              "\n",
              "    [theme=dark] .colab-df-convert {\n",
              "      background-color: #3B4455;\n",
              "      fill: #D2E3FC;\n",
              "    }\n",
              "\n",
              "    [theme=dark] .colab-df-convert:hover {\n",
              "      background-color: #434B5C;\n",
              "      box-shadow: 0px 1px 3px 1px rgba(0, 0, 0, 0.15);\n",
              "      filter: drop-shadow(0px 1px 2px rgba(0, 0, 0, 0.3));\n",
              "      fill: #FFFFFF;\n",
              "    }\n",
              "  </style>\n",
              "\n",
              "      <script>\n",
              "        const buttonEl =\n",
              "          document.querySelector('#df-ef21ec36-0716-452b-8726-b826cb22e90d button.colab-df-convert');\n",
              "        buttonEl.style.display =\n",
              "          google.colab.kernel.accessAllowed ? 'block' : 'none';\n",
              "\n",
              "        async function convertToInteractive(key) {\n",
              "          const element = document.querySelector('#df-ef21ec36-0716-452b-8726-b826cb22e90d');\n",
              "          const dataTable =\n",
              "            await google.colab.kernel.invokeFunction('convertToInteractive',\n",
              "                                                     [key], {});\n",
              "          if (!dataTable) return;\n",
              "\n",
              "          const docLinkHtml = 'Like what you see? Visit the ' +\n",
              "            '<a target=\"_blank\" href=https://colab.research.google.com/notebooks/data_table.ipynb>data table notebook</a>'\n",
              "            + ' to learn more about interactive tables.';\n",
              "          element.innerHTML = '';\n",
              "          dataTable['output_type'] = 'display_data';\n",
              "          await google.colab.output.renderOutput(dataTable, element);\n",
              "          const docLink = document.createElement('div');\n",
              "          docLink.innerHTML = docLinkHtml;\n",
              "          element.appendChild(docLink);\n",
              "        }\n",
              "      </script>\n",
              "    </div>\n",
              "  </div>\n",
              "  "
            ]
          },
          "metadata": {},
          "execution_count": 28
        }
      ]
    },
    {
      "cell_type": "code",
      "source": [
        "copia = data.copy()\n",
        "lista = []\n",
        "for i in copia['Sentimento'].values:\n",
        "  print(i)\n",
        "  if i < -1:\n",
        "    lista.append(-1)\n",
        "  elif i > 1:\n",
        "    lista.append(1)\n",
        "  else:\n",
        "    lista.append(0)\n",
        "\n",
        "copia['Sentimento'] = lista"
      ],
      "metadata": {
        "id": "c_lTtPPfNvEU"
      },
      "execution_count": null,
      "outputs": []
    },
    {
      "cell_type": "code",
      "source": [
        "copia"
      ],
      "metadata": {
        "colab": {
          "base_uri": "https://localhost:8080/",
          "height": 1000
        },
        "id": "P1TV53ojOqdV",
        "outputId": "599d6a24-81e8-4590-f9b2-434f2709958f"
      },
      "execution_count": null,
      "outputs": [
        {
          "output_type": "execute_result",
          "data": {
            "text/plain": [
              "      Unnamed: 0  id_noticia           author_id             tweet_id  \\\n",
              "0              0          22           390540335  1409510298579570699   \n",
              "1              1          18          2606714200  1163791130938486786   \n",
              "2              2          26          1398357042  1390373254154575873   \n",
              "3              3          18            79226451  1163942221449715712   \n",
              "4              4          23            23268961  1262814697222483970   \n",
              "...          ...         ...                 ...                  ...   \n",
              "2995        2995          26            57780014  1390443239329701890   \n",
              "2996        2996          25            17631203  1115233403610312704   \n",
              "2997        2997          20  708683504637317121  1175504587089948672   \n",
              "2998        2998          23  921575438614441984  1262971602104463360   \n",
              "2999        2999          21           283141832  1456979148702945280   \n",
              "\n",
              "      created_at   site                                               text  \\\n",
              "0     2021-06-28     G1                   morre em confronto, segundo a pm   \n",
              "1     2019-08-20     G1       parabéns por identificar um sniper camuflado   \n",
              "2     2021-05-06    Uol  operação com 25 mortos no jacarezinho é a mais...   \n",
              "3     2019-08-20    UOL                                     já teve minimi   \n",
              "4     2020-05-19     G1  morreu como? ele foi assassinado de forma cova...   \n",
              "...          ...    ...                                                ...   \n",
              "2995  2021-05-06  Folha  puts, menos de 200 traficantes mortos, não vou...   \n",
              "2996  2019-04-08  Folha  a deu um novo nome pra execução e tentativa de...   \n",
              "2997  2019-09-21  Folha           que bando de gente recalcada com a pm!!!   \n",
              "2998  2020-05-20     G1  eu não perco meu tempo discutindo com marionet...   \n",
              "2999  2021-11-06  Folha  esse povo baba  de polícia é o demônio , não c...   \n",
              "\n",
              "      rotulacao_manual id_rotulador  Sentimento  \n",
              "0                    0            M           0  \n",
              "1                    1            G           0  \n",
              "2                    0            S          -1  \n",
              "3                    0            S           0  \n",
              "4                   -1            M           0  \n",
              "...                ...          ...         ...  \n",
              "2995                -1            G          -1  \n",
              "2996                -1            S           0  \n",
              "2997                -1            M           0  \n",
              "2998                -1            G          -1  \n",
              "2999                -1            M          -1  \n",
              "\n",
              "[3000 rows x 10 columns]"
            ],
            "text/html": [
              "\n",
              "  <div id=\"df-72d05036-eb3e-4482-88ae-fe082893b95b\">\n",
              "    <div class=\"colab-df-container\">\n",
              "      <div>\n",
              "<style scoped>\n",
              "    .dataframe tbody tr th:only-of-type {\n",
              "        vertical-align: middle;\n",
              "    }\n",
              "\n",
              "    .dataframe tbody tr th {\n",
              "        vertical-align: top;\n",
              "    }\n",
              "\n",
              "    .dataframe thead th {\n",
              "        text-align: right;\n",
              "    }\n",
              "</style>\n",
              "<table border=\"1\" class=\"dataframe\">\n",
              "  <thead>\n",
              "    <tr style=\"text-align: right;\">\n",
              "      <th></th>\n",
              "      <th>Unnamed: 0</th>\n",
              "      <th>id_noticia</th>\n",
              "      <th>author_id</th>\n",
              "      <th>tweet_id</th>\n",
              "      <th>created_at</th>\n",
              "      <th>site</th>\n",
              "      <th>text</th>\n",
              "      <th>rotulacao_manual</th>\n",
              "      <th>id_rotulador</th>\n",
              "      <th>Sentimento</th>\n",
              "    </tr>\n",
              "  </thead>\n",
              "  <tbody>\n",
              "    <tr>\n",
              "      <th>0</th>\n",
              "      <td>0</td>\n",
              "      <td>22</td>\n",
              "      <td>390540335</td>\n",
              "      <td>1409510298579570699</td>\n",
              "      <td>2021-06-28</td>\n",
              "      <td>G1</td>\n",
              "      <td>morre em confronto, segundo a pm</td>\n",
              "      <td>0</td>\n",
              "      <td>M</td>\n",
              "      <td>0</td>\n",
              "    </tr>\n",
              "    <tr>\n",
              "      <th>1</th>\n",
              "      <td>1</td>\n",
              "      <td>18</td>\n",
              "      <td>2606714200</td>\n",
              "      <td>1163791130938486786</td>\n",
              "      <td>2019-08-20</td>\n",
              "      <td>G1</td>\n",
              "      <td>parabéns por identificar um sniper camuflado</td>\n",
              "      <td>1</td>\n",
              "      <td>G</td>\n",
              "      <td>0</td>\n",
              "    </tr>\n",
              "    <tr>\n",
              "      <th>2</th>\n",
              "      <td>2</td>\n",
              "      <td>26</td>\n",
              "      <td>1398357042</td>\n",
              "      <td>1390373254154575873</td>\n",
              "      <td>2021-05-06</td>\n",
              "      <td>Uol</td>\n",
              "      <td>operação com 25 mortos no jacarezinho é a mais...</td>\n",
              "      <td>0</td>\n",
              "      <td>S</td>\n",
              "      <td>-1</td>\n",
              "    </tr>\n",
              "    <tr>\n",
              "      <th>3</th>\n",
              "      <td>3</td>\n",
              "      <td>18</td>\n",
              "      <td>79226451</td>\n",
              "      <td>1163942221449715712</td>\n",
              "      <td>2019-08-20</td>\n",
              "      <td>UOL</td>\n",
              "      <td>já teve minimi</td>\n",
              "      <td>0</td>\n",
              "      <td>S</td>\n",
              "      <td>0</td>\n",
              "    </tr>\n",
              "    <tr>\n",
              "      <th>4</th>\n",
              "      <td>4</td>\n",
              "      <td>23</td>\n",
              "      <td>23268961</td>\n",
              "      <td>1262814697222483970</td>\n",
              "      <td>2020-05-19</td>\n",
              "      <td>G1</td>\n",
              "      <td>morreu como? ele foi assassinado de forma cova...</td>\n",
              "      <td>-1</td>\n",
              "      <td>M</td>\n",
              "      <td>0</td>\n",
              "    </tr>\n",
              "    <tr>\n",
              "      <th>...</th>\n",
              "      <td>...</td>\n",
              "      <td>...</td>\n",
              "      <td>...</td>\n",
              "      <td>...</td>\n",
              "      <td>...</td>\n",
              "      <td>...</td>\n",
              "      <td>...</td>\n",
              "      <td>...</td>\n",
              "      <td>...</td>\n",
              "      <td>...</td>\n",
              "    </tr>\n",
              "    <tr>\n",
              "      <th>2995</th>\n",
              "      <td>2995</td>\n",
              "      <td>26</td>\n",
              "      <td>57780014</td>\n",
              "      <td>1390443239329701890</td>\n",
              "      <td>2021-05-06</td>\n",
              "      <td>Folha</td>\n",
              "      <td>puts, menos de 200 traficantes mortos, não vou...</td>\n",
              "      <td>-1</td>\n",
              "      <td>G</td>\n",
              "      <td>-1</td>\n",
              "    </tr>\n",
              "    <tr>\n",
              "      <th>2996</th>\n",
              "      <td>2996</td>\n",
              "      <td>25</td>\n",
              "      <td>17631203</td>\n",
              "      <td>1115233403610312704</td>\n",
              "      <td>2019-04-08</td>\n",
              "      <td>Folha</td>\n",
              "      <td>a deu um novo nome pra execução e tentativa de...</td>\n",
              "      <td>-1</td>\n",
              "      <td>S</td>\n",
              "      <td>0</td>\n",
              "    </tr>\n",
              "    <tr>\n",
              "      <th>2997</th>\n",
              "      <td>2997</td>\n",
              "      <td>20</td>\n",
              "      <td>708683504637317121</td>\n",
              "      <td>1175504587089948672</td>\n",
              "      <td>2019-09-21</td>\n",
              "      <td>Folha</td>\n",
              "      <td>que bando de gente recalcada com a pm!!!</td>\n",
              "      <td>-1</td>\n",
              "      <td>M</td>\n",
              "      <td>0</td>\n",
              "    </tr>\n",
              "    <tr>\n",
              "      <th>2998</th>\n",
              "      <td>2998</td>\n",
              "      <td>23</td>\n",
              "      <td>921575438614441984</td>\n",
              "      <td>1262971602104463360</td>\n",
              "      <td>2020-05-20</td>\n",
              "      <td>G1</td>\n",
              "      <td>eu não perco meu tempo discutindo com marionet...</td>\n",
              "      <td>-1</td>\n",
              "      <td>G</td>\n",
              "      <td>-1</td>\n",
              "    </tr>\n",
              "    <tr>\n",
              "      <th>2999</th>\n",
              "      <td>2999</td>\n",
              "      <td>21</td>\n",
              "      <td>283141832</td>\n",
              "      <td>1456979148702945280</td>\n",
              "      <td>2021-11-06</td>\n",
              "      <td>Folha</td>\n",
              "      <td>esse povo baba  de polícia é o demônio , não c...</td>\n",
              "      <td>-1</td>\n",
              "      <td>M</td>\n",
              "      <td>-1</td>\n",
              "    </tr>\n",
              "  </tbody>\n",
              "</table>\n",
              "<p>3000 rows × 10 columns</p>\n",
              "</div>\n",
              "      <button class=\"colab-df-convert\" onclick=\"convertToInteractive('df-72d05036-eb3e-4482-88ae-fe082893b95b')\"\n",
              "              title=\"Convert this dataframe to an interactive table.\"\n",
              "              style=\"display:none;\">\n",
              "        \n",
              "  <svg xmlns=\"http://www.w3.org/2000/svg\" height=\"24px\"viewBox=\"0 0 24 24\"\n",
              "       width=\"24px\">\n",
              "    <path d=\"M0 0h24v24H0V0z\" fill=\"none\"/>\n",
              "    <path d=\"M18.56 5.44l.94 2.06.94-2.06 2.06-.94-2.06-.94-.94-2.06-.94 2.06-2.06.94zm-11 1L8.5 8.5l.94-2.06 2.06-.94-2.06-.94L8.5 2.5l-.94 2.06-2.06.94zm10 10l.94 2.06.94-2.06 2.06-.94-2.06-.94-.94-2.06-.94 2.06-2.06.94z\"/><path d=\"M17.41 7.96l-1.37-1.37c-.4-.4-.92-.59-1.43-.59-.52 0-1.04.2-1.43.59L10.3 9.45l-7.72 7.72c-.78.78-.78 2.05 0 2.83L4 21.41c.39.39.9.59 1.41.59.51 0 1.02-.2 1.41-.59l7.78-7.78 2.81-2.81c.8-.78.8-2.07 0-2.86zM5.41 20L4 18.59l7.72-7.72 1.47 1.35L5.41 20z\"/>\n",
              "  </svg>\n",
              "      </button>\n",
              "      \n",
              "  <style>\n",
              "    .colab-df-container {\n",
              "      display:flex;\n",
              "      flex-wrap:wrap;\n",
              "      gap: 12px;\n",
              "    }\n",
              "\n",
              "    .colab-df-convert {\n",
              "      background-color: #E8F0FE;\n",
              "      border: none;\n",
              "      border-radius: 50%;\n",
              "      cursor: pointer;\n",
              "      display: none;\n",
              "      fill: #1967D2;\n",
              "      height: 32px;\n",
              "      padding: 0 0 0 0;\n",
              "      width: 32px;\n",
              "    }\n",
              "\n",
              "    .colab-df-convert:hover {\n",
              "      background-color: #E2EBFA;\n",
              "      box-shadow: 0px 1px 2px rgba(60, 64, 67, 0.3), 0px 1px 3px 1px rgba(60, 64, 67, 0.15);\n",
              "      fill: #174EA6;\n",
              "    }\n",
              "\n",
              "    [theme=dark] .colab-df-convert {\n",
              "      background-color: #3B4455;\n",
              "      fill: #D2E3FC;\n",
              "    }\n",
              "\n",
              "    [theme=dark] .colab-df-convert:hover {\n",
              "      background-color: #434B5C;\n",
              "      box-shadow: 0px 1px 3px 1px rgba(0, 0, 0, 0.15);\n",
              "      filter: drop-shadow(0px 1px 2px rgba(0, 0, 0, 0.3));\n",
              "      fill: #FFFFFF;\n",
              "    }\n",
              "  </style>\n",
              "\n",
              "      <script>\n",
              "        const buttonEl =\n",
              "          document.querySelector('#df-72d05036-eb3e-4482-88ae-fe082893b95b button.colab-df-convert');\n",
              "        buttonEl.style.display =\n",
              "          google.colab.kernel.accessAllowed ? 'block' : 'none';\n",
              "\n",
              "        async function convertToInteractive(key) {\n",
              "          const element = document.querySelector('#df-72d05036-eb3e-4482-88ae-fe082893b95b');\n",
              "          const dataTable =\n",
              "            await google.colab.kernel.invokeFunction('convertToInteractive',\n",
              "                                                     [key], {});\n",
              "          if (!dataTable) return;\n",
              "\n",
              "          const docLinkHtml = 'Like what you see? Visit the ' +\n",
              "            '<a target=\"_blank\" href=https://colab.research.google.com/notebooks/data_table.ipynb>data table notebook</a>'\n",
              "            + ' to learn more about interactive tables.';\n",
              "          element.innerHTML = '';\n",
              "          dataTable['output_type'] = 'display_data';\n",
              "          await google.colab.output.renderOutput(dataTable, element);\n",
              "          const docLink = document.createElement('div');\n",
              "          docLink.innerHTML = docLinkHtml;\n",
              "          element.appendChild(docLink);\n",
              "        }\n",
              "      </script>\n",
              "    </div>\n",
              "  </div>\n",
              "  "
            ]
          },
          "metadata": {},
          "execution_count": 30
        }
      ]
    },
    {
      "cell_type": "code",
      "source": [
        "print(copia.loc[copia['id_noticia'] == 18].loc[copia['site'] == 'UOL']['Sentimento'].value_counts())"
      ],
      "metadata": {
        "colab": {
          "base_uri": "https://localhost:8080/"
        },
        "id": "kDVDAv4UTamk",
        "outputId": "a096d98b-4bb7-47d3-934c-a5a65efa34c8"
      },
      "execution_count": null,
      "outputs": [
        {
          "output_type": "stream",
          "name": "stdout",
          "text": [
            " 0    99\n",
            "-1    31\n",
            " 1     8\n",
            "Name: Sentimento, dtype: int64\n"
          ]
        }
      ]
    },
    {
      "cell_type": "code",
      "source": [
        "data[\"site\"].value_counts()"
      ],
      "metadata": {
        "colab": {
          "base_uri": "https://localhost:8080/"
        },
        "id": "0ctuxXJudPGL",
        "outputId": "039faad9-5039-42a5-ac7e-5ccc798afafd"
      },
      "execution_count": null,
      "outputs": [
        {
          "output_type": "execute_result",
          "data": {
            "text/plain": [
              "G1       1633\n",
              "Folha     904\n",
              "UOL       435\n",
              "Uol        28\n",
              "Name: site, dtype: int64"
            ]
          },
          "metadata": {},
          "execution_count": 32
        }
      ]
    },
    {
      "cell_type": "code",
      "source": [
        "import imblearn\n",
        "from collections import Counter"
      ],
      "metadata": {
        "id": "3UqU3eZxPpfu"
      },
      "execution_count": null,
      "outputs": []
    },
    {
      "cell_type": "code",
      "source": [
        "import seaborn as sns\n",
        " \n",
        "for i in noticias:\n",
        "  df = copia.loc[copia['id_noticia'] == i]\n",
        "\n",
        "  # count plot on two categorical variable\n",
        "  sns.countplot(x ='site', hue = \"Sentimento\", data = df)\n",
        "  \n",
        "  # Show the plot\n",
        "  plt.show()"
      ],
      "metadata": {
        "colab": {
          "base_uri": "https://localhost:8080/",
          "height": 1000
        },
        "id": "4-BgwbXCYQG6",
        "outputId": "a1f439c9-c069-4eeb-a527-9db6ab2b6294"
      },
      "execution_count": null,
      "outputs": [
        {
          "output_type": "display_data",
          "data": {
            "text/plain": [
              "<Figure size 432x288 with 1 Axes>"
            ],
            "image/png": "[encoded data removed]"
          },
          "metadata": {
            "needs_background": "light"
          }
        },
        {
          "output_type": "display_data",
          "data": {
            "text/plain": [
              "<Figure size 432x288 with 1 Axes>"
            ],
            "image/png": "[encoded data removed]"
          },
          "metadata": {
            "needs_background": "light"
          }
        },
        {
          "output_type": "display_data",
          "data": {
            "text/plain": [
              "<Figure size 432x288 with 1 Axes>"
            ],
            "image/png": "[encoded data removed]"
          },
          "metadata": {
            "needs_background": "light"
          }
        },
        {
          "output_type": "display_data",
          "data": {
            "text/plain": [
              "<Figure size 432x288 with 1 Axes>"
            ],
            "image/png": "[encoded data removed]"
          },
          "metadata": {
            "needs_background": "light"
          }
        },
        {
          "output_type": "display_data",
          "data": {
            "text/plain": [
              "<Figure size 432x288 with 1 Axes>"
            ],
            "image/png": "[encoded data removed]"
          },
          "metadata": {
            "needs_background": "light"
          }
        },
        {
          "output_type": "display_data",
          "data": {
            "text/plain": [
              "<Figure size 432x288 with 1 Axes>"
            ],
            "image/png": "[encoded data removed]"
          },
          "metadata": {
            "needs_background": "light"
          }
        },
        {
          "output_type": "display_data",
          "data": {
            "text/plain": [
              "<Figure size 432x288 with 1 Axes>"
            ],
            "image/png": "[encoded data removed]"
          },
          "metadata": {
            "needs_background": "light"
          }
        },
        {
          "output_type": "display_data",
          "data": {
            "text/plain": [
              "<Figure size 432x288 with 1 Axes>"
            ],
            "image/png": "[encoded data removed]"
          },
          "metadata": {
            "needs_background": "light"
          }
        }
      ]
    },
    {
      "cell_type": "code",
      "source": [
        "labels, counts = np.unique(data.loc[data['id_noticia'] == i].loc[data['site'] == 'UOL']['Sentimento'].values, return_counts=True)"
      ],
      "metadata": {
        "id": "uEneJjTveLd2"
      },
      "execution_count": null,
      "outputs": []
    },
    {
      "cell_type": "code",
      "source": [
        "max([1, 4, 5])"
      ],
      "metadata": {
        "colab": {
          "base_uri": "https://localhost:8080/"
        },
        "id": "A9rJ03tkehH3",
        "outputId": "3e770c2a-7bf9-4bdd-eb76-0c9cfe234013"
      },
      "execution_count": null,
      "outputs": [
        {
          "output_type": "execute_result",
          "data": {
            "text/plain": [
              "5"
            ]
          },
          "metadata": {},
          "execution_count": 37
        }
      ]
    },
    {
      "cell_type": "code",
      "source": [
        "for i in noticias:\n",
        "\n",
        "  labels1, counts = np.unique(data.loc[data['id_noticia'] == i].loc[data['site'] == 'UOL']['Sentimento'].values, return_counts=True)\n",
        "  labels2, counts = np.unique(data.loc[data['id_noticia'] == i].loc[data['site'] == 'UOL']['Sentimento'].values, return_counts=True)\n",
        "  labels3, counts = np.unique(data.loc[data['id_noticia'] == i].loc[data['site'] == 'UOL']['Sentimento'].values, return_counts=True)\n",
        "\n",
        "  n_bins = max([len(labels1), len(labels2), len(labels3)])\n",
        "  x = [data.loc[data['id_noticia'] == i].loc[data['site'] == 'UOL']['Sentimento'].values,\n",
        "      data.loc[data['id_noticia'] == i].loc[data['site'] == 'Folha']['Sentimento'].values,\n",
        "      data.loc[data['id_noticia'] == i].loc[data['site'] == 'G1']['Sentimento'].values]\n",
        "\n",
        "  fig, ax0 = plt.subplots(figsize=(12,6))\n",
        "\n",
        "  colors = ['red', 'tan', 'lime']\n",
        "  labels = ['UOL', 'Folha', 'G1']\n",
        "  ax0.hist(x, n_bins, density=True, histtype='bar', color=colors, label=labels)\n",
        "  ax0.legend(prop={'size': 10})\n",
        "  ax0.set_title('Noticia '+ str(i))\n",
        "\n",
        "  fig.tight_layout()\n",
        "  plt.show()"
      ],
      "metadata": {
        "colab": {
          "base_uri": "https://localhost:8080/",
          "height": 1000
        },
        "id": "kq8mfYWhM7P2",
        "outputId": "7ace2e4e-06f1-4114-b932-8bfb61068aac"
      },
      "execution_count": null,
      "outputs": [
        {
          "output_type": "stream",
          "name": "stderr",
          "text": [
            "/usr/local/lib/python3.7/dist-packages/numpy/core/fromnumeric.py:3208: VisibleDeprecationWarning: Creating an ndarray from ragged nested sequences (which is a list-or-tuple of lists-or-tuples-or ndarrays with different lengths or shapes) is deprecated. If you meant to do this, you must specify 'dtype=object' when creating the ndarray.\n",
            "  return asarray(a).size\n",
            "/usr/local/lib/python3.7/dist-packages/matplotlib/cbook/__init__.py:1376: VisibleDeprecationWarning: Creating an ndarray from ragged nested sequences (which is a list-or-tuple of lists-or-tuples-or ndarrays with different lengths or shapes) is deprecated. If you meant to do this, you must specify 'dtype=object' when creating the ndarray.\n",
            "  X = np.atleast_1d(X.T if isinstance(X, np.ndarray) else np.asarray(X))\n"
          ]
        },
        {
          "output_type": "display_data",
          "data": {
            "text/plain": [
              "<Figure size 864x432 with 1 Axes>"
            ],
            "image/png": "[encoded data removed]"
          },
          "metadata": {
            "needs_background": "light"
          }
        },
        {
          "output_type": "display_data",
          "data": {
            "text/plain": [
              "<Figure size 864x432 with 1 Axes>"
            ],
            "image/png": "[encoded data removed]"
          },
          "metadata": {
            "needs_background": "light"
          }
        },
        {
          "output_type": "display_data",
          "data": {
            "text/plain": [
              "<Figure size 864x432 with 1 Axes>"
            ],
            "image/png": "[encoded data removed]"
          },
          "metadata": {
            "needs_background": "light"
          }
        },
        {
          "output_type": "stream",
          "name": "stderr",
          "text": [
            "/usr/local/lib/python3.7/dist-packages/numpy/lib/histograms.py:906: RuntimeWarning: invalid value encountered in true_divide\n",
            "  return n/db/n.sum(), bin_edges\n"
          ]
        },
        {
          "output_type": "display_data",
          "data": {
            "text/plain": [
              "<Figure size 864x432 with 1 Axes>"
            ],
            "image/png": "[encoded data removed]"
          },
          "metadata": {
            "needs_background": "light"
          }
        },
        {
          "output_type": "display_data",
          "data": {
            "text/plain": [
              "<Figure size 864x432 with 1 Axes>"
            ],
            "image/png": "[encoded data removed]"
          },
          "metadata": {
            "needs_background": "light"
          }
        },
        {
          "output_type": "display_data",
          "data": {
            "text/plain": [
              "<Figure size 864x432 with 1 Axes>"
            ],
            "image/png": "[encoded data removed]"
          },
          "metadata": {
            "needs_background": "light"
          }
        },
        {
          "output_type": "display_data",
          "data": {
            "text/plain": [
              "<Figure size 864x432 with 1 Axes>"
            ],
            "image/png": "[encoded data removed]"
          },
          "metadata": {
            "needs_background": "light"
          }
        },
        {
          "output_type": "error",
          "ename": "ValueError",
          "evalue": "ignored",
          "traceback": [
            "\u001b[0;31m---------------------------------------------------------------------------\u001b[0m",
            "\u001b[0;31mValueError\u001b[0m                                Traceback (most recent call last)",
            "\u001b[0;32m<ipython-input-38-7d4472181818>\u001b[0m in \u001b[0;36m<module>\u001b[0;34m()\u001b[0m\n\u001b[1;32m     14\u001b[0m   \u001b[0mcolors\u001b[0m \u001b[0;34m=\u001b[0m \u001b[0;34m[\u001b[0m\u001b[0;34m'red'\u001b[0m\u001b[0;34m,\u001b[0m \u001b[0;34m'tan'\u001b[0m\u001b[0;34m,\u001b[0m \u001b[0;34m'lime'\u001b[0m\u001b[0;34m]\u001b[0m\u001b[0;34m\u001b[0m\u001b[0;34m\u001b[0m\u001b[0m\n\u001b[1;32m     15\u001b[0m   \u001b[0mlabels\u001b[0m \u001b[0;34m=\u001b[0m \u001b[0;34m[\u001b[0m\u001b[0;34m'UOL'\u001b[0m\u001b[0;34m,\u001b[0m \u001b[0;34m'Folha'\u001b[0m\u001b[0;34m,\u001b[0m \u001b[0;34m'G1'\u001b[0m\u001b[0;34m]\u001b[0m\u001b[0;34m\u001b[0m\u001b[0;34m\u001b[0m\u001b[0m\n\u001b[0;32m---> 16\u001b[0;31m   \u001b[0max0\u001b[0m\u001b[0;34m.\u001b[0m\u001b[0mhist\u001b[0m\u001b[0;34m(\u001b[0m\u001b[0mx\u001b[0m\u001b[0;34m,\u001b[0m \u001b[0mn_bins\u001b[0m\u001b[0;34m,\u001b[0m \u001b[0mdensity\u001b[0m\u001b[0;34m=\u001b[0m\u001b[0;32mTrue\u001b[0m\u001b[0;34m,\u001b[0m \u001b[0mhisttype\u001b[0m\u001b[0;34m=\u001b[0m\u001b[0;34m'bar'\u001b[0m\u001b[0;34m,\u001b[0m \u001b[0mcolor\u001b[0m\u001b[0;34m=\u001b[0m\u001b[0mcolors\u001b[0m\u001b[0;34m,\u001b[0m \u001b[0mlabel\u001b[0m\u001b[0;34m=\u001b[0m\u001b[0mlabels\u001b[0m\u001b[0;34m)\u001b[0m\u001b[0;34m\u001b[0m\u001b[0;34m\u001b[0m\u001b[0m\n\u001b[0m\u001b[1;32m     17\u001b[0m   \u001b[0max0\u001b[0m\u001b[0;34m.\u001b[0m\u001b[0mlegend\u001b[0m\u001b[0;34m(\u001b[0m\u001b[0mprop\u001b[0m\u001b[0;34m=\u001b[0m\u001b[0;34m{\u001b[0m\u001b[0;34m'size'\u001b[0m\u001b[0;34m:\u001b[0m \u001b[0;36m10\u001b[0m\u001b[0;34m}\u001b[0m\u001b[0;34m)\u001b[0m\u001b[0;34m\u001b[0m\u001b[0;34m\u001b[0m\u001b[0m\n\u001b[1;32m     18\u001b[0m   \u001b[0max0\u001b[0m\u001b[0;34m.\u001b[0m\u001b[0mset_title\u001b[0m\u001b[0;34m(\u001b[0m\u001b[0;34m'Noticia '\u001b[0m\u001b[0;34m+\u001b[0m \u001b[0mstr\u001b[0m\u001b[0;34m(\u001b[0m\u001b[0mi\u001b[0m\u001b[0;34m)\u001b[0m\u001b[0;34m)\u001b[0m\u001b[0;34m\u001b[0m\u001b[0;34m\u001b[0m\u001b[0m\n",
            "\u001b[0;32m/usr/local/lib/python3.7/dist-packages/matplotlib/__init__.py\u001b[0m in \u001b[0;36minner\u001b[0;34m(ax, data, *args, **kwargs)\u001b[0m\n\u001b[1;32m   1563\u001b[0m     \u001b[0;32mdef\u001b[0m \u001b[0minner\u001b[0m\u001b[0;34m(\u001b[0m\u001b[0max\u001b[0m\u001b[0;34m,\u001b[0m \u001b[0;34m*\u001b[0m\u001b[0margs\u001b[0m\u001b[0;34m,\u001b[0m \u001b[0mdata\u001b[0m\u001b[0;34m=\u001b[0m\u001b[0;32mNone\u001b[0m\u001b[0;34m,\u001b[0m \u001b[0;34m**\u001b[0m\u001b[0mkwargs\u001b[0m\u001b[0;34m)\u001b[0m\u001b[0;34m:\u001b[0m\u001b[0;34m\u001b[0m\u001b[0;34m\u001b[0m\u001b[0m\n\u001b[1;32m   1564\u001b[0m         \u001b[0;32mif\u001b[0m \u001b[0mdata\u001b[0m \u001b[0;32mis\u001b[0m \u001b[0;32mNone\u001b[0m\u001b[0;34m:\u001b[0m\u001b[0;34m\u001b[0m\u001b[0;34m\u001b[0m\u001b[0m\n\u001b[0;32m-> 1565\u001b[0;31m             \u001b[0;32mreturn\u001b[0m \u001b[0mfunc\u001b[0m\u001b[0;34m(\u001b[0m\u001b[0max\u001b[0m\u001b[0;34m,\u001b[0m \u001b[0;34m*\u001b[0m\u001b[0mmap\u001b[0m\u001b[0;34m(\u001b[0m\u001b[0msanitize_sequence\u001b[0m\u001b[0;34m,\u001b[0m \u001b[0margs\u001b[0m\u001b[0;34m)\u001b[0m\u001b[0;34m,\u001b[0m \u001b[0;34m**\u001b[0m\u001b[0mkwargs\u001b[0m\u001b[0;34m)\u001b[0m\u001b[0;34m\u001b[0m\u001b[0;34m\u001b[0m\u001b[0m\n\u001b[0m\u001b[1;32m   1566\u001b[0m \u001b[0;34m\u001b[0m\u001b[0m\n\u001b[1;32m   1567\u001b[0m         \u001b[0mbound\u001b[0m \u001b[0;34m=\u001b[0m \u001b[0mnew_sig\u001b[0m\u001b[0;34m.\u001b[0m\u001b[0mbind\u001b[0m\u001b[0;34m(\u001b[0m\u001b[0max\u001b[0m\u001b[0;34m,\u001b[0m \u001b[0;34m*\u001b[0m\u001b[0margs\u001b[0m\u001b[0;34m,\u001b[0m \u001b[0;34m**\u001b[0m\u001b[0mkwargs\u001b[0m\u001b[0;34m)\u001b[0m\u001b[0;34m\u001b[0m\u001b[0;34m\u001b[0m\u001b[0m\n",
            "\u001b[0;32m/usr/local/lib/python3.7/dist-packages/matplotlib/axes/_axes.py\u001b[0m in \u001b[0;36mhist\u001b[0;34m(self, x, bins, range, density, weights, cumulative, bottom, histtype, align, orientation, rwidth, log, color, label, stacked, **kwargs)\u001b[0m\n\u001b[1;32m   6644\u001b[0m                 \u001b[0m_w\u001b[0m \u001b[0;34m=\u001b[0m \u001b[0;32mNone\u001b[0m\u001b[0;34m\u001b[0m\u001b[0;34m\u001b[0m\u001b[0m\n\u001b[1;32m   6645\u001b[0m \u001b[0;34m\u001b[0m\u001b[0m\n\u001b[0;32m-> 6646\u001b[0;31m             \u001b[0mbins\u001b[0m \u001b[0;34m=\u001b[0m \u001b[0m_histogram_bin_edges\u001b[0m\u001b[0;34m(\u001b[0m\u001b[0mnp\u001b[0m\u001b[0;34m.\u001b[0m\u001b[0mconcatenate\u001b[0m\u001b[0;34m(\u001b[0m\u001b[0mx\u001b[0m\u001b[0;34m)\u001b[0m\u001b[0;34m,\u001b[0m \u001b[0mbins\u001b[0m\u001b[0;34m,\u001b[0m \u001b[0mbin_range\u001b[0m\u001b[0;34m,\u001b[0m \u001b[0m_w\u001b[0m\u001b[0;34m)\u001b[0m\u001b[0;34m\u001b[0m\u001b[0;34m\u001b[0m\u001b[0m\n\u001b[0m\u001b[1;32m   6647\u001b[0m         \u001b[0;32melse\u001b[0m\u001b[0;34m:\u001b[0m\u001b[0;34m\u001b[0m\u001b[0;34m\u001b[0m\u001b[0m\n\u001b[1;32m   6648\u001b[0m             \u001b[0mhist_kwargs\u001b[0m\u001b[0;34m[\u001b[0m\u001b[0;34m'range'\u001b[0m\u001b[0;34m]\u001b[0m \u001b[0;34m=\u001b[0m \u001b[0mbin_range\u001b[0m\u001b[0;34m\u001b[0m\u001b[0;34m\u001b[0m\u001b[0m\n",
            "\u001b[0;32m<__array_function__ internals>\u001b[0m in \u001b[0;36mhistogram_bin_edges\u001b[0;34m(*args, **kwargs)\u001b[0m\n",
            "\u001b[0;32m/usr/local/lib/python3.7/dist-packages/numpy/lib/histograms.py\u001b[0m in \u001b[0;36mhistogram_bin_edges\u001b[0;34m(a, bins, range, weights)\u001b[0m\n\u001b[1;32m    667\u001b[0m     \"\"\"\n\u001b[1;32m    668\u001b[0m     \u001b[0ma\u001b[0m\u001b[0;34m,\u001b[0m \u001b[0mweights\u001b[0m \u001b[0;34m=\u001b[0m \u001b[0m_ravel_and_check_weights\u001b[0m\u001b[0;34m(\u001b[0m\u001b[0ma\u001b[0m\u001b[0;34m,\u001b[0m \u001b[0mweights\u001b[0m\u001b[0;34m)\u001b[0m\u001b[0;34m\u001b[0m\u001b[0;34m\u001b[0m\u001b[0m\n\u001b[0;32m--> 669\u001b[0;31m     \u001b[0mbin_edges\u001b[0m\u001b[0;34m,\u001b[0m \u001b[0m_\u001b[0m \u001b[0;34m=\u001b[0m \u001b[0m_get_bin_edges\u001b[0m\u001b[0;34m(\u001b[0m\u001b[0ma\u001b[0m\u001b[0;34m,\u001b[0m \u001b[0mbins\u001b[0m\u001b[0;34m,\u001b[0m \u001b[0mrange\u001b[0m\u001b[0;34m,\u001b[0m \u001b[0mweights\u001b[0m\u001b[0;34m)\u001b[0m\u001b[0;34m\u001b[0m\u001b[0;34m\u001b[0m\u001b[0m\n\u001b[0m\u001b[1;32m    670\u001b[0m     \u001b[0;32mreturn\u001b[0m \u001b[0mbin_edges\u001b[0m\u001b[0;34m\u001b[0m\u001b[0;34m\u001b[0m\u001b[0m\n\u001b[1;32m    671\u001b[0m \u001b[0;34m\u001b[0m\u001b[0m\n",
            "\u001b[0;32m/usr/local/lib/python3.7/dist-packages/numpy/lib/histograms.py\u001b[0m in \u001b[0;36m_get_bin_edges\u001b[0;34m(a, bins, range, weights)\u001b[0m\n\u001b[1;32m    422\u001b[0m                 '`bins` must be an integer, a string, or an array') from e\n\u001b[1;32m    423\u001b[0m         \u001b[0;32mif\u001b[0m \u001b[0mn_equal_bins\u001b[0m \u001b[0;34m<\u001b[0m \u001b[0;36m1\u001b[0m\u001b[0;34m:\u001b[0m\u001b[0;34m\u001b[0m\u001b[0;34m\u001b[0m\u001b[0m\n\u001b[0;32m--> 424\u001b[0;31m             \u001b[0;32mraise\u001b[0m \u001b[0mValueError\u001b[0m\u001b[0;34m(\u001b[0m\u001b[0;34m'`bins` must be positive, when an integer'\u001b[0m\u001b[0;34m)\u001b[0m\u001b[0;34m\u001b[0m\u001b[0;34m\u001b[0m\u001b[0m\n\u001b[0m\u001b[1;32m    425\u001b[0m \u001b[0;34m\u001b[0m\u001b[0m\n\u001b[1;32m    426\u001b[0m         \u001b[0mfirst_edge\u001b[0m\u001b[0;34m,\u001b[0m \u001b[0mlast_edge\u001b[0m \u001b[0;34m=\u001b[0m \u001b[0m_get_outer_edges\u001b[0m\u001b[0;34m(\u001b[0m\u001b[0ma\u001b[0m\u001b[0;34m,\u001b[0m \u001b[0mrange\u001b[0m\u001b[0;34m)\u001b[0m\u001b[0;34m\u001b[0m\u001b[0;34m\u001b[0m\u001b[0m\n",
            "\u001b[0;31mValueError\u001b[0m: `bins` must be positive, when an integer"
          ]
        },
        {
          "output_type": "display_data",
          "data": {
            "text/plain": [
              "<Figure size 864x432 with 1 Axes>"
            ],
            "image/png": "[encoded data removed]"
          },
          "metadata": {
            "needs_background": "light"
          }
        }
      ]
    },
    {
      "cell_type": "code",
      "source": [
        ""
      ],
      "metadata": {
        "id": "UVtEMEqDliAF"
      },
      "execution_count": null,
      "outputs": []
    },
    {
      "cell_type": "code",
      "source": [
        ""
      ],
      "metadata": {
        "id": "KfjaYNR-lhut"
      },
      "execution_count": null,
      "outputs": []
    },
    {
      "cell_type": "markdown",
      "source": [
        ""
      ],
      "metadata": {
        "id": "jVBja8dKlhQT"
      }
    },
    {
      "cell_type": "markdown",
      "source": [
        ""
      ],
      "metadata": {
        "id": "ntcp2xvMlg2z"
      }
    },
    {
      "cell_type": "code",
      "source": [
        "for i in noticias:\n",
        "  n_bins = 10\n",
        "  x = [data.loc[data['id_noticia'] == i].loc[data['site'] == 'UOL']['Sentimento'].values,\n",
        "      data.loc[data['id_noticia'] == i].loc[data['site'] == 'Folha']['Sentimento'].values,\n",
        "      data.loc[data['id_noticia'] == i].loc[data['site'] == 'G1']['Sentimento'].values]\n",
        "\n",
        "  fig, ax1 = plt.subplots(figsize=(12,6))\n",
        "\n",
        "  colors = ['red', 'tan', 'lime']\n",
        "  labels = ['UOL', 'Folha', 'G1']\n",
        "  ax1.hist(x, n_bins, density=True, histtype='bar', stacked=True, label=labels)\n",
        "  ax1.set_title('stacked bar')\n",
        "  ax1.legend(prop={'size': 10})\n",
        "\n",
        "  fig.tight_layout()\n",
        "  plt.show()"
      ],
      "metadata": {
        "colab": {
          "base_uri": "https://localhost:8080/",
          "height": 1000
        },
        "id": "2a4w7bfYX_pM",
        "outputId": "f5bfbc1d-4816-4e31-b528-27e95f632865"
      },
      "execution_count": null,
      "outputs": [
        {
          "output_type": "stream",
          "name": "stderr",
          "text": [
            "/usr/local/lib/python3.7/dist-packages/numpy/core/fromnumeric.py:3208: VisibleDeprecationWarning: Creating an ndarray from ragged nested sequences (which is a list-or-tuple of lists-or-tuples-or ndarrays with different lengths or shapes) is deprecated. If you meant to do this, you must specify 'dtype=object' when creating the ndarray.\n",
            "  return asarray(a).size\n",
            "/usr/local/lib/python3.7/dist-packages/matplotlib/cbook/__init__.py:1376: VisibleDeprecationWarning: Creating an ndarray from ragged nested sequences (which is a list-or-tuple of lists-or-tuples-or ndarrays with different lengths or shapes) is deprecated. If you meant to do this, you must specify 'dtype=object' when creating the ndarray.\n",
            "  X = np.atleast_1d(X.T if isinstance(X, np.ndarray) else np.asarray(X))\n"
          ]
        },
        {
          "output_type": "display_data",
          "data": {
            "text/plain": [
              "<Figure size 864x432 with 1 Axes>"
            ],
            "image/png": "[encoded data removed]"
          },
          "metadata": {
            "needs_background": "light"
          }
        },
        {
          "output_type": "display_data",
          "data": {
            "text/plain": [
              "<Figure size 864x432 with 1 Axes>"
            ],
            "image/png": "[encoded data removed]"
          },
          "metadata": {
            "needs_background": "light"
          }
        },
        {
          "output_type": "display_data",
          "data": {
            "text/plain": [
              "<Figure size 864x432 with 1 Axes>"
            ],
            "image/png": "[encoded data removed]"
          },
          "metadata": {
            "needs_background": "light"
          }
        },
        {
          "output_type": "display_data",
          "data": {
            "text/plain": [
              "<Figure size 864x432 with 1 Axes>"
            ],
            "image/png": "[encoded data removed]"
          },
          "metadata": {
            "needs_background": "light"
          }
        },
        {
          "output_type": "display_data",
          "data": {
            "text/plain": [
              "<Figure size 864x432 with 1 Axes>"
            ],
            "image/png": "[encoded data removed]"
          },
          "metadata": {
            "needs_background": "light"
          }
        },
        {
          "output_type": "display_data",
          "data": {
            "text/plain": [
              "<Figure size 864x432 with 1 Axes>"
            ],
            "image/png": "[encoded data removed]"
          },
          "metadata": {
            "needs_background": "light"
          }
        },
        {
          "output_type": "display_data",
          "data": {
            "text/plain": [
              "<Figure size 864x432 with 1 Axes>"
            ],
            "image/png": "[encoded data removed]"
          },
          "metadata": {
            "needs_background": "light"
          }
        },
        {
          "output_type": "display_data",
          "data": {
            "text/plain": [
              "<Figure size 864x432 with 1 Axes>"
            ],
            "image/png": "[encoded data removed]"
          },
          "metadata": {
            "needs_background": "light"
          }
        }
      ]
    },
    {
      "cell_type": "code",
      "source": [
        "sns.histplot(x ='Sentimento', hue = \"site\", data = data, stat=\"percent\", multiple=\"dodge\", discrete=True, shrink=.8)\n",
        "\n",
        "# Show the plot\n",
        "plt.show()"
      ],
      "metadata": {
        "colab": {
          "base_uri": "https://localhost:8080/",
          "height": 279
        },
        "id": "zkx4NpEem7n6",
        "outputId": "d37ae798-a384-49d3-bea8-83130df5e2d8"
      },
      "execution_count": null,
      "outputs": [
        {
          "output_type": "display_data",
          "data": {
            "text/plain": [
              "<Figure size 432x288 with 1 Axes>"
            ],
            "image/png": "[encoded data removed]"
          },
          "metadata": {
            "needs_background": "light"
          }
        }
      ]
    },
    {
      "cell_type": "code",
      "source": [
        "data"
      ],
      "metadata": {
        "id": "eululevvN4Fi"
      },
      "execution_count": null,
      "outputs": []
    }
  ]
}